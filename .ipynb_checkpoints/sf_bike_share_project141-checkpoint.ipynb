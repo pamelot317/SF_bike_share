{
 "cells": [
  {
   "cell_type": "markdown",
   "metadata": {},
   "source": [
    "# Common Codes"
   ]
  },
  {
   "cell_type": "code",
   "execution_count": 3,
   "metadata": {
    "collapsed": false
   },
   "outputs": [],
   "source": [
    "import datetime\n",
    "import matplotlib\n",
    "import matplotlib.pyplot as plt\n",
    "from geojson import dumps\n",
    "import geojson as g\n",
    "%matplotlib inline\n",
    "plt.style.use('ggplot')\n",
    "import numpy as np\n",
    "import pandas as pd\n",
    "#import geoplotlib"
   ]
  },
  {
   "cell_type": "code",
   "execution_count": 7,
   "metadata": {
    "collapsed": true
   },
   "outputs": [],
   "source": [
    "#more imports: Ashkan's additions\n",
    "import gmplot\n",
    "import plotly.plotly as py\n",
    "import plotly.graph_objs as go\n",
    "mapbox_token = 'pk.eyJ1IjoiYXNoa2Fuc2Fib29yaSIsImEiOiJjaXp5djVldTMwM2FtMzNveHRpaTFqdHhyIn0.uVPRMwfIuYE_3j3jRajBFA'"
   ]
  },
  {
   "cell_type": "code",
   "execution_count": 48,
   "metadata": {
    "collapsed": false
   },
   "outputs": [],
   "source": [
    "def read_data(path, year):\n",
    "    \"\"\"\n",
    "    reads csv data and returns 4 data frames for the given year\n",
    "    input: path\n",
    "    output: 4 data frames (station, status, trip, and weather)\n",
    "    \"\"\"\n",
    "        \n",
    "    path = path + '/' + str(year) + '/'\n",
    "    if year == 2014:\n",
    "        station1 = pd.read_csv(path + 'station1.csv')\n",
    "        station2 = pd.read_csv(path + 'station2.csv')\n",
    "        status1 = pd.read_csv(path + 'status1.csv')\n",
    "        status2 = pd.read_csv(path + 'status2.csv')\n",
    "        trip1 = pd.read_csv(path + 'trip1.csv')\n",
    "        trip2 = pd.read_csv(path + 'trip2.csv')\n",
    "        weather1 = pd.read_csv(path + 'weather1.csv')\n",
    "        weather2 = pd.read_csv(path + 'weather2.csv')\n",
    "        station = pd.concat([station1, station2])\n",
    "        status = pd.concat([status1, status2])\n",
    "        trip = pd.concat([trip1, trip2])\n",
    "        weather = pd.concat([weather1, weather2])\n",
    "    \n",
    "    else: \n",
    "        station = pd.read_csv(path + 'station.csv')\n",
    "        status = pd.read_csv(path + 'status.csv')\n",
    "        trip = pd.read_csv(path + 'trip.csv')\n",
    "        weather = pd.read_csv(path + 'weather.csv')\n",
    "    \n",
    "    return station, status , trip, weather"
   ]
  },
  {
   "cell_type": "markdown",
   "metadata": {},
   "source": [
    "# ZAMIR'S CODES"
   ]
  },
  {
   "cell_type": "code",
   "execution_count": 8,
   "metadata": {
    "collapsed": false
   },
   "outputs": [],
   "source": [
    "station16, status16, trip16, weather16 = read_data('./', 2016)"
   ]
  },
  {
   "cell_type": "code",
   "execution_count": null,
   "metadata": {
    "collapsed": true
   },
   "outputs": [],
   "source": [
    "#Convert status time to pd.datetime\n",
    "status16['time'] = pd.to_datetime(status16.time, infer_datetime_format = True)"
   ]
  },
  {
   "cell_type": "code",
   "execution_count": 9,
   "metadata": {
    "collapsed": true
   },
   "outputs": [],
   "source": [
    "station16 = station16.dropna()"
   ]
  },
  {
   "cell_type": "code",
   "execution_count": 10,
   "metadata": {
    "collapsed": false
   },
   "outputs": [
    {
     "name": "stdout",
     "output_type": "stream",
     "text": [
      "Size of station DF (67, 7)\n",
      "Size of status DF (35517185, 4)\n",
      "Size of trip DF (313689, 11)\n",
      "Size of weather DF (1830, 24)\n"
     ]
    }
   ],
   "source": [
    "print 'Size of station DF {}'.format(station16.shape)\n",
    "print 'Size of status DF {}'.format(status16.shape)\n",
    "print 'Size of trip DF {}'.format(trip16.shape)\n",
    "print 'Size of weather DF {}'.format(weather16.shape)"
   ]
  },
  {
   "cell_type": "code",
   "execution_count": 11,
   "metadata": {
    "collapsed": false
   },
   "outputs": [],
   "source": [
    "trip16 = trip16.rename(columns={'Start Terminal' : 'station_id'})\n",
    "merged_st = pd.merge(station16, trip16, on = 'station_id')"
   ]
  },
  {
   "cell_type": "markdown",
   "metadata": {},
   "source": [
    "### Statistics about bike rides"
   ]
  },
  {
   "cell_type": "code",
   "execution_count": 12,
   "metadata": {
    "collapsed": false
   },
   "outputs": [
    {
     "name": "stdout",
     "output_type": "stream",
     "text": [
      "number of bike rides between 09/01/2015 and 08/31/2016 : 312126\n",
      "averaging about 13 minutes per ride\n",
      "total riding time is 71729 hours\n",
      "or 2988 days\n",
      "or 8 years\n"
     ]
    }
   ],
   "source": [
    "total_duration = sum(merged_st.Duration)\n",
    "print 'number of bike rides between 09/01/2015 and 08/31/2016 : {}'.format(len(merged_st['Trip ID']))\n",
    "print 'averaging about {} minutes per ride'.format(total_duration/(len(merged_st['Trip ID']) *60))\n",
    "print 'total riding time is {} hours'.format(total_duration/3600)\n",
    "print 'or {} days'.format(total_duration/(3600 * 24))\n",
    "print 'or {} years'.format(total_duration / (3600 * 24 * 365))"
   ]
  },
  {
   "cell_type": "markdown",
   "metadata": {},
   "source": [
    "### trip counts by subscription types"
   ]
  },
  {
   "cell_type": "code",
   "execution_count": 13,
   "metadata": {
    "collapsed": false
   },
   "outputs": [
    {
     "data": {
      "image/png": "[encoded data removed]",
      "text/plain": [
       "<matplotlib.figure.Figure at 0x196c0a290>"
      ]
     },
     "metadata": {},
     "output_type": "display_data"
    }
   ],
   "source": [
    "totals = merged_st['Subscriber Type'].value_counts()\n",
    "Subscribers, Customers = totals[0], totals[1]\n",
    "import plotly.graph_objs as go\n",
    "\n",
    "fig = {\n",
    "    'data': [{'labels': ['Subscribers', 'Customers'],\n",
    "              'values': [Subscribers, Customers],\n",
    "              'type': 'pie'}],\n",
    "    'layout': {'title': 'Trip counts by customer types'}\n",
    "     }\n",
    "\n",
    "py.iplot(fig)"
   ]
  },
  {
   "cell_type": "markdown",
   "metadata": {},
   "source": [
    "### trip counts by cities"
   ]
  },
  {
   "cell_type": "code",
   "execution_count": 14,
   "metadata": {
    "collapsed": false
   },
   "outputs": [
    {
     "data": {
      "image/png": "[encoded data removed]",
      "text/plain": [
       "<matplotlib.figure.Figure at 0x193fe6610>"
      ]
     },
     "metadata": {},
     "output_type": "display_data"
    }
   ],
   "source": [
    "by_cities = merged_st.landmark.value_counts()\n",
    "sf, sj, mv, pa = by_cities[0], by_cities[1], by_cities[2], by_cities[3]\n",
    "fig_cities = {\n",
    "    'data': [{'labels': ['San Francisco', 'San Jose', 'Mountain View', 'Palo Alto'],\n",
    "              'values': [sf, sj, mv, pa],\n",
    "              'type': 'pie'}],\n",
    "    'layout': {'title': 'Trip counts by cities'}\n",
    "     }\n",
    "\n",
    "py.iplot(fig_cities)"
   ]
  },
  {
   "cell_type": "markdown",
   "metadata": {},
   "source": [
    "### most popular five starting stations"
   ]
  },
  {
   "cell_type": "code",
   "execution_count": 15,
   "metadata": {
    "collapsed": false
   },
   "outputs": [
    {
     "data": {
      "text/plain": [
       "San Francisco Caltrain (Townsend at 4th)    23591\n",
       "San Francisco Caltrain 2 (330 Townsend)     22358\n",
       "Harry Bridges Plaza (Ferry Building)        16128\n",
       "2nd at Townsend                             14099\n",
       "Steuart at Market                           13693\n",
       "Name: name, dtype: int64"
      ]
     },
     "execution_count": 15,
     "metadata": {},
     "output_type": "execute_result"
    }
   ],
   "source": [
    "trip_counts = pd.DataFrame(merged_st.sort_values(by = 'station_id').station_id.value_counts())\n",
    "trip_counts = trip_counts.reset_index().rename(columns = {'station_id' : 'trip_counts',\n",
    "                                                          'index' : 'station_id'})\n",
    "station_merged = pd.merge(station16, trip_counts, on = 'station_id')"
   ]
  },
  {
   "cell_type": "code",
   "execution_count": null,
   "metadata": {
    "collapsed": true
   },
   "outputs": [],
   "source": [
    "start_stations = trip16[['Start Station', 'Duration']]\n",
    "grouped = (start_stations.groupby('Start Station').\n",
    "                sum().\n",
    "                sort_values(by = 'Duration', ascending = False))"
   ]
  },
  {
   "cell_type": "code",
   "execution_count": null,
   "metadata": {
    "collapsed": true
   },
   "outputs": [],
   "source": [
    "merged_st.name.value_counts()[:5] #most popular five starting stations"
   ]
  },
  {
   "cell_type": "code",
   "execution_count": null,
   "metadata": {
    "collapsed": true
   },
   "outputs": [],
   "source": [
    "calstations = pd.read_excel('caltrain_coordinates.xlsx')\n",
    "calstations['station_type'] = 'caltrain'\n",
    "calstations['dockcount'] = 0\n",
    "calstations['trip_counts'] = 0\n",
    "calstations['station_id'] = 0\n",
    "calstations['installation'] = 0 \n",
    "calstations = calstations.rename(columns={'caltrain_name' : 'name'})\n",
    "calstations = calstations[['installation','station_id','name', 'lat', 'long', 'dockcount', 'trip_counts', 'station_type', 'passengers']]"
   ]
  },
  {
   "cell_type": "code",
   "execution_count": null,
   "metadata": {
    "collapsed": true
   },
   "outputs": [],
   "source": [
    "df_for_map = station_merged[['installation','station_id','name', 'lat', 'long', 'dockcount', 'trip_counts']]\n",
    "df_for_map['station_type'] = 'bike_station'\n",
    "df_for_map['passengers'] = 0\n",
    "df_for_map = df_for_map.append(calstations)\n",
    "df_for_map.reset_index(drop='index', inplace = True)"
   ]
  },
  {
   "cell_type": "code",
   "execution_count": null,
   "metadata": {
    "collapsed": true
   },
   "outputs": [],
   "source": [
    "start_lat, start_long, start_name = calstations.iloc[1]['lat'], calstations.iloc[1]['long'], calstations.iloc[1]['name']"
   ]
  },
  {
   "cell_type": "code",
   "execution_count": null,
   "metadata": {
    "collapsed": true
   },
   "outputs": [],
   "source": [
    "def parser(df):\n",
    "    \"\"\"\n",
    "    Parses a pandas DF into JSON-line object\n",
    "    input: a dataframe\n",
    "    output: JSON-line object\n",
    "    \"\"\"\n",
    "    fields = df.columns\n",
    "    parsed_data = (dict(zip(fields, df.iloc[i])) for i in xrange(len(df)))\n",
    "    return parsed_data\n",
    "\n",
    "\n",
    "def create_map(df):\n",
    "    \"\"\"\n",
    "    Creates a map for the given data frame\n",
    "    input: a data frame\n",
    "    output: a message: \"geoJSON file has been created, check out your cd\"\n",
    "    \"\"\"\n",
    "    \n",
    "    geo_map = {'type': 'FeatureCollection'}\n",
    "    items = list()\n",
    "    for index, line in enumerate(parser(df)):\n",
    "        #Skip any zero coordinates as this will throw off our map\n",
    "        if line['long'] == str(0) or line['lat'] == str(0):\n",
    "            continue\n",
    "        \n",
    "        data = {}\n",
    "        data['type'] = 'Feature'\n",
    "        data['id'] = index\n",
    "        if line['station_type'] == 'bike_station':\n",
    "            year = line['installation'].split('/')[2]\n",
    "            if line['station_id'] == 70 or line['station_id'] == 69:\n",
    "                data['properties'] = {'name': line['name'],\n",
    "                                 'dockcount': line['dockcount'],\n",
    "                              'trip_counts' : line['trip_counts'],\n",
    "                              'marker-color':'#00cc00',\n",
    "                              'marker-size': 'large',\n",
    "                              'marker-symbol': 'bicycle'\n",
    "                                     }\n",
    "            elif year == '2013':\n",
    "                data['properties'] = {'name': line['name'],\n",
    "                                 'dockcount': line['dockcount'],\n",
    "                              'trip_counts' : line['trip_counts'],\n",
    "                              'marker-color':'#0e2f44',\n",
    "                                'marker-size':'large',\n",
    "                                'marker-symbol': 'bicycle',\n",
    "                                \"fill-opacity\": 0.3\n",
    "                                     }\n",
    "            else:\n",
    "                data['properties'] = {'name': line['name'],\n",
    "                                 'dockcount': line['dockcount'],\n",
    "                              'trip_counts' : line['trip_counts'],\n",
    "                                'marker-size': 'large',\n",
    "                                'marker-symbol': 'bicycle'\n",
    "                                     }\n",
    "            data['geometry'] = {'type': 'Point',\n",
    "                         'coordinates': (line['long'], line['lat'])\n",
    "                              }\n",
    "        else:\n",
    "            data['properties'] = {'name': line['name'],\n",
    "                                 'passengers': line['passengers'],\n",
    "                              'marker-color':'#a11f27',\n",
    "                                  'marker-size': 'large',\n",
    "                                  'marker-symbol': 'rail'\n",
    "                                     }\n",
    "            data['geometry'] = {'type': 'Point',\n",
    "                         'coordinates': (line['long'], line['lat'])\n",
    "                              }\n",
    "        items.append(data)\n",
    "    #for each point in our items, we add the point to our dictionary\n",
    "    for point in items:\n",
    "        geo_map.setdefault('features', []).append(point)\n",
    "\n",
    "    #Now that we've build up our geo_map dictionary, let's save it as geojson file\n",
    "    with open('bikecaltrain.geojson', 'w') as f:\n",
    "            f.write(dumps(geo_map))\n",
    "    return \"'bikecaltrain.geojson' file has been created, check out your cd\"\n",
    "\n",
    "def create_linestring(df):\n",
    "    \"\"\"\n",
    "    Creates a map for the given data frame\n",
    "    input: a data frame\n",
    "    output: a message: \"geoJSON file has been created, check out your cd\"\n",
    "    \"\"\"\n",
    "    \n",
    "    geo_map = {'type': 'FeatureCollection'}\n",
    "    items = list()\n",
    "    for index, line in enumerate(parser(df)):\n",
    "        #Skip any zero coordinates as this will throw off our map\n",
    "        if line['long'] == str(0) or line['lat'] == str(0):\n",
    "            continue\n",
    "        \n",
    "        data = {}\n",
    "        data['type'] = 'Feature'\n",
    "        data['id'] = index\n",
    "        \n",
    "        data['properties'] = {'name': line['name'],\n",
    "                         'dockcount': line['dockcount'],\n",
    "                              'marker-color':'#a11f27',\n",
    "                              'marker-size': 'large'\n",
    "                                     }\n",
    "        data['geometry'] = {'type': 'LineString',\n",
    "                         'coordinates': ([line['long'], line['lat']], [start_long, start_lat])\n",
    "                              }\n",
    "        items.append(data)\n",
    "    #for each point in our items, we add the point to our dictionary\n",
    "    for point in items:\n",
    "        geo_map.setdefault('features', []).append(point)\n",
    "\n",
    "    #Now that we've build up our geo_map dictionary, let's save it as geojson file\n",
    "    with open('lines.geojson', 'w') as f:\n",
    "            f.write(dumps(geo_map))\n",
    "    return \"'lines.geojson' file has been created, check out your cd\""
   ]
  },
  {
   "cell_type": "code",
   "execution_count": null,
   "metadata": {
    "collapsed": true
   },
   "outputs": [],
   "source": [
    "create_map(df_for_map)"
   ]
  },
  {
   "cell_type": "code",
   "execution_count": null,
   "metadata": {
    "collapsed": true
   },
   "outputs": [],
   "source": [
    "create_linestring(station16)"
   ]
  },
  {
   "cell_type": "code",
   "execution_count": null,
   "metadata": {
    "collapsed": true
   },
   "outputs": [],
   "source": [
    "def status_for_city(station, status, city = 'San Francisco'):\n",
    "    \"\"\"\n",
    "    returns a dataframe station ids for the specified city\n",
    "    \n",
    "    input: status and station dataframes, city (default = 'San Francisco')\n",
    "    output: a stations dataframe with for the specified city\n",
    "    \n",
    "    \"\"\"\n",
    "    \n",
    "    city_stations = station[station.landmark == city]['station_id']\n",
    "    city_status = status[status.station_id.isin(city_stations)]\n",
    "    \n",
    "    return city_status\n",
    "\n",
    "def groupby_term_mean(status, term):\n",
    "    \"\"\"\n",
    "    returns dataframe grouped by term and average values\n",
    "    \n",
    "    input: status data frame, term (month or hour)\n",
    "    output: dataframe grouped by term and average values of\n",
    "            other variables\n",
    "    \"\"\"\n",
    "    assert term in ['month', 'hour', 'weekday'], 'term should be either \"month\", \"hour\" or \"weekday\".'\n",
    "    \n",
    "    if term == 'hour':\n",
    "        status['hour'] = status.time.dt.strftime('%H')\n",
    "        grouped = status.groupby('hour').mean()\n",
    "        grouped.reset_index(inplace = True)\n",
    "    elif term == 'month':\n",
    "        status['month'] = status.time.dt.strftime('%m')\n",
    "        grouped = status.groupby('month').mean()\n",
    "        grouped.reset_index(inplace = True)\n",
    "    else:\n",
    "        status['weekday'] = status.time.dt.weekday_name\n",
    "        grouped = status.groupby('weekday').mean()\n",
    "        grouped.reset_index(inplace = True)\n",
    "        grouped['Sorter'] = [5, 1, 6, 7, 4, 2, 3]\n",
    "        grouped.sort_values(by = 'Sorter', inplace = True)\n",
    "    \n",
    "    return grouped\n",
    "\n",
    "def plot_status(grouped, time_format, city = None, station_name = None):\n",
    "    \"\"\"\n",
    "    returns a plot of average bike and dock availability\n",
    "    input: grouped dataframe by hour or month, time_format \n",
    "          (month or hour), city (default is None)\n",
    "    output: a plot of average bike and dock availability\n",
    "    \"\"\"\n",
    "    import plotly.plotly as py\n",
    "    import plotly.graph_objs as go\n",
    "    \n",
    "    assert time_format in ['month', 'hour', 'weekday'], 'time format should be either \"month\", \"hour\", or \"weekday\".'\n",
    "\n",
    "    # Add data\n",
    "    \n",
    "    if time_format is 'hour':\n",
    "        time = grouped.hour\n",
    "        title_time = 'Daily'\n",
    "        x_axis_name = 'Hour'\n",
    "    elif time_format is 'month':\n",
    "        time = grouped.month\n",
    "        title_time = 'Yearly'\n",
    "        x_axis_name = 'Month'\n",
    "    else:\n",
    "        time = grouped.weekday\n",
    "        title_time = 'Weekly'\n",
    "        x_axis_name = 'Week Days'\n",
    "        \n",
    "    bikes_available = grouped.bikes_available\n",
    "    docks_available = grouped.docks_available\n",
    "    # Create and style traces\n",
    "    trace0 = go.Scatter(\n",
    "        x = time,\n",
    "        y = bikes_available,\n",
    "        name = 'Bikes Available',\n",
    "        line = dict(\n",
    "            color = ('rgb(205, 12, 24)'),\n",
    "            width = 4,\n",
    "            dash = 'dash')\n",
    "    )\n",
    "    trace1 = go.Scatter(\n",
    "        x = time,\n",
    "        y = docks_available,\n",
    "        name = 'Docks Available',\n",
    "        line = dict(\n",
    "            color = ('rgb(22, 96, 167)'),\n",
    "            width = 4,\n",
    "            dash = 'dash')\n",
    "    )\n",
    "\n",
    "    data = [trace0, trace1]\n",
    "    \n",
    "    if station_name:\n",
    "        title_name = '{} Average Counts of Available Bikes and Docks in {}'.format(title_time, station_name)\n",
    "    elif city:\n",
    "        title_name = '{} Average Counts of Available Bikes and Docks in {}'.format(title_time, city)\n",
    "    else:\n",
    "        title_name = '{} Average Counts of Available Bikes and Docks across all 4 cities'.format(title_time)\n",
    "\n",
    "    # Edit the layout\n",
    "    layout = dict(title = title_name,\n",
    "                  xaxis = dict(title = x_axis_name),\n",
    "                  yaxis = dict(title = 'Counts'),\n",
    "                  )\n",
    "\n",
    "    fig = dict(data=data, layout=layout)\n",
    "    file_name = 'plot for {}'.format(city)\n",
    "    return py.iplot(fig, filename=file_name)\n",
    "\n",
    "def plot_summary_for_city(city, term, station_id = None):\n",
    "    \"\"\"\n",
    "    returns plot summary for the given city and term\n",
    "    input: city name, term ('hour', 'month', 'weekday')\n",
    "    output: a figure\n",
    "    \n",
    "    NOTE: station and status data should be available in global env.\n",
    "    \"\"\"\n",
    "    \n",
    "    assert city in ['San Francisco', 'Mountain View', 'Palo Alto', 'San Jose'], 'unavailable city'\n",
    "    assert term in ['hour', 'month', 'weekday'], 'term should be either \"hour\", \"month\", or \"weekday\".'\n",
    "    assert type(status['time'][0]) is pandas.tslib.Timestamp, 'status[\"time\"] type error. convert it time series.'\n",
    "    \n",
    "    city_status = status_for_city(station16, status16, city)\n",
    "    station_name = None\n",
    "    if station_id:\n",
    "        assert station_id in station16.station_id.values, 'invalid station id'\n",
    "        city_status = city_status[city_status.station_id == station_id]\n",
    "        station_name = station.name[station16.station_id == station_id].values[0]\n",
    "    grouped = groupby_term_mean(city_status, term)\n",
    "    \n",
    "    return plot_status(grouped, term, city, station_name)"
   ]
  },
  {
   "cell_type": "code",
   "execution_count": null,
   "metadata": {
    "collapsed": true
   },
   "outputs": [],
   "source": [
    "plot_summary_for_city('San Jose', 'hour')"
   ]
  },
  {
   "cell_type": "code",
   "execution_count": null,
   "metadata": {
    "collapsed": true
   },
   "outputs": [],
   "source": [
    "station15, status15, trip15, weather15 = read_data('./', 2015)"
   ]
  },
  {
   "cell_type": "code",
   "execution_count": null,
   "metadata": {
    "collapsed": true
   },
   "outputs": [],
   "source": [
    "status15['time'] = pd.to_datetime(status15['time'], infer_datetime_format = True)"
   ]
  },
  {
   "cell_type": "code",
   "execution_count": null,
   "metadata": {
    "collapsed": true
   },
   "outputs": [],
   "source": [
    "station14, status14, trip14, weather14 = read_data('./', 2014)"
   ]
  },
  {
   "cell_type": "code",
   "execution_count": null,
   "metadata": {
    "collapsed": true
   },
   "outputs": [],
   "source": [
    "status14['time'] = pd.to_datetime(status14['time'], infer_datetime_format = True)"
   ]
  },
  {
   "cell_type": "code",
   "execution_count": null,
   "metadata": {
    "collapsed": true
   },
   "outputs": [],
   "source": [
    "def convert_df(station_in, status_in, term, station_id = None):\n",
    "    \"\"\"\n",
    "    createst a DF which is grouped by term and has average\n",
    "    bike and docks available for a station if speficied, otherwise\n",
    "    it returns average value for San Francisco\n",
    "    \n",
    "    input: station_in, status_in, term, station_id (default = None)\n",
    "    output: a grouped DF, station_name (default = None)\n",
    "    \"\"\"\n",
    "    \n",
    "    city_status = status_for_city(station_in, status_in)\n",
    "    station_name = None\n",
    "    if station_id:\n",
    "        assert station_id in station_in.station_id.values, 'invalid station id'\n",
    "        city_status = city_status[city_status.station_id == station_id]\n",
    "        station_name = station_in.name[station.station_id == station_id].values[0]\n",
    "    grouped = groupby_term_mean(city_status, term)\n",
    "    \n",
    "    return grouped, station_name"
   ]
  },
  {
   "cell_type": "code",
   "execution_count": null,
   "metadata": {
    "collapsed": true
   },
   "outputs": [],
   "source": [
    "import plotly.plotly as py\n",
    "from plotly.graph_objs import *\n",
    "\n",
    "def compares_years(term, station_id = None):\n",
    "    \"\"\"\n",
    "    compares average avaialble bike and dock counts\n",
    "    for three years per term for San Francisco,\n",
    "    if station_id specified compares for that station.\n",
    "    \n",
    "    input: term ('hour', 'month', or 'weekday')\n",
    "    output: an interactive figure\n",
    "    \n",
    "    \"\"\"\n",
    "    \n",
    "    sf14, station_name = convert_df(station14, status14, term, station_id)\n",
    "    sf15, station_name = convert_df(station15, status15, term, station_id)\n",
    "    sf16, station_name = convert_df(station, status, term, station_id)\n",
    "    \n",
    "    bikes14 = sf14.bikes_available.values\n",
    "    docks14 = sf14.docks_available.values\n",
    "    bikes15 = sf15.bikes_available.values\n",
    "    docks15 = sf15.docks_available.values\n",
    "    bikes16 = sf16.bikes_available.values\n",
    "    docks16 = sf16.docks_available\n",
    "    xcoord = sf15[term]\n",
    "    \n",
    "    if station_name:\n",
    "        title = 'Average Available Bike and Dock Counts for {}'.format(station_name)\n",
    "    else:\n",
    "        title = 'Average Available Bike and Dock Counts for San Francisco'\n",
    "\n",
    "    trace1 = Scatter(\n",
    "        x=xcoord, y=bikes15,\n",
    "        line=Line(\n",
    "            color='#FFD700',\n",
    "            width=3\n",
    "        ),\n",
    "        name='2015: Bikes'\n",
    "    )\n",
    "\n",
    "    trace2 = Scatter(\n",
    "        x=xcoord, y=docks15,\n",
    "        line=Line(\n",
    "            color='#C0C0C0',\n",
    "            width=3\n",
    "        ),\n",
    "        name='2015: Docks'\n",
    "    )\n",
    "\n",
    "    trace3 = Scatter(\n",
    "        x=xcoord, y=bikes16,\n",
    "        line=Line(\n",
    "            color='#BA8651',\n",
    "            width=3\n",
    "        ),\n",
    "        name='2016: Bikes'\n",
    "    )\n",
    "\n",
    "    trace4 = Scatter(\n",
    "        x=xcoord, y=docks16,\n",
    "        line=Line(\n",
    "            color='#000000',\n",
    "            width=3\n",
    "        ),\n",
    "        name='2016: Docks'\n",
    "    )\n",
    "    \n",
    "    trace5 = Scatter(\n",
    "        x=xcoord, y=bikes14,\n",
    "        line=Line(\n",
    "            color='#b9f442',\n",
    "            width=3\n",
    "        ),\n",
    "        name='2014: Bikes'\n",
    "    )\n",
    "    \n",
    "    trace6 = Scatter(\n",
    "        x=xcoord, y=docks14,\n",
    "        line=Line(\n",
    "            color='#416bf4',\n",
    "            width=3\n",
    "        ),\n",
    "        name='2014: Docks'\n",
    "    )\n",
    "\n",
    "    data = Data([trace1, trace2, trace3, trace4, trace5, trace6])\n",
    "    layout = Layout(\n",
    "        title=title,\n",
    "        updatemenus=list([\n",
    "            dict(\n",
    "                x=-0.05,\n",
    "                y=1,\n",
    "                yanchor='top',\n",
    "                buttons=list([\n",
    "                    dict(\n",
    "                        args=['visible', [True, True, True, True, True, True]],\n",
    "                        label='All',\n",
    "                        method='restyle'\n",
    "                    ),\n",
    "                    dict(\n",
    "                        args=['visible', [True, True, False, False, False, False]],\n",
    "                        label='2015',\n",
    "                        method='restyle'\n",
    "                    ),\n",
    "                    dict(\n",
    "                        args=['visible', [False, False, True, True, False, False]],\n",
    "                        label='2016',\n",
    "                        method='restyle'\n",
    "                    ),\n",
    "                    dict(\n",
    "                        args=['visible', [False, False, False, False, True, True]],\n",
    "                        label='2014',\n",
    "                        method='restyle'\n",
    "                    ),\n",
    "                    dict(\n",
    "                        args=['visible', [True, False, True, False, True, False]],\n",
    "                        label='Bikes',\n",
    "                        method='restyle'\n",
    "                    ),\n",
    "                    dict(\n",
    "                        args=['visible', [False, True, False, True, False, True]],\n",
    "                        label='Docks',\n",
    "                        method='restyle'\n",
    "                    )\n",
    "                ]),\n",
    "            )\n",
    "        ]),\n",
    "    )\n",
    "    fig = Figure(data=data, layout=layout)\n",
    "    return py.iplot(fig)"
   ]
  },
  {
   "cell_type": "code",
   "execution_count": null,
   "metadata": {
    "collapsed": true
   },
   "outputs": [],
   "source": [
    "compares_years('hour', 70)"
   ]
  },
  {
   "cell_type": "markdown",
   "metadata": {
    "collapsed": true
   },
   "source": [
    "# ASHKAN'S CODES"
   ]
  },
  {
   "cell_type": "markdown",
   "metadata": {},
   "source": [
    "<h3>Read the data</h3>"
   ]
  },
  {
   "cell_type": "code",
   "execution_count": 9,
   "metadata": {
    "collapsed": true
   },
   "outputs": [],
   "source": [
    "path = '../Project_Datasets'"
   ]
  },
  {
   "cell_type": "code",
   "execution_count": 10,
   "metadata": {
    "collapsed": false
   },
   "outputs": [],
   "source": [
    "station, status, trip, weather = read_data(path, 2016)"
   ]
  },
  {
   "cell_type": "markdown",
   "metadata": {},
   "source": [
    "<h3>Plot stations on map</h3>"
   ]
  },
  {
   "cell_type": "code",
   "execution_count": 12,
   "metadata": {
    "collapsed": true
   },
   "outputs": [],
   "source": [
    "def plot_station(df, city):\n",
    "    '''\n",
    "    This function plots the stations available in each city\n",
    "    @args:\n",
    "        df: is the data frame containing the stations information such as their name and latitude and longitudes\n",
    "        city: name of city of intrests among: San Jose, San Francisco, Palo Alto, Mountain View\n",
    "    @returns:\n",
    "        a map plot of stations\n",
    "    '''\n",
    "    path = '/Users/ashkansaboori/Documents/OneDrive/MyPhD/Courses/5 Winter-2017/STA 141B/Project/SF_bike_share/Pictures/'\n",
    "    file_name = path + city + '_map'\n",
    "    df = df[df.landmark == city]\n",
    "    data = df[['name', 'lat', 'long']].dropna()\n",
    "    data = data.rename(columns={'long':'lon'})\n",
    "    geoplotlib.dot(data, point_size=4)\n",
    "    #geoplotlib.show()\n",
    "    return geoplotlib.savefig(file_name)"
   ]
  },
  {
   "cell_type": "code",
   "execution_count": 17,
   "metadata": {
    "collapsed": false
   },
   "outputs": [],
   "source": [
    "plot_station(station, 'San Francisco')"
   ]
  },
  {
   "cell_type": "markdown",
   "metadata": {},
   "source": [
    "<h3>Plot trips on map</h3>"
   ]
  },
  {
   "cell_type": "code",
   "execution_count": 27,
   "metadata": {
    "collapsed": true
   },
   "outputs": [],
   "source": [
    "def plot_trip(station, trip, city):\n",
    "    '''\n",
    "    This function plots the \n",
    "    '''\n",
    "    \n",
    "    path = '/Users/ashkansaboori/Documents/OneDrive/MyPhD/Courses/5 Winter-2017/STA 141B/Project/SF_bike_share/Pictures/'\n",
    "    file_name = path + city + '_trips'\n",
    "    \n",
    "    station = station[station.landmark == city]\n",
    "    start_trip_end = trip[['Start Station', 'End Station']].drop_duplicates().dropna()\n",
    "    #Remove trips that start and end stations are the same\n",
    "    start_trip_end = start_trip_end[~(start_trip_end['Start Station'] == start_trip_end['End Station'])]\n",
    "    start_trip = pd.DataFrame(start_trip_end['Start Station'])\n",
    "    end_trip = pd.DataFrame(start_trip_end['End Station'])\n",
    "\n",
    "    start_trip_end = pd.merge(left = station[['name', 'lat', 'long']], right = start_trip_end, how = 'inner', left_on='name', right_on='Start Station')\n",
    "    start_trip_end = start_trip_end.rename(columns = {'long': 'lon_departure', 'lat': 'lat_departure'})\n",
    "    \n",
    "    start_trip_end = pd.merge(left = station[['name', 'lat', 'long']], right = start_trip_end, how = 'inner', left_on='name', right_on='End Station')\n",
    "    start_trip_end = start_trip_end.rename(columns = {'long': 'lon_arrival', 'lat': 'lat_arrival'})\n",
    "    start_trip_end = start_trip_end[['lon_departure', 'lat_departure', 'lon_arrival', 'lat_arrival']]\n",
    "    \n",
    "    geoplotlib.graph(start_trip_end,\n",
    "                 src_lat='lat_departure',\n",
    "                 src_lon='lon_departure',\n",
    "                 dest_lat='lat_arrival',\n",
    "                 dest_lon='lon_arrival',\n",
    "                 color='hot_r',\n",
    "                 alpha=16,\n",
    "                 linewidth=3)\n",
    "    return geoplotlib.savefig(file_name)"
   ]
  },
  {
   "cell_type": "code",
   "execution_count": 29,
   "metadata": {
    "collapsed": false
   },
   "outputs": [],
   "source": [
    "plot_trip(station, trip, 'Mountain View')"
   ]
  },
  {
   "cell_type": "markdown",
   "metadata": {},
   "source": [
    "<h3>Station trip count</h3>"
   ]
  },
  {
   "cell_type": "code",
   "execution_count": null,
   "metadata": {
    "collapsed": true
   },
   "outputs": [],
   "source": [
    "def OneTrip_count(stationDF, tripDF, tripType):\n",
    "    '''\n",
    "    This function computes the number of departure or arrival trip for each station\n",
    "    @args:\n",
    "        staionDF: station dataframe\n",
    "        tripDF: trip dataframe\n",
    "        tripType: which shows whether is departure or arrival. The value could be: \"Start Terminal\" or \"End Terminal\"\n",
    "    @returns:\n",
    "        a dataframe containing the number of trip and dock for each station\n",
    "    '''\n",
    "    \n",
    "    if tripType == 'Start Terminal':\n",
    "        count = 'departure_count'\n",
    "    else:\n",
    "        count = 'arrival_count'\n",
    "        \n",
    "    dockCount = stationDF[['station_id', 'name', 'dockcount']]\n",
    "    tripCount = tripDF.groupby(tripType).agg(['count'])['Trip ID']\n",
    "    #Convert the index to column\n",
    "    tripCount.reset_index(level=0, inplace=True)\n",
    "    tripCount=tripCount.rename(columns = {tripType: 'station_id', 'count': count})\n",
    "    result = pd.merge(left = dockCount, right = tripCount, how = 'inner', on= 'station_id')\n",
    "    return result"
   ]
  },
  {
   "cell_type": "code",
   "execution_count": null,
   "metadata": {
    "collapsed": true
   },
   "outputs": [],
   "source": [
    "def TwoTrip_count(stationDF, tripDF):\n",
    "    '''\n",
    "    This function computes the number of both departure and arrival trips for each station\n",
    "    @args:\n",
    "        staionDF: station dataframe\n",
    "        tripDF: trip dataframe\n",
    "    @returns:\n",
    "        a dataframe containing the number of trip and dock for each station\n",
    "    '''\n",
    "    \n",
    "    tripCount =pd.merge(left=OneTrip_count(stationDF, tripDF,'Start Terminal'), \n",
    "                        right=OneTrip_count(stationDF, tripDF,'End Terminal'), \n",
    "                    on=['station_id', 'dockcount'], how='inner')\n",
    "    del tripCount['name_y']\n",
    "    tripCount = tripCount.rename(columns={'name_x': 'station name'})\n",
    "    return tripCount.sort_values('station_id')"
   ]
  },
  {
   "cell_type": "code",
   "execution_count": null,
   "metadata": {
    "collapsed": true
   },
   "outputs": [],
   "source": [
    "TwoTrip_count(station, trip)"
   ]
  },
  {
   "cell_type": "markdown",
   "metadata": {},
   "source": [
    "<h3>Route Counts Heatmap</h3>"
   ]
  },
  {
   "cell_type": "code",
   "execution_count": 1,
   "metadata": {
    "collapsed": true
   },
   "outputs": [],
   "source": [
    "def route_countFunc(trip_df, station_df):\n",
    "    \"\"\"\n",
    "    This function gets 'trip' and 'station' dataframe and returns a dataframe contains routes and their counts\n",
    "    @args:\n",
    "        trip_df: trip dataframe\n",
    "        station_df: station dataframe\n",
    "    @returns:\n",
    "        routes_count: contains routes and their counts, duration, and landmark\n",
    "    \"\"\"\n",
    "    #Add start landmark\n",
    "    trip = pd.merge(left = trip_df, right = station_df[['station_id', 'landmark']], \n",
    "             how='left', left_on='Start Terminal', right_on= 'station_id')\n",
    "    trip.rename(columns={'landmark':'start_landmark'}, inplace=True)\n",
    "    trip.drop('station_id', inplace=True, axis=1)\n",
    "    #Add end landmark\n",
    "    trip = pd.merge(left = trip, right = station_df[['station_id', 'landmark']], \n",
    "             how='left', left_on='End Terminal', right_on= 'station_id')\n",
    "    trip.rename(columns={'landmark':'end_landmark'}, inplace=True)\n",
    "    trip.drop('station_id', inplace=True, axis=1)\n",
    "    #Pick only trips within one landmark\n",
    "    trip = trip[trip.start_landmark == trip.end_landmark]\n",
    "    #Count the number of trips between stations\n",
    "    routes_count = trip.groupby(['Start Station', 'End Station', 'start_landmark']).agg({'Trip ID': 'count', 'Duration': 'mean'}).reset_index()\n",
    "    routes_count = routes_count.rename(columns={'Trip ID': 'Counts'})\n",
    "    routes_count.Duration = routes_count['Duration'].apply(lambda x: round((x/60),2))\n",
    "    #Change the column names\n",
    "    routes_count.rename(columns={'start_landmark':'Landmark', 'Duration': 'Duration (min)'}, inplace=True)\n",
    "    return routes_count"
   ]
  },
  {
   "cell_type": "code",
   "execution_count": 2,
   "metadata": {
    "collapsed": true
   },
   "outputs": [],
   "source": [
    "def route_heatmap(trip_df, station_df, landmark):\n",
    "    \"\"\"\n",
    "    This function recieve the trip and station dataframes for a specific year \n",
    "    and plots the trip heatmap for a given landmark\n",
    "    @args:\n",
    "        trip_df: trip dataframe\n",
    "        station_df: station dataframe\n",
    "        landmark: Could be \"San Francisco\", \"San Jose\", \"Palo Alto\", and \"Mountain View\"\n",
    "    @returns:\n",
    "        Heatmap graph\n",
    "    \"\"\"\n",
    "    routes = route_countFunc(trip_df, station_df)\n",
    "    df_routes = routes[routes.Landmark == landmark]\n",
    "    start_station = df_routes['Start Station'].sort_values().unique()\n",
    "    end_station = df_routes['End Station'].sort_values().unique()\n",
    "\n",
    "    #create z values for heatmap and text for hover text in the map\n",
    "    z = []\n",
    "    trip_text = []\n",
    "    for start in start_station:\n",
    "        new_row = []\n",
    "        text_row = []\n",
    "        for end in end_station:\n",
    "            try:\n",
    "                trip_count = df_routes[(df_routes['Start Station'] == start) & (df_routes['End Station'] == end)].Counts.values[0]\n",
    "                average_duration = df_routes[(df_routes['Start Station'] == start) & (df_routes['End Station'] == end)]['Duration (min)'].values[0]\n",
    "            except IndexError:\n",
    "                trip_count = 0\n",
    "                average_duration = 0\n",
    "            text = 'Start Station: {}<br>End Station: {}<br>Trip Counts: {}<br>Average Duration: {} Mins'.format(start, end, trip_count, average_duration)\n",
    "            text_row.append(text)    \n",
    "            new_row.append(trip_count)\n",
    "        z.append(list(new_row))\n",
    "        trip_text.append(list(text_row))\n",
    "\n",
    "    #Plot Heatmap\n",
    "    heatmap = go.Heatmap(x = start_station,\n",
    "               y = end_station,\n",
    "               z = z,\n",
    "                hoverinfo = 'text',\n",
    "                text = trip_text,\n",
    "               colorscale='YIGnBu',\n",
    "               reversescale=True)\n",
    "\n",
    "    data = go.Data([heatmap])\n",
    "    layout = go.Layout(\n",
    "        title=landmark + ' Route Counts',\n",
    "        titlefont = dict(color='black', size=35, family='monospace'),\n",
    "        xaxis=dict(\n",
    "        title='END STATION',\n",
    "        tickangle = -90,\n",
    "        titlefont=dict(\n",
    "            family='monospace',\n",
    "            size=18,\n",
    "            color='red')),\n",
    "        yaxis=dict(\n",
    "        title='START STATION',\n",
    "        titlefont=dict(\n",
    "            family='monospace',\n",
    "            size=18,\n",
    "            color='red')),\n",
    "         width=1000,\n",
    "        height=1000,\n",
    "        margin=go.Margin(\n",
    "        l=300,\n",
    "        r=50,\n",
    "        b=300,\n",
    "        t=100,\n",
    "        pad=4\n",
    "    )\n",
    "    )\n",
    "    fig = go.Figure(data=data, layout=layout)\n",
    "    return py.iplot(fig)"
   ]
  },
  {
   "cell_type": "code",
   "execution_count": null,
   "metadata": {
    "collapsed": true
   },
   "outputs": [],
   "source": [
    "route_heatmap(trip16, station16, 'San Francisco')"
   ]
  },
  {
   "cell_type": "markdown",
   "metadata": {},
   "source": [
    "<h3>Trips from stations in each landmark</h3>"
   ]
  },
  {
   "cell_type": "code",
   "execution_count": 1,
   "metadata": {
    "collapsed": true
   },
   "outputs": [],
   "source": [
    "def routeDock_countFunc(tripDF, stationDF, landmark):\n",
    "    \"\"\"\n",
    "    This function gets trip and station dataframes and the landmark of interests and returns a dataframe\n",
    "    containing all stations with total number of trips started at the stations and their number of dockcounts\n",
    "    @args:\n",
    "        tripDF: trip dataframe\n",
    "        stationDF: station dataframe\n",
    "        landmark: Landmark of interest that could be \"San Francisco\", \"San Jose\", \"Palo Alto\", and \"Mountain View\"\n",
    "    @returns:\n",
    "        A dataframe containing all stations with total number of trips started at the stations and their \n",
    "        number of dockcounts\n",
    "    \"\"\"\n",
    "    routeCount = route_countFunc(tripDF, stationDF)\n",
    "    routeCount = routeCount[routeCount.Landmark == landmark].groupby('Start Station').agg({'Counts': 'sum'}).reset_index()\n",
    "    routeCount = pd.merge(left=routeCount, right=stationDF[['name', 'dockcount']], how='inner', left_on='Start Station', right_on='name')\n",
    "    routeCount.drop('name', axis=1, inplace=True)\n",
    "    return routeCount"
   ]
  },
  {
   "cell_type": "code",
   "execution_count": 2,
   "metadata": {
    "collapsed": true
   },
   "outputs": [],
   "source": [
    "def hover_text(df):\n",
    "    \"\"\"\n",
    "    This function gets a dataframe made by function \"routeDock_countFunc\" and returns a list containing the \n",
    "    text information used in the barplot\n",
    "    @args:\n",
    "        df: dataframe made with function \"routeDock_countFunc\"\n",
    "    @returns:\n",
    "        a list containing the text information used in hover text for the barplot\n",
    "    \"\"\"\n",
    "    text = df.apply(lambda x: 'Station: {}<br>Trip Counts: {}<br>Dock Counts: {}<br>Dock/Trip: {}%'.format(\n",
    "        x[0], x[1], int(x[2]), round(float(x[2])*100/x[1], 3)), axis=1)\n",
    "    return text\n",
    "\n"
   ]
  },
  {
   "cell_type": "code",
   "execution_count": 3,
   "metadata": {
    "collapsed": true
   },
   "outputs": [],
   "source": [
    "def bar_object(tripDF, stationDF, landmark, year):\n",
    "    \"\"\"\n",
    "    This function gets trip and station dataframes and the landmark of interests and specific year and returns \n",
    "    a barobject used for plotting barplot\n",
    "    @args:\n",
    "        tripDF: trip dataframe\n",
    "        stationDF: station dataframe\n",
    "        landmark: Landmark of interest that could be \"San Francisco\", \"San Jose\", \"Palo Alto\", and \"Mountain View\"\n",
    "        year: year of interest, either 2014, 2015, 2016\n",
    "    @returns:\n",
    "      Barplot object used to plot a barplot\n",
    "    \"\"\"\n",
    "    df = routeDock_countFunc(tripDF, stationDF, landmark)\n",
    "    bar = go.Bar(x=df['Start Station'], y=df['Counts'],\n",
    "                name = year, hoverinfo='text', text=hover_text(df))\n",
    "    return bar"
   ]
  },
  {
   "cell_type": "code",
   "execution_count": 4,
   "metadata": {
    "collapsed": true
   },
   "outputs": [],
   "source": [
    "def barPlot(landmark):\n",
    "    \"\"\"\n",
    "    This funciton gets a landmark and plots the number of trips from statins in a landmark. The barplot\n",
    "    contains the information for three years 2014, 2015, and 2016.\n",
    "    @args:\n",
    "        landmark: Landmark of interest that could be \"San Francisco\", \"San Jose\", \"Palo Alto\", and \"Mountain View\"\n",
    "    @returns:\n",
    "        A barplot\n",
    "    \"\"\"\n",
    "    \n",
    "    #Bar object\n",
    "    bar14 = bar_object(trip14, station14, landmark, 2014)\n",
    "    bar15 = bar_object(trip15, station15, landmark, 2015)\n",
    "    bar16 = bar_object(trip16, station16, landmark, 2016)\n",
    "    data = go.Data([bar14, bar15, bar16])\n",
    "    \n",
    "    #Layout\n",
    "    layout = go.Layout(\n",
    "     width=1000,\n",
    "    height=800,\n",
    "    hovermode = 'closest',\n",
    "    title='TOTAL TRIPS FROM STATIONS IN ' + landmark.upper(),\n",
    "    titlefont = dict(color='black', size=35, family='monospace'),\n",
    "    xaxis=dict(\n",
    "        title='STATION',\n",
    "        tickangle = -90,\n",
    "        titlefont=dict(\n",
    "            family='monospace',\n",
    "            size=18,\n",
    "            color='red')),\n",
    "    yaxis=dict(\n",
    "        title='TRIP COUNTS',\n",
    "        titlefont=dict(\n",
    "            family='monospace',\n",
    "            size=18,\n",
    "            color='red')),\n",
    "        margin=go.Margin(\n",
    "        l=100,\n",
    "        r=50,\n",
    "        b=300,\n",
    "        t=100,\n",
    "        pad=4), \n",
    "        showlegend = 'True', \n",
    "        legend = dict(x=0, y=1, orientation='h'))\n",
    "    \n",
    "    #Make the plot\n",
    "    fig = go.Figure(data = data, layout = layout)\n",
    "    return py.iplot(fig)"
   ]
  },
  {
   "cell_type": "code",
   "execution_count": null,
   "metadata": {
    "collapsed": true
   },
   "outputs": [],
   "source": [
    "barPlot('Mountain View')"
   ]
  },
  {
   "cell_type": "markdown",
   "metadata": {},
   "source": [
    "<h3>Crime analysis</h3>"
   ]
  },
  {
   "cell_type": "code",
   "execution_count": 11,
   "metadata": {
    "collapsed": true
   },
   "outputs": [],
   "source": [
    "crime = pd.read_csv('/Users/ashkansaboori/Documents/OneDrive/MyPhD/Courses/5Winter-2017/STA141B/Project/Project_Datasets/Crime_Incidents/Crime Incidents.csv')"
   ]
  },
  {
   "cell_type": "code",
   "execution_count": 21,
   "metadata": {
    "collapsed": true
   },
   "outputs": [],
   "source": [
    "#List of related crimes\n",
    "relatedCrimes = ['BURGLARY', 'DRIVING UNDER THE INFLUENCE', 'ROBBERY', 'STOLEN PROPERTY', 'VANDALISM', 'VEHICLE THEFT']\n",
    "bikeCrime = crime[crime['Category'].isin(relatedCrimes)].reset_index(drop = True)\n",
    "#Extract year from \"Date\" column\n",
    "bikeCrime.Date = bikeCrime.Date.str.slice(6,10)\n",
    "bikeCrime = bikeCrime.rename(columns = {'X': 'lon', 'Y': 'lat', 'Date': 'year'})\n",
    "#Crimes in year 2016\n",
    "bikeCrime = bikeCrime[bikeCrime['year'] == '2016'][['Category', 'lat', 'lon']]"
   ]
  },
  {
   "cell_type": "code",
   "execution_count": 22,
   "metadata": {
    "collapsed": true
   },
   "outputs": [],
   "source": [
    "#Assign color for each crime\n",
    "def color(crimeType):\n",
    "    if crimeType == 'BURGLARY':\n",
    "        return 'red'\n",
    "    elif crimeType == 'DRIVING UNDER THE INFLUENCE':\n",
    "        return 'green'\n",
    "    elif crimeType == 'ROBBERY':\n",
    "        return 'blue'\n",
    "    elif crimeType == 'STOLEN PROPERTY':\n",
    "        return 'purple'\n",
    "    elif crimeType == 'VANDALISM':\n",
    "        return 'yellow'\n",
    "    else:\n",
    "        return 'black'"
   ]
  },
  {
   "cell_type": "code",
   "execution_count": 23,
   "metadata": {
    "collapsed": true
   },
   "outputs": [],
   "source": [
    "color = [color(x) for x in bikeCrime.Category]"
   ]
  },
  {
   "cell_type": "code",
   "execution_count": 24,
   "metadata": {
    "collapsed": true
   },
   "outputs": [],
   "source": [
    "crime_graph = go.Scattermapbox(lon = bikeCrime['lon'],\n",
    "                    lat = bikeCrime['lat'],\n",
    "                    hoverinfo = 'text',\n",
    "                    text = bikeCrime['Category'],\n",
    "                    mode = 'markers',\n",
    "                    marker = dict(size = 5,\n",
    "                                 color = 'red'\n",
    "                                  ),\n",
    "                    opacity = 0.1)\n",
    "data = go.Data([crime_graph])"
   ]
  },
  {
   "cell_type": "code",
   "execution_count": 25,
   "metadata": {
    "collapsed": true
   },
   "outputs": [],
   "source": [
    "layout = dict(\n",
    "    title = 'Crime Map in San Francisco',\n",
    "    autosize=True,\n",
    "    hovermode='closest',\n",
    "    mapbox=dict(\n",
    "        accesstoken=mapbox_token,\n",
    "        bearing=0,\n",
    "        center=dict(\n",
    "            lat=37.773972,\n",
    "            lon=-122.431297\n",
    "        ),\n",
    "        pitch=0,\n",
    "        zoom=5\n",
    "    ),\n",
    ")\n",
    "layout = go.Layout(layout)"
   ]
  },
  {
   "cell_type": "code",
   "execution_count": null,
   "metadata": {
    "collapsed": false
   },
   "outputs": [],
   "source": [
    "fig = go.Figure(data = data, layout = layout)\n",
    "py.iplot(fig)"
   ]
  },
  {
   "cell_type": "markdown",
   "metadata": {},
   "source": [
    "<h3>Income Analysis</h3>"
   ]
  },
  {
   "cell_type": "code",
   "execution_count": null,
   "metadata": {
    "collapsed": true
   },
   "outputs": [],
   "source": [
    "#Source of data: http://www.psc.isr.umich.edu/dis/census/Features/tract2zip/\n",
    "#Also this can be useful: http://www.psc.isr.umich.edu/dis/data/kb/answer/1123\n",
    "income = pd.read_csv('/Users/ashkansaboori/Documents/OneDrive/MyPhD/Courses/5Winter-2017/STA141B/Project/Project_Datasets/Income/Income.csv', header=0)"
   ]
  },
  {
   "cell_type": "code",
   "execution_count": null,
   "metadata": {
    "collapsed": true
   },
   "outputs": [],
   "source": [
    "def extract_info(zipNum, info_type):\n",
    "    '''\n",
    "    This function gets the zipcode and returns either city name, latitude, or longitude\n",
    "    @args:\n",
    "        zipNum: zipcode\n",
    "        info_type: could be either: 'city', 'lat', or 'longitude'\n",
    "    @returns:\n",
    "        city name, latitude, or longitude\n",
    "    '''\n",
    "    \n",
    "    try:\n",
    "        zipcode.isequal(str(zipNum)).state #Check to see if info exists for the zipcode\n",
    "        info = zipcode.isequal(str(zipNum))\n",
    "    except AttributeError:\n",
    "        return 'Not valid'\n",
    "    if info_type == 'state':\n",
    "        return info.state\n",
    "    if info_type == 'city':\n",
    "        return info.city\n",
    "    elif info_type == 'lat':\n",
    "        return info.lat\n",
    "    else:\n",
    "        return info.lon"
   ]
  },
  {
   "cell_type": "code",
   "execution_count": null,
   "metadata": {
    "collapsed": true
   },
   "outputs": [],
   "source": [
    "#Add state, city, latitude, and longitude columns to income dataset\n",
    "info_list = ['state', 'city', 'lat', 'lon']\n",
    "for i in info_list:\n",
    "    income[i] = [extract_info(str(x), i) for x in income.iloc[:,0]]\n",
    "\n",
    "#Extract Sanfrancicso data\n",
    "SF_income = income[(income.state == 'CA') & (income.city == 'SAN FRANCISCO')].reset_index(drop=True)\n",
    "\n",
    "#Change Median, Mean, and Population type to integer\n",
    "#SF_income['Mean_int'] = SF_income['Mean'].str.replace(',', '').apply(int)\n",
    "#SF_income['Median_int'] = SF_income['Median'].str.replace(',', '').apply(int)\n",
    "#SF_income['Population_int'] = SF_income['Population'].str.replace(',', '').apply(int)"
   ]
  },
  {
   "cell_type": "code",
   "execution_count": null,
   "metadata": {
    "collapsed": true
   },
   "outputs": [],
   "source": [
    "#For hover in the map graph\n",
    "text_income = SF_income.apply(lambda x: 'Zipcode: {}<br>Population: {}<br>Median Income: ${}<br>Mean Income: ${}'.format(\n",
    "        x[0], x[3], x[1], x[2]),axis=1)"
   ]
  },
  {
   "cell_type": "code",
   "execution_count": null,
   "metadata": {
    "collapsed": true
   },
   "outputs": [],
   "source": [
    "#Scale the point size for map\n",
    "point_size = SF_income['Median'].str.replace(',', '').apply(int)/SF_income['Median'].str.replace(',', '').apply(int).max()"
   ]
  },
  {
   "cell_type": "code",
   "execution_count": null,
   "metadata": {
    "collapsed": true
   },
   "outputs": [],
   "source": [
    "#Scale the point transparancy to population\n",
    "point_transparency = SF_income['Population'].str.replace(',', '').apply(int)/SF_income['Population'].str.replace(',', '').apply(int).max()"
   ]
  },
  {
   "cell_type": "code",
   "execution_count": null,
   "metadata": {
    "collapsed": true
   },
   "outputs": [],
   "source": [
    "income_graph = go.Scattermapbox(lon = SF_income['lon'],\n",
    "                    lat = SF_income['lat'],\n",
    "                    hoverinfo = 'text',\n",
    "                    text = text_income,\n",
    "                    mode = 'markers',\n",
    "                    marker = dict(size = point_size*20,\n",
    "                                 color = 'light blue'\n",
    "                                  ),\n",
    "                    opacity = point_transparency/10,\n",
    "                    name = 'Median Income')\n",
    "data = go.Data([income_graph, crime_graph])"
   ]
  },
  {
   "cell_type": "code",
   "execution_count": null,
   "metadata": {
    "collapsed": true
   },
   "outputs": [],
   "source": [
    "layout = dict(\n",
    "    title = 'Median Income Map in San Francisco',\n",
    "    autosize=True,\n",
    "    hovermode='closest',\n",
    "    mapbox=dict(\n",
    "        accesstoken=mapbox_token,\n",
    "        bearing=0,\n",
    "        center=dict(\n",
    "            lat=37.773972,\n",
    "            lon=-122.431297\n",
    "        ),\n",
    "        pitch=0,\n",
    "        zoom=10\n",
    "    ),\n",
    ")\n",
    "layout = go.Layout(layout)"
   ]
  },
  {
   "cell_type": "code",
   "execution_count": null,
   "metadata": {
    "collapsed": true
   },
   "outputs": [],
   "source": [
    "fig = go.Figure(data = data, layout = layout)\n",
    "py.iplot(fig)"
   ]
  },
  {
   "cell_type": "markdown",
   "metadata": {},
   "source": [
    "<h3>Map with Folium</h3>"
   ]
  },
  {
   "cell_type": "code",
   "execution_count": null,
   "metadata": {
    "collapsed": true
   },
   "outputs": [],
   "source": [
    "#For popup in the map graph\n",
    "text_income = SF_income.apply(lambda x: 'ZipCode: {}{}Population: {}{}Median Income: ${}{}Mean Income: ${}'.format(\n",
    "        x[0], 40*' ', x[3], 20*' ', x[1], 20*' ', x[2]),axis=1)"
   ]
  },
  {
   "cell_type": "code",
   "execution_count": null,
   "metadata": {
    "collapsed": true
   },
   "outputs": [],
   "source": [
    "SF_station = station[station.landmark == 'San Francisco'].dropna().reset_index(drop = True)"
   ]
  },
  {
   "cell_type": "code",
   "execution_count": null,
   "metadata": {
    "collapsed": true
   },
   "outputs": [],
   "source": [
    "SF_station = pd.merge(left = SF_station, right=TwoTrip_count(station, trip)[['station_id', 'departure_count', 'arrival_count']],\n",
    "        on = 'station_id')"
   ]
  },
  {
   "cell_type": "code",
   "execution_count": null,
   "metadata": {
    "collapsed": true
   },
   "outputs": [],
   "source": [
    "text_station = SF_station.apply(lambda x: '<font size=\"2\" face=\"verdana\"><b>Station:</b> {}<br><b>Dock Count:</b> {}<br><b>Departure Count:</b> {}<br><b>Arrival Count:</b> {}</font>'.format(\n",
    "        x[1], x[4], x[-2], x[-1]),axis=1)"
   ]
  },
  {
   "cell_type": "code",
   "execution_count": null,
   "metadata": {
    "collapsed": true
   },
   "outputs": [],
   "source": [
    "map = folium.Map(location = [37.773972, -122.431297], \n",
    "                 tiles= 'OpenStreetMap', zoom_start=12)"
   ]
  },
  {
   "cell_type": "code",
   "execution_count": null,
   "metadata": {
    "collapsed": true
   },
   "outputs": [],
   "source": [
    "for i in range(len(bikeCrime)):\n",
    "    folium.CircleMarker([bikeCrime.lat[i], bikeCrime.lon[i]]\n",
    "                       ,radius = 3,\n",
    "                       color='red',\n",
    "                       fill_color = 'red').add_to(map)"
   ]
  },
  {
   "cell_type": "code",
   "execution_count": null,
   "metadata": {
    "collapsed": true
   },
   "outputs": [],
   "source": [
    "for i in range(len(SF_station)):\n",
    "    iframe = folium.element.IFrame(html=text_station[i], width=330, height=85)\n",
    "    popup = folium.Popup(iframe, max_width=2650)\n",
    "    folium.Marker([SF_station.lat[i], SF_station.long[i]],\n",
    "                 icon=folium.Icon(color='green'),\n",
    "                 popup = popup).add_to(map)"
   ]
  },
  {
   "cell_type": "code",
   "execution_count": null,
   "metadata": {
    "collapsed": true
   },
   "outputs": [],
   "source": [
    "for i in range(len(SF_income)):\n",
    "    popup = folium.Popup(text_income[i], max_width=140)\n",
    "    folium.CircleMarker([SF_income.lat[i], SF_income.lon[i]],\n",
    "                        radius = point_size[i]*250,\n",
    "                        popup = popup,\n",
    "                        color='#3186cc',\n",
    "                        fill_color='#3186cc',\n",
    "                   ).add_to(map)"
   ]
  },
  {
   "cell_type": "code",
   "execution_count": null,
   "metadata": {
    "collapsed": true
   },
   "outputs": [],
   "source": [
    "map"
   ]
  },
  {
   "cell_type": "markdown",
   "metadata": {},
   "source": [
    "# PAM'S CODES"
   ]
  },
  {
   "cell_type": "code",
   "execution_count": 3,
   "metadata": {
    "collapsed": true
   },
   "outputs": [],
   "source": [
    "path = '~/Dropbox/141B/Project/data'"
   ]
  },
  {
   "cell_type": "code",
   "execution_count": 4,
   "metadata": {
    "collapsed": false
   },
   "outputs": [],
   "source": [
    "#more imports: Pam's additions\n",
    "from matplotlib.dates import MO, TU, WE, TH, FR, SA, SU\n",
    "import parser\n",
    "import math\n",
    "import plotly\n",
    "import plotly.plotly as py\n",
    "import plotly.graph_objs as go\n",
    "import datetime\n",
    "import plotly.plotly as py\n",
    "from plotly.graph_objs import *\n",
    "from pandas.tseries.holiday import USFederalHolidayCalendar as calendar\n",
    "import plotly.graph_objs as go"
   ]
  },
  {
   "cell_type": "markdown",
   "metadata": {},
   "source": [
    "__Some manual cleaning of 2014 data:__ \n",
    "* Rename files\n",
    "* Copy column names from weather1 to weather 2 to get rid of underscores and to concat the dataframes\n",
    "* Format dates in both weather files to be mm/dd/yyyy"
   ]
  },
  {
   "cell_type": "code",
   "execution_count": 5,
   "metadata": {
    "collapsed": false
   },
   "outputs": [],
   "source": [
    "def read_data14(path, year):\n",
    "    \"\"\"\n",
    "    reads csv data and returns 4 data frames for the given year; this function is specifically for 2014 data\n",
    "    input: path\n",
    "    output: 4 data frames (station, status, trip, and weather)\n",
    "    \"\"\"\n",
    "    path = path + '/' + str(year) + '/'\n",
    "    station1 = pd.read_csv(path + 'station1.csv')\n",
    "    station2 = pd.read_csv(path + 'station2.csv')\n",
    "    status1 = pd.read_csv(path + 'status1.csv')\n",
    "    status2 = pd.read_csv(path + 'status2.csv')\n",
    "    trip1 = pd.read_csv(path + 'trip1.csv')\n",
    "    trip2 = pd.read_csv(path + 'trip2.csv')\n",
    "    weather1 = pd.read_csv(path + 'weather1.csv')\n",
    "    weather2 = pd.read_csv(path + 'weather2.csv')\n",
    "    station = pd.concat([station1, station2])\n",
    "    status = pd.concat([status1, status2])\n",
    "    trip = pd.concat([trip1, trip2])\n",
    "    weather = pd.concat([weather1, weather2])\n",
    "    \n",
    "    return station, status, trip, weather"
   ]
  },
  {
   "cell_type": "code",
   "execution_count": 46,
   "metadata": {
    "collapsed": true
   },
   "outputs": [],
   "source": [
    "station16, status16, trip16, weather16 = read_data(path, 2016)"
   ]
  },
  {
   "cell_type": "code",
   "execution_count": 7,
   "metadata": {
    "collapsed": false
   },
   "outputs": [],
   "source": [
    "station15, status15, trip15, weather15 = read_data(path, 2015)"
   ]
  },
  {
   "cell_type": "code",
   "execution_count": 49,
   "metadata": {
    "collapsed": false
   },
   "outputs": [],
   "source": [
    "station14, status14, trip14, weather14 = read_data(path, 2014)"
   ]
  },
  {
   "cell_type": "markdown",
   "metadata": {},
   "source": [
    "__Format the dataframes we will need for analysis__"
   ]
  },
  {
   "cell_type": "code",
   "execution_count": 9,
   "metadata": {
    "collapsed": false
   },
   "outputs": [],
   "source": [
    "def format_df(trip, weather, year):\n",
    "    \"\"\"\n",
    "    Takes trip and weather data frames and formats them for analysis. Also creates new\n",
    "    dataframes for analysis. \n",
    "    Input: trip and weather pandas dataframes; year as a string\n",
    "    Output: dataframes trip, weather, total_rides, weather_ave, weekend_rides, hol_rides, weekday_rides, \n",
    "    total_weekday_rides, min_dur_rides, hr_dur_rides, total_min_rides, total_hr_rides, rides_by_hour, \n",
    "    total_rides_by_hour \n",
    "    \"\"\"\n",
    "    trip['Count'] = 1\n",
    "    trip['Start Date'] = pd.to_datetime(trip['Start Date'], format='%m/%d/%Y %H:%M')\n",
    "    trip['End Date'] = pd.to_datetime(trip['End Date'], format='%m/%d/%Y %H:%M')\n",
    "    trip['Day of Week'] = trip.apply(lambda x:  x.loc[('Start Date')].strftime('%A'), axis=1)\n",
    "    trip['Date'] = trip.apply(lambda x:  x.loc[('Start Date')].strftime('%m/%d/%Y'), axis=1)\n",
    "    trip['Date'] = pd.to_datetime(trip['Date'], format = '%m/%d/%Y')\n",
    "    diff = (trip['End Date']-trip['Start Date'])\n",
    "    trip['Duration'] = diff.apply(lambda x:  x.seconds)\n",
    "    cal = calendar()\n",
    "    holidays = cal.holidays(start=trip['Date'].min(), end=trip['Date'].max())\n",
    "    trip['Holiday']=trip['Date'].apply(lambda date: date in holidays)\n",
    "    total_rides = trip[['Count', 'Date']]\n",
    "    total_rides = total_rides.groupby(['Date'], as_index = False).sum()\n",
    "    weather = weather.rename(index=str, columns={'PDT': 'Date',})\n",
    "    weather['Date'] = pd.to_datetime(weather['Date'], format='%m/%d/%Y')\n",
    "    weather = weather.set_index('Date')\n",
    "    if year == '2015':\n",
    "        weather = weather.set_index('Zip', append = True)\n",
    "    elif year == '2014':\n",
    "        weather = weather.set_index('Zip', append = True)\n",
    "    elif year == '2016':\n",
    "        weather = weather.set_index('ZIP', append = True)       \n",
    "    weather['PrecipitationIn'] = pd.to_numeric(weather['PrecipitationIn'].replace('T', 0))\n",
    "    weather_ave = weather.groupby(level = 'Date').mean()\n",
    "    weekend_rides = trip.loc[trip['Day of Week'].isin(['Saturday','Sunday'])]\n",
    "    weekend_rides = weekend_rides[['Count', 'Date']]\n",
    "    weekend_rides = weekend_rides.groupby(['Date'], as_index = False).sum()\n",
    "    hol_rides = trip.loc[trip['Holiday'] == True]\n",
    "    hol_rides = hol_rides[['Count', 'Date']]\n",
    "    hol_rides = hol_rides.groupby(['Date'], as_index = False).sum()\n",
    "    weekday_rides = trip[['Count', 'Subscriber Type', 'Day of Week']]\n",
    "    weekday_rides = weekday_rides.groupby(['Day of Week', 'Subscriber Type'], as_index = False).sum()\n",
    "    sorter = ['Sunday', 'Monday', 'Tuesday', 'Wednesday', 'Thursday', 'Friday', 'Saturday']\n",
    "    weekday_rides['Day of Week'] = weekday_rides['Day of Week'].astype(\"category\")\n",
    "    weekday_rides['Day of Week'].cat.set_categories(sorter, inplace=True)\n",
    "    weekday_rides = weekday_rides.sort_values(['Day of Week'])\n",
    "    weekday_rides.loc[weekday_rides['Subscriber Type']=='Customer']\n",
    "    total_weekday_rides = weekday_rides.groupby(['Day of Week'], as_index = False).sum()\n",
    "    min_dur_rides = trip[['Count', 'Subscriber Type', 'Duration']]\n",
    "    min_dur_rides.loc[:,'Duration'] = min_dur_rides['Duration']//60\n",
    "    min_dur_rides = min_dur_rides.groupby(['Duration', 'Subscriber Type'], as_index = False).sum()\n",
    "    min_dur_rides = min_dur_rides.groupby([pd.cut(min_dur_rides['Duration'], np.arange(0,61,5)),'Subscriber Type']).sum()\n",
    "    hr_dur_rides = trip[['Count', 'Subscriber Type', 'Duration']]\n",
    "    hr_dur_rides.loc[:,'Duration'] = hr_dur_rides['Duration']//3600\n",
    "    hr_dur_rides = hr_dur_rides.groupby(['Duration', 'Subscriber Type'], as_index = False).sum()\n",
    "    hr_dur_rides = hr_dur_rides.groupby([pd.cut(hr_dur_rides['Duration'], np.arange(0,25,2)),'Subscriber Type']).sum()\n",
    "    total_min_rides = trip[['Count', 'Subscriber Type', 'Duration']]\n",
    "    total_min_rides.loc[:,'Duration'] = total_min_rides['Duration']//60\n",
    "    total_min_rides = total_min_rides.groupby(['Duration'], as_index = False).sum()\n",
    "    total_min_rides = total_min_rides.groupby(pd.cut(total_min_rides['Duration'], np.arange(0,61,5))).sum()\n",
    "    total_hr_rides = trip[['Count', 'Subscriber Type', 'Duration']]\n",
    "    total_hr_rides.loc[:,'Duration'] = total_hr_rides['Duration']//3600\n",
    "    total_hr_rides = total_hr_rides.groupby(['Duration'], as_index = False).sum()\n",
    "    total_hr_rides = total_hr_rides.groupby(pd.cut(total_hr_rides['Duration'], np.arange(0,25,2))).sum()\n",
    "    trip['Hour'] = trip['Start Date'].apply(lambda x:  x.hour)\n",
    "    rides_by_hour = trip[['Count', 'Subscriber Type', 'Hour']]\n",
    "    rides_by_hour = rides_by_hour.groupby(['Hour', 'Subscriber Type'], as_index = False).sum()\n",
    "    total_rides_by_hour = rides_by_hour.groupby(['Hour'], as_index = False).sum()\n",
    "    return trip, weather, total_rides, weather_ave, weekend_rides, hol_rides, weekday_rides, total_weekday_rides, min_dur_rides, hr_dur_rides, total_min_rides, total_hr_rides, rides_by_hour, total_rides_by_hour "
   ]
  },
  {
   "cell_type": "code",
   "execution_count": 10,
   "metadata": {
    "collapsed": false
   },
   "outputs": [
    {
     "name": "stderr",
     "output_type": "stream",
     "text": [
      "/Users/pampatterson/anaconda2/lib/python2.7/site-packages/pandas/core/indexing.py:465: SettingWithCopyWarning:\n",
      "\n",
      "\n",
      "A value is trying to be set on a copy of a slice from a DataFrame.\n",
      "Try using .loc[row_indexer,col_indexer] = value instead\n",
      "\n",
      "See the caveats in the documentation: http://pandas.pydata.org/pandas-docs/stable/indexing.html#indexing-view-versus-copy\n",
      "\n"
     ]
    }
   ],
   "source": [
    "trip14, weather14, total_rides14, weather_ave14, weekend_rides14, hol_rides14, weekday_rides14, total_weekday_rides14, min_dur_rides14, hr_dur_rides14, total_min_rides14, total_hr_rides14, rides_by_hour14, total_rides_by_hour14 = format_df(trip14, weather14, '2014') "
   ]
  },
  {
   "cell_type": "code",
   "execution_count": 11,
   "metadata": {
    "collapsed": false
   },
   "outputs": [],
   "source": [
    "trip15, weather15, total_rides15, weather_ave15, weekend_rides15, hol_rides15, weekday_rides15, total_weekday_rides15, min_dur_rides15, hr_dur_rides15, total_min_rides15, total_hr_rides15, rides_by_hour15, total_rides_by_hour15 = format_df(trip15, weather15, '2015') "
   ]
  },
  {
   "cell_type": "code",
   "execution_count": 12,
   "metadata": {
    "collapsed": false
   },
   "outputs": [],
   "source": [
    "trip16, weather16, total_rides16, weather_ave16, weekend_rides16, hol_rides16, weekday_rides16, total_weekday_rides16, min_dur_rides16, hr_dur_rides16, total_min_rides16, total_hr_rides16, rides_by_hour16, total_rides_by_hour16 = format_df(trip16, weather16, '2016') "
   ]
  },
  {
   "cell_type": "markdown",
   "metadata": {},
   "source": [
    "__Functions for plots and plots follow__"
   ]
  },
  {
   "cell_type": "code",
   "execution_count": 13,
   "metadata": {
    "collapsed": false
   },
   "outputs": [],
   "source": [
    "def weather_plot(x,y1,y2, y2_label, file_name, title):\n",
    "    \"\"\"\n",
    "    Returns dual axis plot with the x axis being the date, the left and right y-axis being inputed by user\n",
    "    Input: y1 is the data for the left-axis; should have 365 entries, sorted by date;\n",
    "    y2 is the data for the right y-axis; should have 365 entries, sorted by date; \n",
    "    y2_label is a string\n",
    "    file_name: string of what to name file in plotly account\n",
    "    Output: a graph\n",
    "    \"\"\"\n",
    "\n",
    "    trace1 = go.Scatter(x=x,y=y1,name='Total Rides')\n",
    "    trace2 = go.Scatter(x=x,y=y2,name=y2_label,yaxis='y2')\n",
    "    data = [trace1, trace2]\n",
    "    layout = go.Layout(title=title,yaxis=dict(title='Total Rides'),\n",
    "                       yaxis2=dict(title=y2_label,titlefont=dict(color='rgb(148, 103, 189)'),\n",
    "                                   tickfont=dict(color='rgb(148, 103, 189)'),overlaying='y',side='right'))\n",
    "    fig = go.Figure(data=data, layout=layout)\n",
    "    return py.iplot(fig, filename= file_name)"
   ]
  },
  {
   "cell_type": "markdown",
   "metadata": {},
   "source": [
    "__Total rides and mean wind speed by date for 2014, 2015, 2016__"
   ]
  },
  {
   "cell_type": "code",
   "execution_count": 14,
   "metadata": {
    "collapsed": false
   },
   "outputs": [
    {
     "data": {
      "text/html": [
       "<iframe id=\"igraph\" scrolling=\"no\" style=\"border:none;\" seamless=\"seamless\" src=\"https://plot.ly/~pamelot317/4.embed\" height=\"525px\" width=\"100%\"></iframe>"
      ],
      "text/plain": [
       "<plotly.tools.PlotlyDisplay object>"
      ]
     },
     "execution_count": 14,
     "metadata": {},
     "output_type": "execute_result"
    }
   ],
   "source": [
    "weather_plot(total_rides14['Date'], total_rides14['Count'], weather_ave14[' Mean Wind SpeedMPH'], \n",
    "             'Mean Wind Speed MPH', 'Wind and Trips', 'Total Rides and Mean Wind Speed by Date 2014')"
   ]
  },
  {
   "cell_type": "code",
   "execution_count": 15,
   "metadata": {
    "collapsed": false
   },
   "outputs": [
    {
     "data": {
      "text/html": [
       "<iframe id=\"igraph\" scrolling=\"no\" style=\"border:none;\" seamless=\"seamless\" src=\"https://plot.ly/~pamelot317/4.embed\" height=\"525px\" width=\"100%\"></iframe>"
      ],
      "text/plain": [
       "<plotly.tools.PlotlyDisplay object>"
      ]
     },
     "execution_count": 15,
     "metadata": {},
     "output_type": "execute_result"
    }
   ],
   "source": [
    "weather_plot(total_rides15['Date'], total_rides15['Count'], weather_ave15[' Mean Wind SpeedMPH'], \n",
    "             'Mean Wind Speed MPH', 'Wind and Trips', 'Total Rides and Mean Wind Speed by Date 2015')"
   ]
  },
  {
   "cell_type": "code",
   "execution_count": 16,
   "metadata": {
    "collapsed": false
   },
   "outputs": [
    {
     "data": {
      "text/html": [
       "<iframe id=\"igraph\" scrolling=\"no\" style=\"border:none;\" seamless=\"seamless\" src=\"https://plot.ly/~pamelot317/4.embed\" height=\"525px\" width=\"100%\"></iframe>"
      ],
      "text/plain": [
       "<plotly.tools.PlotlyDisplay object>"
      ]
     },
     "execution_count": 16,
     "metadata": {},
     "output_type": "execute_result"
    }
   ],
   "source": [
    "weather_plot(total_rides16['Date'],total_rides16['Count'], weather_ave16[' Mean Wind SpeedMPH'], \n",
    "             'Mean Wind Speed MPH', 'Wind and Trips', 'Total Rides and Mean Wind Speed by Date 2016')"
   ]
  },
  {
   "cell_type": "markdown",
   "metadata": {},
   "source": [
    "__Total rides and mean temperature by date for 2014, 2015, 2016__"
   ]
  },
  {
   "cell_type": "code",
   "execution_count": 17,
   "metadata": {
    "collapsed": false
   },
   "outputs": [
    {
     "data": {
      "text/html": [
       "<iframe id=\"igraph\" scrolling=\"no\" style=\"border:none;\" seamless=\"seamless\" src=\"https://plot.ly/~pamelot317/6.embed\" height=\"525px\" width=\"100%\"></iframe>"
      ],
      "text/plain": [
       "<plotly.tools.PlotlyDisplay object>"
      ]
     },
     "execution_count": 17,
     "metadata": {},
     "output_type": "execute_result"
    }
   ],
   "source": [
    "weather_plot(total_rides14['Date'],total_rides14['Count'], weather_ave14['Mean TemperatureF'], \n",
    "             'Mean Temperature F', 'Temp and Trips', 'Total Rides and Mean Temperature by Date 2014')"
   ]
  },
  {
   "cell_type": "code",
   "execution_count": 18,
   "metadata": {
    "collapsed": false
   },
   "outputs": [
    {
     "data": {
      "text/html": [
       "<iframe id=\"igraph\" scrolling=\"no\" style=\"border:none;\" seamless=\"seamless\" src=\"https://plot.ly/~pamelot317/6.embed\" height=\"525px\" width=\"100%\"></iframe>"
      ],
      "text/plain": [
       "<plotly.tools.PlotlyDisplay object>"
      ]
     },
     "execution_count": 18,
     "metadata": {},
     "output_type": "execute_result"
    }
   ],
   "source": [
    "weather_plot(total_rides15['Date'],total_rides15['Count'], weather_ave15['Mean TemperatureF'], \n",
    "             'Mean Temperature F', 'Temp and Trips', 'Total Rides and Mean Temperature by Date 2015')"
   ]
  },
  {
   "cell_type": "code",
   "execution_count": 19,
   "metadata": {
    "collapsed": false
   },
   "outputs": [
    {
     "data": {
      "text/html": [
       "<iframe id=\"igraph\" scrolling=\"no\" style=\"border:none;\" seamless=\"seamless\" src=\"https://plot.ly/~pamelot317/6.embed\" height=\"525px\" width=\"100%\"></iframe>"
      ],
      "text/plain": [
       "<plotly.tools.PlotlyDisplay object>"
      ]
     },
     "execution_count": 19,
     "metadata": {},
     "output_type": "execute_result"
    }
   ],
   "source": [
    "weather_plot(total_rides16['Date'],total_rides16['Count'], weather_ave16['Mean TemperatureF'], \n",
    "             'Mean Temperature F', 'Temp and Trips', 'Total Rides and Mean Temperature by Date 2016')"
   ]
  },
  {
   "cell_type": "markdown",
   "metadata": {},
   "source": [
    "__Total rides and precipitatoin by date for 2014, 2015, and 2016__"
   ]
  },
  {
   "cell_type": "code",
   "execution_count": 20,
   "metadata": {
    "collapsed": false
   },
   "outputs": [
    {
     "data": {
      "text/html": [
       "<iframe id=\"igraph\" scrolling=\"no\" style=\"border:none;\" seamless=\"seamless\" src=\"https://plot.ly/~pamelot317/8.embed\" height=\"525px\" width=\"100%\"></iframe>"
      ],
      "text/plain": [
       "<plotly.tools.PlotlyDisplay object>"
      ]
     },
     "execution_count": 20,
     "metadata": {},
     "output_type": "execute_result"
    }
   ],
   "source": [
    "weather_plot(total_rides14['Date'],total_rides14['Count'], weather_ave14['PrecipitationIn'], 'Precipitation In', 'Precip and Trips', \n",
    "             'Total Rides and Precipitation by Date 2014')"
   ]
  },
  {
   "cell_type": "code",
   "execution_count": 21,
   "metadata": {
    "collapsed": false
   },
   "outputs": [
    {
     "data": {
      "text/html": [
       "<iframe id=\"igraph\" scrolling=\"no\" style=\"border:none;\" seamless=\"seamless\" src=\"https://plot.ly/~pamelot317/8.embed\" height=\"525px\" width=\"100%\"></iframe>"
      ],
      "text/plain": [
       "<plotly.tools.PlotlyDisplay object>"
      ]
     },
     "execution_count": 21,
     "metadata": {},
     "output_type": "execute_result"
    }
   ],
   "source": [
    "weather_plot(total_rides15['Date'],total_rides15['Count'], weather_ave15['PrecipitationIn'], 'Precipitation In', 'Precip and Trips', \n",
    "             'Total Rides and Precipitation by Date 2015')"
   ]
  },
  {
   "cell_type": "code",
   "execution_count": 22,
   "metadata": {
    "collapsed": false
   },
   "outputs": [
    {
     "data": {
      "text/html": [
       "<iframe id=\"igraph\" scrolling=\"no\" style=\"border:none;\" seamless=\"seamless\" src=\"https://plot.ly/~pamelot317/8.embed\" height=\"525px\" width=\"100%\"></iframe>"
      ],
      "text/plain": [
       "<plotly.tools.PlotlyDisplay object>"
      ]
     },
     "execution_count": 22,
     "metadata": {},
     "output_type": "execute_result"
    }
   ],
   "source": [
    "weather_plot(total_rides16['Date'],total_rides16['Count'], weather_ave16['PrecipitationIn'], 'Precipitation In', 'Precip and Trips', \n",
    "             'Total Rides and Precipitation by Date 2016')"
   ]
  },
  {
   "cell_type": "code",
   "execution_count": 23,
   "metadata": {
    "collapsed": true
   },
   "outputs": [],
   "source": [
    "def weekend_hol_plot(x1,x2,y1,y2, y2_label, file_name, title):\n",
    "    \"\"\"\n",
    "    Returns dual axis plot with the x axis being the day, the left and right y-axis being inputed by user\n",
    "    input: y1 is the data for the left-axis; should have 365 entries, sorted by date;\n",
    "    y2 is the data for the right y-axis; should have 365 entries, sorted by date; \n",
    "    y2_label is a string\n",
    "    file_name: string of what to name file in plotly account\n",
    "    output: a graph\n",
    "    \"\"\"\n",
    "\n",
    "    trace1 = go.Scatter(x=x1,y=y1,name='Total Rides')\n",
    "    trace2 = go.Bar(x=x2,y=y2,name=y2_label)\n",
    "    data = [trace1, trace2]\n",
    "    layout = go.Layout(title=title,yaxis=dict(title='Total Rides'),\n",
    "                       yaxis2=dict(title=y2_label,titlefont=dict(color='rgb(148, 103, 189)'),\n",
    "                                   tickfont=dict(color='rgb(148, 103, 189)'),overlaying='y',side='right'))\n",
    "    fig = go.Figure(data=data, layout=layout)\n",
    "    return py.iplot(fig, filename= file_name)"
   ]
  },
  {
   "cell_type": "markdown",
   "metadata": {},
   "source": [
    "__Total rides with holidays highlighted for 2014, 2015, 2016__"
   ]
  },
  {
   "cell_type": "code",
   "execution_count": 24,
   "metadata": {
    "collapsed": false
   },
   "outputs": [
    {
     "data": {
      "text/html": [
       "<iframe id=\"igraph\" scrolling=\"no\" style=\"border:none;\" seamless=\"seamless\" src=\"https://plot.ly/~pamelot317/10.embed\" height=\"525px\" width=\"100%\"></iframe>"
      ],
      "text/plain": [
       "<plotly.tools.PlotlyDisplay object>"
      ]
     },
     "execution_count": 24,
     "metadata": {},
     "output_type": "execute_result"
    }
   ],
   "source": [
    "weekend_hol_plot(total_rides14['Date'],hol_rides14['Date'],total_rides14['Count'],hol_rides14['Count'],'Holidays',\n",
    "                 'Holidays and Trips', 'Holidays and Trips 2014')"
   ]
  },
  {
   "cell_type": "code",
   "execution_count": 25,
   "metadata": {
    "collapsed": false
   },
   "outputs": [
    {
     "data": {
      "text/html": [
       "<iframe id=\"igraph\" scrolling=\"no\" style=\"border:none;\" seamless=\"seamless\" src=\"https://plot.ly/~pamelot317/10.embed\" height=\"525px\" width=\"100%\"></iframe>"
      ],
      "text/plain": [
       "<plotly.tools.PlotlyDisplay object>"
      ]
     },
     "execution_count": 25,
     "metadata": {},
     "output_type": "execute_result"
    }
   ],
   "source": [
    "weekend_hol_plot(total_rides15['Date'],hol_rides15['Date'],total_rides15['Count'],hol_rides15['Count'],'Holidays',\n",
    "                 'Holidays and Trips', 'Holidays and Trips 2015')"
   ]
  },
  {
   "cell_type": "code",
   "execution_count": 26,
   "metadata": {
    "collapsed": false
   },
   "outputs": [
    {
     "data": {
      "text/html": [
       "<iframe id=\"igraph\" scrolling=\"no\" style=\"border:none;\" seamless=\"seamless\" src=\"https://plot.ly/~pamelot317/10.embed\" height=\"525px\" width=\"100%\"></iframe>"
      ],
      "text/plain": [
       "<plotly.tools.PlotlyDisplay object>"
      ]
     },
     "execution_count": 26,
     "metadata": {},
     "output_type": "execute_result"
    }
   ],
   "source": [
    "weekend_hol_plot(total_rides16['Date'],hol_rides16['Date'],total_rides16['Count'],hol_rides16['Count'],'Holidays',\n",
    "                 'Holidays and Trips', 'Holidays and Trips 2016')"
   ]
  },
  {
   "cell_type": "markdown",
   "metadata": {},
   "source": [
    "__Total rides with weekends highlighted for 2014, 2015, and 2016__"
   ]
  },
  {
   "cell_type": "code",
   "execution_count": 27,
   "metadata": {
    "collapsed": false
   },
   "outputs": [
    {
     "data": {
      "text/html": [
       "<iframe id=\"igraph\" scrolling=\"no\" style=\"border:none;\" seamless=\"seamless\" src=\"https://plot.ly/~pamelot317/12.embed\" height=\"525px\" width=\"100%\"></iframe>"
      ],
      "text/plain": [
       "<plotly.tools.PlotlyDisplay object>"
      ]
     },
     "execution_count": 27,
     "metadata": {},
     "output_type": "execute_result"
    }
   ],
   "source": [
    "weekend_hol_plot(total_rides14['Date'],weekend_rides14['Date'],total_rides14['Count'],weekend_rides15['Count'],\n",
    "                 'Weekends','Weekends and Trips', 'Weekends and Trips 2014')"
   ]
  },
  {
   "cell_type": "code",
   "execution_count": 28,
   "metadata": {
    "collapsed": false
   },
   "outputs": [
    {
     "data": {
      "text/html": [
       "<iframe id=\"igraph\" scrolling=\"no\" style=\"border:none;\" seamless=\"seamless\" src=\"https://plot.ly/~pamelot317/12.embed\" height=\"525px\" width=\"100%\"></iframe>"
      ],
      "text/plain": [
       "<plotly.tools.PlotlyDisplay object>"
      ]
     },
     "execution_count": 28,
     "metadata": {},
     "output_type": "execute_result"
    }
   ],
   "source": [
    "weekend_hol_plot(total_rides15['Date'],weekend_rides15['Date'],total_rides15['Count'],weekend_rides15['Count'],\n",
    "                 'Weekends','Weekends and Trips', 'Weekends and Trips 2015')"
   ]
  },
  {
   "cell_type": "code",
   "execution_count": 29,
   "metadata": {
    "collapsed": false
   },
   "outputs": [
    {
     "data": {
      "text/html": [
       "<iframe id=\"igraph\" scrolling=\"no\" style=\"border:none;\" seamless=\"seamless\" src=\"https://plot.ly/~pamelot317/12.embed\" height=\"525px\" width=\"100%\"></iframe>"
      ],
      "text/plain": [
       "<plotly.tools.PlotlyDisplay object>"
      ]
     },
     "execution_count": 29,
     "metadata": {},
     "output_type": "execute_result"
    }
   ],
   "source": [
    "weekend_hol_plot(total_rides16['Date'],weekend_rides16['Date'],total_rides16['Count'],weekend_rides16['Count'],\n",
    "                 'Weekends','Weekends and Trips', 'Weekends and Trips 2016')"
   ]
  },
  {
   "cell_type": "code",
   "execution_count": 30,
   "metadata": {
    "collapsed": false
   },
   "outputs": [],
   "source": [
    "def grouped_bar(x1, y1, x2, y2, x3, y3, file_name, title, x_title):\n",
    "    \"\"\"\n",
    "    Takes axis data for a 3 grouped bar chart and outputs a grouped bar chart. \n",
    "    Input: x1, y1, x2, y2, x3, y3 series data for different bars, the x data should align;\n",
    "    filename: what to name the plotly file, string; title: of the graph; x_title: lable for x-axis\n",
    "    Output: a grouped bar chart\n",
    "    \"\"\"\n",
    "    trace1 = go.Bar(x=x1,y=y1,name='Total')\n",
    "    trace2 = go.Bar(x=x2,y=y2,name='Customer')\n",
    "    trace3 = go.Bar(x=x3,y=y3,name='Subscriber')\n",
    "    data = [trace1, trace2, trace3]\n",
    "    layout = go.Layout(title = title, xaxis = dict(title = x_title),yaxis = dict(title = 'Total Rides'),barmode='group')\n",
    "    fig = go.Figure(data=data, layout=layout)\n",
    "    return py.iplot(fig, filename=file_name)"
   ]
  },
  {
   "cell_type": "markdown",
   "metadata": {},
   "source": [
    "__Total rides by day of the week, separated into subscriber type for 2014, 2015, and 2016__"
   ]
  },
  {
   "cell_type": "code",
   "execution_count": 31,
   "metadata": {
    "collapsed": false
   },
   "outputs": [
    {
     "data": {
      "text/html": [
       "<iframe id=\"igraph\" scrolling=\"no\" style=\"border:none;\" seamless=\"seamless\" src=\"https://plot.ly/~pamelot317/19.embed\" height=\"525px\" width=\"100%\"></iframe>"
      ],
      "text/plain": [
       "<plotly.tools.PlotlyDisplay object>"
      ]
     },
     "execution_count": 31,
     "metadata": {},
     "output_type": "execute_result"
    }
   ],
   "source": [
    "grouped_bar(total_weekday_rides14['Day of Week'],total_weekday_rides14['Count'],\n",
    "            weekday_rides14.loc[weekday_rides14['Subscriber Type']=='Customer']['Day of Week'],\n",
    "            weekday_rides14.loc[weekday_rides14['Subscriber Type']=='Customer']['Count'],\n",
    "            weekday_rides14.loc[weekday_rides14['Subscriber Type']=='Subscriber']['Day of Week'],\n",
    "            weekday_rides14.loc[weekday_rides14['Subscriber Type']=='Subscriber']['Count'], 'Day of Week Plot', \n",
    "            'Total Rides by Day of Week 2014', 'Day of Week')"
   ]
  },
  {
   "cell_type": "code",
   "execution_count": 32,
   "metadata": {
    "collapsed": false
   },
   "outputs": [
    {
     "data": {
      "text/html": [
       "<iframe id=\"igraph\" scrolling=\"no\" style=\"border:none;\" seamless=\"seamless\" src=\"https://plot.ly/~pamelot317/19.embed\" height=\"525px\" width=\"100%\"></iframe>"
      ],
      "text/plain": [
       "<plotly.tools.PlotlyDisplay object>"
      ]
     },
     "execution_count": 32,
     "metadata": {},
     "output_type": "execute_result"
    }
   ],
   "source": [
    "grouped_bar(total_weekday_rides15['Day of Week'],total_weekday_rides15['Count'],\n",
    "            weekday_rides15.loc[weekday_rides15['Subscriber Type']=='Customer']['Day of Week'],\n",
    "            weekday_rides15.loc[weekday_rides15['Subscriber Type']=='Customer']['Count'],\n",
    "            weekday_rides15.loc[weekday_rides15['Subscriber Type']=='Subscriber']['Day of Week'],\n",
    "            weekday_rides15.loc[weekday_rides15['Subscriber Type']=='Subscriber']['Count'], 'Day of Week Plot', \n",
    "            'Total Rides by Day of Week 2015', 'Day of Week')"
   ]
  },
  {
   "cell_type": "code",
   "execution_count": 33,
   "metadata": {
    "collapsed": false
   },
   "outputs": [
    {
     "data": {
      "text/html": [
       "<iframe id=\"igraph\" scrolling=\"no\" style=\"border:none;\" seamless=\"seamless\" src=\"https://plot.ly/~pamelot317/19.embed\" height=\"525px\" width=\"100%\"></iframe>"
      ],
      "text/plain": [
       "<plotly.tools.PlotlyDisplay object>"
      ]
     },
     "execution_count": 33,
     "metadata": {},
     "output_type": "execute_result"
    }
   ],
   "source": [
    "grouped_bar(total_weekday_rides16['Day of Week'],total_weekday_rides16['Count'],\n",
    "            weekday_rides16.loc[weekday_rides16['Subscriber Type']=='Customer']['Day of Week'],\n",
    "            weekday_rides16.loc[weekday_rides16['Subscriber Type']=='Customer']['Count'],\n",
    "            weekday_rides16.loc[weekday_rides16['Subscriber Type']=='Subscriber']['Day of Week'],\n",
    "            weekday_rides16.loc[weekday_rides16['Subscriber Type']=='Subscriber']['Count'], 'Day of Week Plot', \n",
    "            'Total Rides by Day of Week 2016', 'Day of Week')"
   ]
  },
  {
   "cell_type": "markdown",
   "metadata": {},
   "source": [
    "__Total rides by duration in minutes, grouped by subscriber type, for 2014, 2015, and 2016__"
   ]
  },
  {
   "cell_type": "code",
   "execution_count": 34,
   "metadata": {
    "collapsed": false
   },
   "outputs": [
    {
     "data": {
      "text/html": [
       "<iframe id=\"igraph\" scrolling=\"no\" style=\"border:none;\" seamless=\"seamless\" src=\"https://plot.ly/~pamelot317/21.embed\" height=\"525px\" width=\"100%\"></iframe>"
      ],
      "text/plain": [
       "<plotly.tools.PlotlyDisplay object>"
      ]
     },
     "execution_count": 34,
     "metadata": {},
     "output_type": "execute_result"
    }
   ],
   "source": [
    "grouped_bar(total_min_rides14.index.get_level_values('Duration'),total_min_rides14['Count'],\n",
    "            total_min_rides14.index.get_level_values('Duration'),\n",
    "            min_dur_rides14.loc[(min_dur_rides14.index.get_level_values('Subscriber Type') == 'Customer')]['Count'],\n",
    "            total_min_rides14.index.get_level_values('Duration'),\n",
    "            min_dur_rides14.loc[(min_dur_rides14.index.get_level_values('Subscriber Type') == 'Subscriber')]['Count'], \n",
    "            'Duration by Minute Plot', 'Ride Duration by Minute 2014', 'Minutes')"
   ]
  },
  {
   "cell_type": "code",
   "execution_count": 35,
   "metadata": {
    "collapsed": false
   },
   "outputs": [
    {
     "data": {
      "text/html": [
       "<iframe id=\"igraph\" scrolling=\"no\" style=\"border:none;\" seamless=\"seamless\" src=\"https://plot.ly/~pamelot317/21.embed\" height=\"525px\" width=\"100%\"></iframe>"
      ],
      "text/plain": [
       "<plotly.tools.PlotlyDisplay object>"
      ]
     },
     "execution_count": 35,
     "metadata": {},
     "output_type": "execute_result"
    }
   ],
   "source": [
    "grouped_bar(total_min_rides15.index.get_level_values('Duration'),total_min_rides15['Count'],\n",
    "            total_min_rides15.index.get_level_values('Duration'),\n",
    "            min_dur_rides15.loc[(min_dur_rides15.index.get_level_values('Subscriber Type') == 'Customer')]['Count'],\n",
    "            total_min_rides15.index.get_level_values('Duration'),\n",
    "            min_dur_rides15.loc[(min_dur_rides15.index.get_level_values('Subscriber Type') == 'Subscriber')]['Count'], \n",
    "            'Duration by Minute Plot', 'Ride Duration by Minute 2015', 'Minutes')"
   ]
  },
  {
   "cell_type": "code",
   "execution_count": 36,
   "metadata": {
    "collapsed": false
   },
   "outputs": [
    {
     "data": {
      "text/html": [
       "<iframe id=\"igraph\" scrolling=\"no\" style=\"border:none;\" seamless=\"seamless\" src=\"https://plot.ly/~pamelot317/21.embed\" height=\"525px\" width=\"100%\"></iframe>"
      ],
      "text/plain": [
       "<plotly.tools.PlotlyDisplay object>"
      ]
     },
     "execution_count": 36,
     "metadata": {},
     "output_type": "execute_result"
    }
   ],
   "source": [
    "grouped_bar(total_min_rides16.index.get_level_values('Duration'),total_min_rides16['Count'],\n",
    "            total_min_rides16.index.get_level_values('Duration'),\n",
    "            min_dur_rides16.loc[(min_dur_rides16.index.get_level_values('Subscriber Type') == 'Customer')]['Count'],\n",
    "            total_min_rides16.index.get_level_values('Duration'),\n",
    "            min_dur_rides16.loc[(min_dur_rides16.index.get_level_values('Subscriber Type') == 'Subscriber')]['Count'], \n",
    "            'Duration by Minute Plot', 'Ride Duration by Minute 2016', 'Minutes')"
   ]
  },
  {
   "cell_type": "markdown",
   "metadata": {},
   "source": [
    "__Total rides by duration in hours, grouped by subscriber type, for 2014, 2015, and 2016__"
   ]
  },
  {
   "cell_type": "code",
   "execution_count": 37,
   "metadata": {
    "collapsed": false
   },
   "outputs": [
    {
     "data": {
      "text/html": [
       "<iframe id=\"igraph\" scrolling=\"no\" style=\"border:none;\" seamless=\"seamless\" src=\"https://plot.ly/~pamelot317/23.embed\" height=\"525px\" width=\"100%\"></iframe>"
      ],
      "text/plain": [
       "<plotly.tools.PlotlyDisplay object>"
      ]
     },
     "execution_count": 37,
     "metadata": {},
     "output_type": "execute_result"
    }
   ],
   "source": [
    "grouped_bar(total_hr_rides14.index.get_level_values('Duration'),total_hr_rides14['Count'],\n",
    "            total_hr_rides14.index.get_level_values('Duration'),\n",
    "            hr_dur_rides14.loc[(hr_dur_rides14.index.get_level_values('Subscriber Type') == 'Customer')]['Count'],\n",
    "            total_hr_rides14.index.get_level_values('Duration'),\n",
    "            hr_dur_rides14.loc[(hr_dur_rides14.index.get_level_values('Subscriber Type') == 'Subscriber')]['Count'], \n",
    "            'Duration by Hour Plot', 'Ride Duration by Hour 2014', 'Hours')"
   ]
  },
  {
   "cell_type": "code",
   "execution_count": 38,
   "metadata": {
    "collapsed": false
   },
   "outputs": [
    {
     "data": {
      "text/html": [
       "<iframe id=\"igraph\" scrolling=\"no\" style=\"border:none;\" seamless=\"seamless\" src=\"https://plot.ly/~pamelot317/23.embed\" height=\"525px\" width=\"100%\"></iframe>"
      ],
      "text/plain": [
       "<plotly.tools.PlotlyDisplay object>"
      ]
     },
     "execution_count": 38,
     "metadata": {},
     "output_type": "execute_result"
    }
   ],
   "source": [
    "grouped_bar(total_hr_rides15.index.get_level_values('Duration'),total_hr_rides15['Count'],\n",
    "            total_hr_rides15.index.get_level_values('Duration'),\n",
    "            hr_dur_rides15.loc[(hr_dur_rides15.index.get_level_values('Subscriber Type') == 'Customer')]['Count'],\n",
    "            total_hr_rides15.index.get_level_values('Duration'),\n",
    "            hr_dur_rides15.loc[(hr_dur_rides15.index.get_level_values('Subscriber Type') == 'Subscriber')]['Count'], \n",
    "            'Duration by Hour Plot', 'Ride Duration by Hour 2015', 'Hours')"
   ]
  },
  {
   "cell_type": "code",
   "execution_count": 39,
   "metadata": {
    "collapsed": false
   },
   "outputs": [
    {
     "data": {
      "text/html": [
       "<iframe id=\"igraph\" scrolling=\"no\" style=\"border:none;\" seamless=\"seamless\" src=\"https://plot.ly/~pamelot317/23.embed\" height=\"525px\" width=\"100%\"></iframe>"
      ],
      "text/plain": [
       "<plotly.tools.PlotlyDisplay object>"
      ]
     },
     "execution_count": 39,
     "metadata": {},
     "output_type": "execute_result"
    }
   ],
   "source": [
    "grouped_bar(total_hr_rides16.index.get_level_values('Duration'),total_hr_rides16['Count'],\n",
    "            total_hr_rides16.index.get_level_values('Duration'),\n",
    "            hr_dur_rides16.loc[(hr_dur_rides16.index.get_level_values('Subscriber Type') == 'Customer')]['Count'],\n",
    "            total_hr_rides16.index.get_level_values('Duration'),\n",
    "            hr_dur_rides16.loc[(hr_dur_rides16.index.get_level_values('Subscriber Type') == 'Subscriber')]['Count'], \n",
    "            'Duration by Hour Plot', 'Ride Duration by Hour 2016', 'Hours')"
   ]
  },
  {
   "cell_type": "markdown",
   "metadata": {},
   "source": [
    "__Total rides by hour of the day, grouped by subscriber type, for 2014, 2015, and 2016__"
   ]
  },
  {
   "cell_type": "code",
   "execution_count": 40,
   "metadata": {
    "collapsed": false
   },
   "outputs": [
    {
     "data": {
      "text/html": [
       "<iframe id=\"igraph\" scrolling=\"no\" style=\"border:none;\" seamless=\"seamless\" src=\"https://plot.ly/~pamelot317/25.embed\" height=\"525px\" width=\"100%\"></iframe>"
      ],
      "text/plain": [
       "<plotly.tools.PlotlyDisplay object>"
      ]
     },
     "execution_count": 40,
     "metadata": {},
     "output_type": "execute_result"
    }
   ],
   "source": [
    "grouped_bar(total_rides_by_hour14['Hour'],total_rides_by_hour14['Count'],\n",
    "            total_rides_by_hour14['Hour'],\n",
    "            rides_by_hour14.loc[rides_by_hour14['Subscriber Type'] == 'Customer']['Count'],\n",
    "            total_rides_by_hour14['Hour'],\n",
    "            rides_by_hour14.loc[rides_by_hour14['Subscriber Type'] == 'Subscriber']['Count'], \n",
    "            'Rides by Hour Plot', 'Total Rides Per Hour 2014', 'Hour of Day')"
   ]
  },
  {
   "cell_type": "code",
   "execution_count": 41,
   "metadata": {
    "collapsed": false
   },
   "outputs": [
    {
     "data": {
      "text/html": [
       "<iframe id=\"igraph\" scrolling=\"no\" style=\"border:none;\" seamless=\"seamless\" src=\"https://plot.ly/~pamelot317/25.embed\" height=\"525px\" width=\"100%\"></iframe>"
      ],
      "text/plain": [
       "<plotly.tools.PlotlyDisplay object>"
      ]
     },
     "execution_count": 41,
     "metadata": {},
     "output_type": "execute_result"
    }
   ],
   "source": [
    "grouped_bar(total_rides_by_hour15['Hour'],total_rides_by_hour15['Count'],\n",
    "            total_rides_by_hour15['Hour'],\n",
    "            rides_by_hour15.loc[rides_by_hour15['Subscriber Type'] == 'Customer']['Count'],\n",
    "            total_rides_by_hour15['Hour'],\n",
    "            rides_by_hour15.loc[rides_by_hour15['Subscriber Type'] == 'Subscriber']['Count'], \n",
    "            'Rides by Hour Plot', 'Total Rides Per Hour 2015', 'Hour of Day')"
   ]
  },
  {
   "cell_type": "code",
   "execution_count": 42,
   "metadata": {
    "collapsed": false
   },
   "outputs": [
    {
     "data": {
      "text/html": [
       "<iframe id=\"igraph\" scrolling=\"no\" style=\"border:none;\" seamless=\"seamless\" src=\"https://plot.ly/~pamelot317/25.embed\" height=\"525px\" width=\"100%\"></iframe>"
      ],
      "text/plain": [
       "<plotly.tools.PlotlyDisplay object>"
      ]
     },
     "execution_count": 42,
     "metadata": {},
     "output_type": "execute_result"
    }
   ],
   "source": [
    "grouped_bar(total_rides_by_hour16['Hour'],total_rides_by_hour16['Count'],\n",
    "            total_rides_by_hour16['Hour'],\n",
    "            rides_by_hour16.loc[rides_by_hour16['Subscriber Type'] == 'Customer']['Count'],\n",
    "            total_rides_by_hour16['Hour'],\n",
    "            rides_by_hour16.loc[rides_by_hour16['Subscriber Type'] == 'Subscriber']['Count'], \n",
    "            'Rides by Hour Plot', 'Total Rides Per Hour 2016', 'Hour of Day')"
   ]
  },
  {
   "cell_type": "code",
   "execution_count": null,
   "metadata": {
    "collapsed": true
   },
   "outputs": [],
   "source": []
  }
 ],
 "metadata": {
  "anaconda-cloud": {},
  "kernelspec": {
   "display_name": "Python 2",
   "language": "python",
   "name": "python2"
  },
  "language_info": {
   "codemirror_mode": {
    "name": "ipython",
    "version": 2
   },
   "file_extension": ".py",
   "mimetype": "text/x-python",
   "name": "python",
   "nbconvert_exporter": "python",
   "pygments_lexer": "ipython2",
   "version": "2.7.12"
  }
 },
 "nbformat": 4,
 "nbformat_minor": 0
}
