{
 "cells": [
  {
   "cell_type": "markdown",
   "metadata": {},
   "source": [
    "# Data Analysis of Bay Area Bike Share Trips between 2013 and 2016 for the Bike Share Expansion Project"
   ]
  },
  {
   "cell_type": "markdown",
   "metadata": {},
   "source": [
    "## Bike Sharing\n",
    "<img src=\"http://www.sfbike.org/wp-content/uploads/2014/03/BikeShare-diagram.jpg\">\n",
    "\n",
    "### Pricing\n",
    "<p>\n",
    "<img src = './Pictures/pricing.png'>\n",
    "</p>"
   ]
  },
  {
   "cell_type": "markdown",
   "metadata": {},
   "source": [
    "## Expansion Plans (from 700 to 7000 bikes!!!)\n",
    "\n",
    "### 1. San Francisco: 4500 bikes\n",
    "\n",
    "### 2. East Bay (Oakland, Berkeley and Emeryville): 1400 bikes\n",
    "\n",
    "### 3. San Jose: 1000 bikes"
   ]
  },
  {
   "cell_type": "markdown",
   "metadata": {},
   "source": [
    "# Task:\n",
    "\n",
    "## 1. Analyze the Bay Area Bike Share Trip data and obtain insight into biking patterns.\n",
    "\n",
    "## 2. Based on the analysis, suggest stations that need more docs/bikes and locations for dock installation."
   ]
  },
  {
   "cell_type": "markdown",
   "metadata": {},
   "source": [
    "# Current Bay Area Bike Share map\n",
    "\n",
    "<script src=\"https://gist.github.com/akimbekov/b6e0898cfc0d17e70969077731ddc5fe.js\"></script>"
   ]
  },
  {
   "cell_type": "markdown",
   "metadata": {},
   "source": [
    "# Data description (4 csv files for each year, 8-9 Gb in total)\n",
    "\n",
    "Files:\n",
    "\n",
    "1. Station\n",
    "2. Status\n",
    "3. Trip\n",
    "4. Weather\n",
    "\n",
    "Each trip is anonymized and includes:\n",
    "\n",
    "- Bike number\n",
    "- Trip start day and time\n",
    "- Trip end day and time\n",
    "- Trip start station\n",
    "- Trip end station\n",
    "- Rider type – Annual or Casual (24-hour or 3-day member)\n",
    "- If an annual member trip, it will also include the member’s home zip code\n",
    "\n",
    "The data set also includes:\n",
    "\n",
    "- Weather information per day per service area\n",
    "- Bike and dock availability per minute per station"
   ]
  },
  {
   "cell_type": "markdown",
   "metadata": {},
   "source": [
    "# Our Strategy"
   ]
  },
  {
   "cell_type": "markdown",
   "metadata": {},
   "source": [
    "1. Past and Present\n",
    "    - How has company been doing since 2013? ANNNDD???\n",
    "\n",
    "2. Future\n",
    "    - Find stations that need more bikes and/or need to be removed\n",
    "    - Find new locations to expand the bike share business?\n"
   ]
  },
  {
   "cell_type": "markdown",
   "metadata": {},
   "source": [
    "# Put up some data analysis results"
   ]
  }
 ],
 "metadata": {
  "kernelspec": {
   "display_name": "Python 2",
   "language": "python",
   "name": "python2"
  },
  "language_info": {
   "codemirror_mode": {
    "name": "ipython",
    "version": 2
   },
   "file_extension": ".py",
   "mimetype": "text/x-python",
   "name": "python",
   "nbconvert_exporter": "python",
   "pygments_lexer": "ipython2",
   "version": "2.7.12"
  }
 },
 "nbformat": 4,
 "nbformat_minor": 0
}
