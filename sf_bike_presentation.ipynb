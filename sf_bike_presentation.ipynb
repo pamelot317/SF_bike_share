{
 "cells": [
  {
   "cell_type": "markdown",
   "metadata": {
    "nbpresent": {
     "id": "6403a05c-8ec0-4ca8-9c50-a20d588dce99"
    }
   },
   "source": [
    "\n",
    "<h1> <center> <font color = 'blue'> Data Analysis of Bay Area Bike Share Trips between 2013 and 2016 for the Bike Share Expansion Project </font> </center></h1>\n",
    "\n",
    "<h2> <center> <font color = 'blue' >STA 141 Final Project </font> </center> </h2>\n",
    "<h2> <center> <font color = 'blue' > Pamela Patterson,  Ashkan Saboori,  Zamirbek Akimbekov </font> </center> </h2>"
   ]
  },
  {
   "cell_type": "markdown",
   "metadata": {
    "nbpresent": {
     "id": "7bea34e8-69a2-4f42-806b-f066e6ceeb03"
    }
   },
   "source": [
    "<h2> <center> <font color = 'blue' >Bike Sharing </font> </center> </h2>\n",
    "<img src=\"http://www.sfbike.org/wp-content/uploads/2014/03/BikeShare-diagram.jpg\">"
   ]
  },
  {
   "cell_type": "markdown",
   "metadata": {},
   "source": [
    "<h2> <center> <font color ='blue'> Pricing </font> </center> </h2>\n",
    "<img src = '{{ site.baseurl }}/images/pricing.png' >"
   ]
  },
  {
   "cell_type": "markdown",
   "metadata": {
    "nbpresent": {
     "id": "a55b6c98-7c7a-479a-ab9a-a5b76e3c9b70"
    }
   },
   "source": [
    "<h1><center><font color = 'blue'> Expansion Plans (from 700 to 7000 bikes!!!) </font> </center></h1>\n",
    "\n",
    "## 1. San Francisco: 4500 bikes\n",
    "\n",
    "## 2. East Bay (Oakland, Berkeley and Emeryville): 1400 bikes\n",
    "\n",
    "## 3. San Jose: 1000 bikes"
   ]
  },
  {
   "cell_type": "markdown",
   "metadata": {},
   "source": [
    "<h1> <center> <font color = 'blue'> Project Goals </font> </center> </h1>\n",
    "## 1. Analyze the Bay Area Bike Share Trip data and obtain insight into biking patterns.\n",
    "\n",
    "## 2. Based on the analysis, suggest stations that need more docks/bikes and locations for new dock installation."
   ]
  },
  {
   "cell_type": "markdown",
   "metadata": {
    "nbpresent": {
     "id": "1e45f01d-067a-4a8e-b4f9-03912ded111b"
    }
   },
   "source": [
    "<h2> <center> <font color = 'blue'> Current Bay Area Bike Share map </font> </center> </h2>\n",
    "\n",
    "<script src=\"https://gist.github.com/akimbekov/b6e0898cfc0d17e70969077731ddc5fe.js\"></script>"
   ]
  },
  {
   "cell_type": "markdown",
   "metadata": {
    "nbpresent": {
     "id": "92b18c41-ac03-4687-803f-a69acb77f72e"
    }
   },
   "source": [
    "<h2> <center> <font color = 'blue' > Data description (4 csv files for each year, 8-9 Gb in total) </font> </center> </h2>\n",
    "\n",
    "## Files:\n",
    "-  <h3> 1. Station (names, station coordinates, installation dates, cities) </h3>\n",
    "- <h3> 2. Status (bike and dock availability per minute per station) </h3>\n",
    "\n",
    "- <h3> 3. Trip (each trip file has __36__ million rows!!!, trip start/end day and time, start and end stations, routes, bike number, rider type, subsrciber's home zip code) </h3>\n",
    "\n",
    "- <h3> 4. Weather (weather information per day per service area) </h3>"
   ]
  },
  {
   "cell_type": "markdown",
   "metadata": {
    "nbpresent": {
     "id": "2eba41f8-07f5-4cde-9053-7e2e75893635"
    }
   },
   "source": [
    "<h1> <center> <font color = 'blue'> Our Strategy </font> </center> </h1>"
   ]
  },
  {
   "cell_type": "markdown",
   "metadata": {
    "nbpresent": {
     "id": "cdaa1f13-d905-4f42-a169-3dff569b1b3f"
    }
   },
   "source": [
    "<h2> 1. Past and Present </h2>\n",
    "    \n",
    "<h3> Analyze how people have been using bike sharing since 2013: </h3>\n",
    "- <h4> most used routes </h4>\n",
    "- <h4> duration of ride </h4>\n",
    "- <h4> days of the week and time of the day </h4>\n",
    "- <h4> the holiday effect (use it to fix bikes) </h4>\n",
    "- <h4> customer types (subscriber vs daily) </h4>\n",
    "- <h4> how the number of bikes/docks has been changing since 2013? what about the number and duration of trips with new docks?</h4>\n",
    "    \n",
    "- <h4> highlight the special landmarks, like corporations, caltrain and bark stations </h4>\n",
    "\n",
    "<br>\n",
    "<h2> 2. Future </h2>\n",
    "     <h3> 1. Find stations that need more bikes and/or need to be removed </h3>\n",
    "     <h3> 2. Find new locations to expand the bike share business: </h3>\n",
    "   - <h4> use information submitted by people through the website, use SF crime and income by neighbourhood data </h4>\n",
    "   - <h4> if possible, make some financial analysis too </h4>\n"
   ]
  }
 ],
 "metadata": {
  "anaconda-cloud": {},
  "kernelspec": {
   "display_name": "Python 2",
   "language": "python",
   "name": "python2"
  },
  "language_info": {
   "codemirror_mode": {
    "name": "ipython",
    "version": 2
   },
   "file_extension": ".py",
   "mimetype": "text/x-python",
   "name": "python",
   "nbconvert_exporter": "python",
   "pygments_lexer": "ipython2",
   "version": "2.7.12"
  },
  "nbpresent": {
   "slides": {
    "08ee1cc5-6fe9-4a52-a150-5ee1db39221f": {
     "id": "08ee1cc5-6fe9-4a52-a150-5ee1db39221f",
     "prev": "92bf08bb-531b-4e07-ad7f-63f610ef0fcd",
     "regions": {
      "6de94f12-8cc4-48b4-ad4a-6c4f00bdb8af": {
       "attrs": {
        "height": 0.8,
        "width": 0.8,
        "x": 0.1,
        "y": 0.1
       },
       "content": {
        "cell": "7bea34e8-69a2-4f42-806b-f066e6ceeb03",
        "part": "whole"
       },
       "id": "6de94f12-8cc4-48b4-ad4a-6c4f00bdb8af"
      }
     }
    },
    "42769179-ab59-4741-94e5-c03a34ce8f3d": {
     "id": "42769179-ab59-4741-94e5-c03a34ce8f3d",
     "prev": "c81ba747-e1d3-446f-976b-0f3f5dade747",
     "regions": {
      "c2c9f7c6-97db-4b53-8175-813526a62444": {
       "attrs": {
        "height": 0.8,
        "width": 0.8,
        "x": 0.1,
        "y": 0.1
       },
       "content": {
        "cell": "92b18c41-ac03-4687-803f-a69acb77f72e",
        "part": "whole"
       },
       "id": "c2c9f7c6-97db-4b53-8175-813526a62444"
      }
     }
    },
    "47523f16-5499-40c1-987d-4bc890d1ad3f": {
     "id": "47523f16-5499-40c1-987d-4bc890d1ad3f",
     "prev": "602722f0-861c-4ed5-9be3-26b22128185d",
     "regions": {
      "3ef402c9-c3d9-46d8-82f4-a505af49d35d": {
       "attrs": {
        "height": 0.8,
        "width": 0.8,
        "x": 0.1,
        "y": 0.1
       },
       "content": {
        "cell": "d3a8cac3-78ea-40a9-89b9-a11dc3bfbafa",
        "part": "whole"
       },
       "id": "3ef402c9-c3d9-46d8-82f4-a505af49d35d"
      }
     }
    },
    "602722f0-861c-4ed5-9be3-26b22128185d": {
     "id": "602722f0-861c-4ed5-9be3-26b22128185d",
     "prev": "08ee1cc5-6fe9-4a52-a150-5ee1db39221f",
     "regions": {
      "f5c98c52-3684-4bb1-b4cb-2e2856c36987": {
       "attrs": {
        "height": 0.8,
        "width": 0.8,
        "x": 0.1,
        "y": 0.1
       },
       "content": {
        "cell": "a55b6c98-7c7a-479a-ab9a-a5b76e3c9b70",
        "part": "whole"
       },
       "id": "f5c98c52-3684-4bb1-b4cb-2e2856c36987"
      }
     }
    },
    "745152fb-bb4a-4773-8683-06dcfd3bba83": {
     "id": "745152fb-bb4a-4773-8683-06dcfd3bba83",
     "prev": "42769179-ab59-4741-94e5-c03a34ce8f3d",
     "regions": {
      "120b11c0-79ab-4f2c-9118-11ca4d503a28": {
       "attrs": {
        "height": 0.8,
        "width": 0.8,
        "x": 0.1,
        "y": 0.1
       },
       "content": {
        "cell": "2eba41f8-07f5-4cde-9053-7e2e75893635",
        "part": "whole"
       },
       "id": "120b11c0-79ab-4f2c-9118-11ca4d503a28"
      }
     }
    },
    "92bf08bb-531b-4e07-ad7f-63f610ef0fcd": {
     "id": "92bf08bb-531b-4e07-ad7f-63f610ef0fcd",
     "prev": null,
     "regions": {
      "12217797-91f9-4978-954b-5f29f70d02e0": {
       "attrs": {
        "height": 0.8,
        "width": 0.8,
        "x": 0.1,
        "y": 0.1
       },
       "content": {
        "cell": "6403a05c-8ec0-4ca8-9c50-a20d588dce99",
        "part": "whole"
       },
       "id": "12217797-91f9-4978-954b-5f29f70d02e0"
      }
     },
     "theme": null
    },
    "bee07f3c-ba56-4dd9-aa50-98b044fa2529": {
     "id": "bee07f3c-ba56-4dd9-aa50-98b044fa2529",
     "prev": "ed69fb87-8640-401c-b4f8-863d1c844b15",
     "regions": {
      "fdf2e632-f992-4499-8300-2056575b5262": {
       "attrs": {
        "height": 0.8,
        "width": 0.8,
        "x": 0.1,
        "y": 0.1
       },
       "content": {
        "cell": "dddb2187-b458-4b23-b51e-dff098940dab",
        "part": "whole"
       },
       "id": "fdf2e632-f992-4499-8300-2056575b5262"
      }
     }
    },
    "c81ba747-e1d3-446f-976b-0f3f5dade747": {
     "id": "c81ba747-e1d3-446f-976b-0f3f5dade747",
     "prev": "47523f16-5499-40c1-987d-4bc890d1ad3f",
     "regions": {
      "836efa7b-3d94-4985-ba5d-a8da2b21bda4": {
       "attrs": {
        "height": 0.8,
        "width": 0.8,
        "x": 0.1,
        "y": 0.1
       },
       "content": {
        "cell": "1e45f01d-067a-4a8e-b4f9-03912ded111b",
        "part": "whole"
       },
       "id": "836efa7b-3d94-4985-ba5d-a8da2b21bda4"
      }
     }
    },
    "ed69fb87-8640-401c-b4f8-863d1c844b15": {
     "id": "ed69fb87-8640-401c-b4f8-863d1c844b15",
     "prev": "745152fb-bb4a-4773-8683-06dcfd3bba83",
     "regions": {
      "583ed62d-614e-4110-8843-f77e00b56719": {
       "attrs": {
        "height": 0.8,
        "width": 0.8,
        "x": 0.1,
        "y": 0.1
       },
       "content": {
        "cell": "cdaa1f13-d905-4f42-a169-3dff569b1b3f",
        "part": "whole"
       },
       "id": "583ed62d-614e-4110-8843-f77e00b56719"
      }
     }
    }
   },
   "themes": {}
  }
 },
 "nbformat": 4,
 "nbformat_minor": 0
}
