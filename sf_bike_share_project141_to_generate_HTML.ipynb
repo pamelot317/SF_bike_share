{
 "cells": [
  {
   "cell_type": "code",
   "execution_count": 1,
   "metadata": {
    "collapsed": false,
    "scrolled": true
   },
   "outputs": [
    {
     "data": {
      "text/html": [
       "<button onclick=\"jQuery('.input_area').toggle(); jQuery('.prompt').toggle();\">Toggle code</button>"
      ]
     },
     "metadata": {},
     "output_type": "display_data"
    }
   ],
   "source": [
    "from IPython.display import display\n",
    "from IPython.display import HTML\n",
    "import IPython.core.display as di\n",
    "\n",
    "# This line will hide code by default when the notebook is exported as HTML\n",
    "#di.display_html('<script>jQuery(function() {if (jQuery(\"body.notebook_app\").length == 0) { jQuery(\".input_area\").toggle(); jQuery(\".prompt\").toggle();}});</script>', raw=True)\n",
    "# This line will add a button to toggle visibility of code blocks, for use with the HTML export version\n",
    "di.display_html('''<button onclick=\"jQuery('.input_area').toggle(); jQuery('.prompt').toggle();\">Toggle code</button>''', raw=True)"
   ]
  },
  {
   "cell_type": "code",
   "execution_count": 2,
   "metadata": {
    "collapsed": false
   },
   "outputs": [],
   "source": [
    "import pandas as pd\n",
    "import pandas\n",
    "import numpy as np\n",
    "import datetime\n",
    "import matplotlib\n",
    "import matplotlib.pyplot as plt\n",
    "from geojson import dumps\n",
    "import geojson as g\n",
    "%matplotlib inline\n",
    "plt.style.use('ggplot')\n",
    "import csv\n",
    "import collections\n",
    "import os\n",
    "from __future__ import division\n",
    "import scipy as sp\n",
    "import plotly.plotly as py\n",
    "import plotly.figure_factory as ff\n",
    "from plotly.graph_objs import *\n",
    "import plotly\n",
    "import plotly.graph_objs as go\n",
    "from pandas.tseries.holiday import USFederalHolidayCalendar as calendar\n",
    "import zipcode  #To find city, latitude and longitude corresponding to a zipcode\n",
    "import folium   #For map\n",
    "from matplotlib.dates import MO, TU, WE, TH, FR, SA, SU\n",
    "import parser\n",
    "import math\n",
    "import warnings; warnings.simplefilter('ignore')"
   ]
  },
  {
   "cell_type": "markdown",
   "metadata": {},
   "source": [
    "# Insight into Bike Sharing in the Bay Area\n",
    " _Authors: <a href = 'https://ashkansaboori.github.io'> Ashkan Saboori </a>, <a href = 'https://pamelot317.github.io'> Pamela Patterson </a>, and <a href = 'https://akimbekov.github.io'> Zamirbek Akimbekov </a>_"
   ]
  },
  {
   "cell_type": "code",
   "execution_count": 3,
   "metadata": {
    "collapsed": true
   },
   "outputs": [],
   "source": [
    "### Read the data"
   ]
  },
  {
   "cell_type": "code",
   "execution_count": 4,
   "metadata": {
    "collapsed": true
   },
   "outputs": [],
   "source": [
    "#plotly.tools.set_credentials_file(username='zamirg13', api_key='3dMc8cJ9Gxf4At0fdV49')\n",
    "#mapbox_token = 'pk.eyJ1IjoiYXNoa2Fuc2Fib29yaSIsImEiOiJjaXp5djVldTMwM2FtMzNveHRpaTFqdHhyIn0.uVPRMwfIuYE_3j3jRajBFA'\n",
    "## USE THE BELOW CREDENTIALS, PLEASE ### \n",
    "plotly.tools.set_credentials_file(username = 'ppatterson', api_key='jK180Tj3zyqIgqswVizx')\n",
    "mapbox_token = 'pk.eyJ1IjoicGFtZWxvdDMxNyIsImEiOiJjajBlMnIzbGwwMTE0MzNwNHB3Mmt2MHI1In0.jvc8C_8qJonSMXVL-tFOfg'"
   ]
  },
  {
   "cell_type": "code",
   "execution_count": 5,
   "metadata": {
    "collapsed": false
   },
   "outputs": [],
   "source": [
    "path = '/Users/admin/project_data_141' #Zamir's path\n",
    "#path = '/Users/ashkansaboori/Documents/OneDrive/MyPhD/Courses/5Winter-2017/STA141B/Project/Project_Datasets' #Ashkan's\n",
    "#path = '~/Dropbox/141B/Project/data'"
   ]
  },
  {
   "cell_type": "code",
   "execution_count": 6,
   "metadata": {
    "collapsed": false
   },
   "outputs": [],
   "source": [
    "def read_data(path, year):\n",
    "    \"\"\"\n",
    "    reads csv data and returns 4 data frames for the given year\n",
    "    input: path\n",
    "    output: 4 data frames (station, status, trip, and weather)\n",
    "    \"\"\"\n",
    "    path = path + '/' + str(year) + '/'\n",
    "    if year == 2014:\n",
    "        station1 = pd.read_csv(path + 'station1.csv')\n",
    "        station2 = pd.read_csv(path + 'station2.csv')\n",
    "        status1 = pd.read_csv(path + 'status1.csv')\n",
    "        status2 = pd.read_csv(path + 'status2.csv')\n",
    "        trip1 = pd.read_csv(path + 'trip1.csv')\n",
    "        trip2 = pd.read_csv(path + 'trip2.csv')\n",
    "        weather1 = pd.read_csv(path + 'weather1.csv')\n",
    "        weather2 = pd.read_csv(path + 'weather2.csv')\n",
    "        station = pd.concat([station1, station2]).drop_duplicates()   \n",
    "        status = pd.concat([status1, status2])\n",
    "        trip = pd.concat([trip1, trip2])\n",
    "        weather = pd.concat([weather1, weather2])\n",
    "    \n",
    "    else: \n",
    "        station = pd.read_csv(path + 'station.csv')\n",
    "        status = pd.read_csv(path + 'status.csv')\n",
    "        trip = pd.read_csv(path + 'trip.csv')\n",
    "        weather = pd.read_csv(path + 'weather.csv')\n",
    "    \n",
    "    \n",
    "    return station, status , trip, weather"
   ]
  },
  {
   "cell_type": "code",
   "execution_count": 7,
   "metadata": {
    "collapsed": false
   },
   "outputs": [],
   "source": [
    "station16, status16, trip16, weather16 = read_data(path, 2016)"
   ]
  },
  {
   "cell_type": "code",
   "execution_count": 8,
   "metadata": {
    "collapsed": false
   },
   "outputs": [],
   "source": [
    "station15, status15, trip15, weather15 = read_data(path, 2015)"
   ]
  },
  {
   "cell_type": "code",
   "execution_count": 9,
   "metadata": {
    "collapsed": false
   },
   "outputs": [],
   "source": [
    "station14, status14, trip14, weather14 = read_data(path, 2014)"
   ]
  },
  {
   "cell_type": "code",
   "execution_count": 10,
   "metadata": {
    "collapsed": false
   },
   "outputs": [],
   "source": [
    "crime = pd.read_csv(path + '/Crime_Incidents.csv')\n",
    "income = pd.read_csv(path + '/Income.csv', header = 0)\n",
    "calstations = pd.read_excel(path + '/caltrain_coordinates.xlsx')\n",
    "#Source of crime data: https://data.sfgov.org/Public-Safety/Map-Crime-Incidents-from-1-Jan-2003/gxxq-x39z\n",
    "#Source of income data: http://www.psc.isr.umich.edu/dis/census/Features/tract2zip/\n",
    "#Also this can be useful: http://www.psc.isr.umich.edu/dis/data/kb/answer/1123"
   ]
  },
  {
   "cell_type": "code",
   "execution_count": 11,
   "metadata": {
    "collapsed": true
   },
   "outputs": [],
   "source": [
    "### Format the data for analysis"
   ]
  },
  {
   "cell_type": "code",
   "execution_count": 12,
   "metadata": {
    "collapsed": false
   },
   "outputs": [],
   "source": [
    "def format_df(status, trip, weather, year):\n",
    "    \"\"\"\n",
    "    Takes trip and weather data frames and formats them for analysis. Also creates new\n",
    "    dataframes for analysis. \n",
    "    Input: trip and weather pandas dataframes; year as a string\n",
    "    Output: dataframes trip, weather, total_rides, weather_ave, weekend_rides, hol_rides, weekday_rides, \n",
    "    total_weekday_rides, min_dur_rides, hr_dur_rides, total_min_rides, total_hr_rides, rides_by_hour, \n",
    "    total_rides_by_hour \n",
    "    \"\"\"\n",
    "    status['time'] = pd.to_datetime(status.time, infer_datetime_format = True)\n",
    "    trip['Count'] = 1\n",
    "    trip['Start Date'] = pd.to_datetime(trip['Start Date'], format='%m/%d/%Y %H:%M')\n",
    "    trip['End Date'] = pd.to_datetime(trip['End Date'], format='%m/%d/%Y %H:%M')\n",
    "    trip['Day of Week'] = trip.apply(lambda x:  x.loc[('Start Date')].strftime('%A'), axis=1)\n",
    "    trip['Date'] = trip.apply(lambda x:  x.loc[('Start Date')].strftime('%m/%d/%Y'), axis=1)\n",
    "    trip['Date'] = pd.to_datetime(trip['Date'], format = '%m/%d/%Y')\n",
    "    diff = (trip['End Date']-trip['Start Date'])\n",
    "    trip['Duration'] = diff.apply(lambda x:  x.seconds)\n",
    "    trip = trip.rename(columns={'Start Terminal' : 'station_id'})\n",
    "    cal = calendar()\n",
    "    holidays = cal.holidays(start=trip['Date'].min(), end=trip['Date'].max())\n",
    "    trip['Holiday']=trip['Date'].apply(lambda date: date in holidays)\n",
    "    total_rides = trip[['Count', 'Date']]\n",
    "    total_rides = total_rides.groupby(['Date'], as_index = False).sum()\n",
    "    weather = weather.rename(index=str, columns={'PDT': 'Date',})\n",
    "    weather['Date'] = pd.to_datetime(weather['Date'], format='%m/%d/%Y')\n",
    "    weather = weather.set_index('Date')\n",
    "    if year == '2015':\n",
    "        weather = weather.set_index('Zip', append = True)\n",
    "    elif year == '2014':\n",
    "        weather = weather.set_index('Zip', append = True)\n",
    "    elif year == '2016':\n",
    "        weather = weather.set_index('ZIP', append = True)       \n",
    "    weather['PrecipitationIn'] = pd.to_numeric(weather['PrecipitationIn'].replace('T', 0))\n",
    "    weather_ave = weather.groupby(level = 'Date').mean()\n",
    "    weekend_rides = trip.loc[trip['Day of Week'].isin(['Saturday','Sunday'])]\n",
    "    weekend_rides = weekend_rides[['Count', 'Date']]\n",
    "    weekend_rides = weekend_rides.groupby(['Date'], as_index = False).sum()\n",
    "    hol_rides = trip.loc[trip['Holiday'] == True]\n",
    "    hol_rides = hol_rides[['Count', 'Date']]\n",
    "    hol_rides = hol_rides.groupby(['Date'], as_index = False).sum()\n",
    "    weekday_rides = trip[['Count', 'Subscriber Type', 'Day of Week']]\n",
    "    weekday_rides = weekday_rides.groupby(['Day of Week', 'Subscriber Type'], as_index = False).sum()\n",
    "    sorter = ['Sunday', 'Monday', 'Tuesday', 'Wednesday', 'Thursday', 'Friday', 'Saturday']\n",
    "    weekday_rides['Day of Week'] = weekday_rides['Day of Week'].astype(\"category\")\n",
    "    weekday_rides['Day of Week'].cat.set_categories(sorter, inplace=True)\n",
    "    weekday_rides = weekday_rides.sort_values(['Day of Week'])\n",
    "    weekday_rides.loc[weekday_rides['Subscriber Type']=='Customer']\n",
    "    total_weekday_rides = weekday_rides.groupby(['Day of Week'], as_index = False).sum()\n",
    "    min_dur_rides = trip[['Count', 'Subscriber Type', 'Duration']]\n",
    "    min_dur_rides.loc[:,'Duration'] = min_dur_rides['Duration']//60\n",
    "    min_dur_rides = min_dur_rides.groupby(['Duration', 'Subscriber Type'], as_index = False).sum()\n",
    "    min_dur_rides = min_dur_rides.groupby([pd.cut(min_dur_rides['Duration'], np.arange(0,61,5)),'Subscriber Type']).sum()\n",
    "    hr_dur_rides = trip[['Count', 'Subscriber Type', 'Duration']]\n",
    "    hr_dur_rides.loc[:,'Duration'] = hr_dur_rides['Duration']//3600\n",
    "    hr_dur_rides = hr_dur_rides.groupby(['Duration', 'Subscriber Type'], as_index = False).sum()\n",
    "    hr_dur_rides = hr_dur_rides.groupby([pd.cut(hr_dur_rides['Duration'], np.arange(0,25,2)),'Subscriber Type']).sum()\n",
    "    total_min_rides = trip[['Count', 'Subscriber Type', 'Duration']]\n",
    "    total_min_rides.loc[:,'Duration'] = total_min_rides['Duration']//60\n",
    "    total_min_rides = total_min_rides.groupby(['Duration'], as_index = False).sum()\n",
    "    total_min_rides = total_min_rides.groupby(pd.cut(total_min_rides['Duration'], np.arange(0,61,5))).sum()\n",
    "    total_hr_rides = trip[['Count', 'Subscriber Type', 'Duration']]\n",
    "    total_hr_rides.loc[:,'Duration'] = total_hr_rides['Duration']//3600\n",
    "    total_hr_rides = total_hr_rides.groupby(['Duration'], as_index = False).sum()\n",
    "    total_hr_rides = total_hr_rides.groupby(pd.cut(total_hr_rides['Duration'], np.arange(0,25,2))).sum()\n",
    "    trip['Hour'] = trip['Start Date'].apply(lambda x:  x.hour)\n",
    "    rides_by_hour = trip[['Count', 'Subscriber Type', 'Hour']]\n",
    "    rides_by_hour = rides_by_hour.groupby(['Hour', 'Subscriber Type'], as_index = False).sum()\n",
    "    total_rides_by_hour = rides_by_hour.groupby(['Hour'], as_index = False).sum()\n",
    "    return status, trip, weather, total_rides, weather_ave, weekend_rides, hol_rides, weekday_rides, total_weekday_rides, min_dur_rides, hr_dur_rides, total_min_rides, total_hr_rides, rides_by_hour, total_rides_by_hour "
   ]
  },
  {
   "cell_type": "code",
   "execution_count": 13,
   "metadata": {
    "collapsed": false,
    "scrolled": true
   },
   "outputs": [],
   "source": [
    "status14, trip14, weather14, total_rides14, weather_ave14, weekend_rides14, hol_rides14, weekday_rides14, total_weekday_rides14, min_dur_rides14, hr_dur_rides14, total_min_rides14, total_hr_rides14, rides_by_hour14, total_rides_by_hour14 = format_df(status14, trip14, weather14, '2014') "
   ]
  },
  {
   "cell_type": "code",
   "execution_count": 14,
   "metadata": {
    "collapsed": false
   },
   "outputs": [],
   "source": [
    "status15, trip15, weather15, total_rides15, weather_ave15, weekend_rides15, hol_rides15, weekday_rides15, total_weekday_rides15, min_dur_rides15, hr_dur_rides15, total_min_rides15, total_hr_rides15, rides_by_hour15, total_rides_by_hour15 = format_df(status15, trip15, weather15, '2015') "
   ]
  },
  {
   "cell_type": "code",
   "execution_count": 15,
   "metadata": {
    "collapsed": false
   },
   "outputs": [],
   "source": [
    "status16, trip16, weather16, total_rides16, weather_ave16, weekend_rides16, hol_rides16, weekday_rides16, total_weekday_rides16, min_dur_rides16, hr_dur_rides16, total_min_rides16, total_hr_rides16, rides_by_hour16, total_rides_by_hour16 = format_df(status16, trip16, weather16, '2016') "
   ]
  },
  {
   "cell_type": "markdown",
   "metadata": {},
   "source": [
    "The Bay Area Bike Share is the region’s bike sharing system with 700 bikes and 70 stations across the region, with locations in San Francisco, San Jose, Mountain View, and Palo Alto. A bike sharing system consists of a fleet of specially designed bikes that are locked into a network of docking stations located throughout a region. Bay Area bikes can be rented from and returned to any station in the system, creating an efficient network with many possible combinations of start and end points. With hundreds of bikes at stations, the system is available for use 24 hours a day, 365 days a year. The station network provides twice as many docking points as bicycles, assuring that an available dock to return your bike is always nearby.\n",
    "\n",
    "On the interactive map, you can see the bike stations that are shown with dark (installed after 2014) and light (installed in 2013) blue markers. The two busiest stations near San Francisco Caltrain station are shown with light green marker. Clicking on each marker brings a pop-up with the station name, number of trips as starting point from that station in 2016, and the total dockcounts.\n",
    "\n",
    "On the map, one can also see the CalTrain stations shown with red marker. The pop-up station’s name and the weekly average number of passengers.\n",
    "\n",
    "This interactive map provides overall information about the bike share stations and their locations. Later in the analysis we will analyze how CalTrain station association with the bike share rides."
   ]
  },
  {
   "cell_type": "markdown",
   "metadata": {},
   "source": [
    "### Bay Area Bike Share stations and CalTrain station map\n",
    "\n",
    "<script src=\"https://gist.github.com/akimbekov/4b68cc2d0cd186466b3141f0d3839c81.js\"></script>"
   ]
  },
  {
   "cell_type": "markdown",
   "metadata": {},
   "source": [
    "### 1. Overview of data for 2014, 2015, and 2016"
   ]
  },
  {
   "cell_type": "markdown",
   "metadata": {},
   "source": [
    "Data Set                | 2014       |   2015    |    2016\n",
    "----------------------- | ----------------|-----------|----------\n",
    " Station                | 70, 7       | 70, 7          |67, 7\n",
    " Status                 | 35336812, 4 | 36647622, 4          |35517185, 4\n",
    " Trip                   | 315807, 17  | 354152, 16           |313689, 16\n",
    " Weather                | 1840, 22    | 1825, 22          |1830, 22\n",
    " \n",
    " \n",
    " For each year, we have four data sets. The table below shows the size of each data set for corresponding years. The Status data set was the most difficult one to handle during the analysis due to its number of rows being larger than 35 million rows.\n",
    "2014 and 2015 data sets contain information about bike rides in 5 cities: San Francisco, San Jose, Mountain View, Palo Alto, and Redwood City. In 2016, the bike stations in Redwood City were removed and hence 2016 data set contains information regarding only 4 cities."
   ]
  },
  {
   "cell_type": "code",
   "execution_count": 16,
   "metadata": {
    "collapsed": false
   },
   "outputs": [],
   "source": [
    "# 2014\n",
    "#print 'Size of station DF {}'.format(station14.shape)\n",
    "#print 'Size of status DF {}'.format(status14.shape)\n",
    "#print 'Size of trip DF {}'.format(trip14.shape)\n",
    "#print 'Size of weather DF {}'.format(weather14.shape)"
   ]
  },
  {
   "cell_type": "code",
   "execution_count": 17,
   "metadata": {
    "collapsed": false
   },
   "outputs": [],
   "source": [
    "# 2015\n",
    "#print 'Size of station DF {}'.format(station15.shape)\n",
    "#print 'Size of status DF {}'.format(status15.shape)\n",
    "#print 'Size of trip DF {}'.format(trip15.shape)\n",
    "#print 'Size of weather DF {}'.format(weather15.shape)"
   ]
  },
  {
   "cell_type": "code",
   "execution_count": 18,
   "metadata": {
    "collapsed": true
   },
   "outputs": [],
   "source": [
    "#station16 = station16.dropna()"
   ]
  },
  {
   "cell_type": "code",
   "execution_count": 19,
   "metadata": {
    "collapsed": false
   },
   "outputs": [],
   "source": [
    "# 2016\n",
    "# print 'Size of station DF {}'.format(station16.shape)\n",
    "#print 'Size of status DF {}'.format(status16.shape)\n",
    "#print 'Size of trip DF {}'.format(trip16.shape)\n",
    "#print 'Size of weather DF {}'.format(weather16.shape)"
   ]
  },
  {
   "cell_type": "markdown",
   "metadata": {},
   "source": [
    "### 2. Statistics about bike rides for 2014, 2015, and 2016"
   ]
  },
  {
   "cell_type": "markdown",
   "metadata": {},
   "source": [
    "Data Set                    | 2014            |   2015      |    2016\n",
    "-----------------------     | ----------------|-----------  |----------\n",
    " Number of bike rides       | 315807           | 354152           |312126\n",
    " Average riding time in minutes   | 18.31            | 15.25     |13.79\n",
    " Total riding time in minutes  | 96376.63      | 90065.83      | 71738.7\n",
    " Total riding time in days | 4015.69        | 3752.74        |2989.11\n",
    " Total riding time in years | 11.00        | 10.28        |8.18\n",
    " \n",
    " \n",
    "The table below has the overall statistics about bike rides for each of three years. In all cases, one year is a date from September 1st to the next year’s August 31st. Hence, e.g., 2014 statistics stands for the bike rides starting from September 1st, 2013, to August 31st, 2014.\n",
    "The reason that the number of bike rides and total riding is decreasing from 2013 to 2016 is that the company removed stations that are used less frequently and pulled out from the Redwood City market at the end of 2015. Hence, 2016 contains bike ride statistics only for San Francisco, San Jose, Mountain View, and Palo Alto.\n",
    "Moreover, it should be noticed out that the average riding time in minutes is around 15 minutes. This is the desired ride time since bike sharing business model is designed only for short trips (less than 30 minutes) and serve as a “last mile connection”."
   ]
  },
  {
   "cell_type": "code",
   "execution_count": 20,
   "metadata": {
    "collapsed": true
   },
   "outputs": [],
   "source": [
    "##2014\n",
    "merged_st14 = pd.merge(station14, trip14, on = 'station_id')"
   ]
  },
  {
   "cell_type": "code",
   "execution_count": 21,
   "metadata": {
    "collapsed": false
   },
   "outputs": [],
   "source": [
    "##2014\n",
    "#total_duration14 = sum(merged_st14.Duration)\n",
    "#print 'number of bike rides between 09/01/2013 and 08/31/2014 : {}'.format(len(merged_st14['Trip ID']))\n",
    "#print 'averaging about {} minutes per ride'.format(total_duration14/(len(merged_st14['Trip ID']) *60))\n",
    "#print 'total riding time is {} hours'.format(total_duration14/3600)\n",
    "#print 'or {} days'.format(total_duration14/(3600 * 24))\n",
    "#print 'or {} years'.format(total_duration14 / (3600 * 24 * 365))"
   ]
  },
  {
   "cell_type": "code",
   "execution_count": 22,
   "metadata": {
    "collapsed": true
   },
   "outputs": [],
   "source": [
    "merged_st15 = pd.merge(station15, trip15, on = 'station_id')"
   ]
  },
  {
   "cell_type": "code",
   "execution_count": 23,
   "metadata": {
    "collapsed": false
   },
   "outputs": [],
   "source": [
    "total_duration15 = sum(merged_st15.Duration)\n",
    "#print 'number of bike rides between 09/01/2013 and 08/31/2014 : {}'.format(len(merged_st15['Trip ID']))\n",
    "#print 'averaging about {} minutes per ride'.format(total_duration15/(len(merged_st15['Trip ID']) *60))\n",
    "#print 'total riding time is {} hours'.format(total_duration15/3600)\n",
    "#print 'or {} days'.format(total_duration15/(3600 * 24))\n",
    "#print 'or {} years'.format(total_duration15/ (3600 * 24 * 365))"
   ]
  },
  {
   "cell_type": "code",
   "execution_count": 24,
   "metadata": {
    "collapsed": false
   },
   "outputs": [],
   "source": [
    "#2016\n",
    "merged_st = pd.merge(station16, trip16, on = 'station_id')"
   ]
  },
  {
   "cell_type": "code",
   "execution_count": 25,
   "metadata": {
    "collapsed": false
   },
   "outputs": [],
   "source": [
    "total_duration = sum(merged_st.Duration)\n",
    "#print 'number of bike rides between 09/01/2015 and 08/31/2016 : {}'.format(len(merged_st['Trip ID']))\n",
    "#print 'averaging about {} minutes per ride'.format(total_duration/(len(merged_st['Trip ID']) *60))\n",
    "#print 'total riding time is {} hours'.format(total_duration/3600)\n",
    "#print 'or {} days'.format(total_duration/(3600 * 24))\n",
    "#print 'or {} years'.format(total_duration / (3600 * 24 * 365))"
   ]
  },
  {
   "cell_type": "code",
   "execution_count": 112,
   "metadata": {
    "collapsed": false
   },
   "outputs": [],
   "source": [
    "def weather_plot(x,y1,y2, y2_label, file_name, title):\n",
    "    \"\"\"\n",
    "    Returns dual axis plot with the x axis being the date, the left and right y-axis being inputed by user\n",
    "    Input: y1 is the data for the left-axis; should have 365 entries, sorted by date;\n",
    "    y2 is the data for the right y-axis; should have 365 entries, sorted by date; \n",
    "    y2_label is a string\n",
    "    file_name: string of what to name file in plotly account\n",
    "    Output: a graph\n",
    "    \"\"\"\n",
    "\n",
    "    trace1 = go.Scatter(x=x,y=y1,name='Total Rides')\n",
    "    trace2 = go.Scatter(x=x,y=y2,name=y2_label,yaxis='y2')\n",
    "    data = [trace1, trace2]\n",
    "    layout = go.Layout(title=title,yaxis=dict(title='Total Rides'),\n",
    "                       yaxis2=dict(title=y2_label,titlefont=dict(color='rgb(148, 103, 189)'),\n",
    "                                   tickfont=dict(color='rgb(148, 103, 189)'),overlaying='y',side='right'))\n",
    "    fig = go.Figure(data=data, layout=layout)\n",
    "    return py.iplot(fig, filename= file_name)"
   ]
  },
  {
   "cell_type": "markdown",
   "metadata": {},
   "source": [
    "### 3. Total rides and mean wind speed by date for 2014, 2015, 2016\n",
    "\n",
    "Investigating these three plots, we can obtain the dates and total rides for some of the windiest days in 2014, 2015, and 2016:\n",
    "\n",
    "April 22, 2014: 14 mph, 1066 rides\n",
    "Feb 8, 2014: 11 mph, 94 rides\n",
    "Feb 6, 2015: 18 mph, 608 rides\n",
    "Dec 30th, 2015: 13.6 mph, 486 rides\n",
    "Feb 17th, 2016: 15 mph, 973 rides\n",
    "March 5th, 2016: 14 mph, 68 rides\n",
    "May 20th, 2016: 14.2 mph, 1103 rides\n",
    "\n",
    "There doesn’t seem to be a correlation between wind speed and total rides. Some of the windiest days saw near 1000 rides. This could be due to the fact that San Francisco doesn’t get very strong winds, and the tall city buildings could provide a strong windbreak from any wind."
   ]
  },
  {
   "cell_type": "code",
   "execution_count": 123,
   "metadata": {
    "collapsed": false
   },
   "outputs": [
    {
     "data": {
      "text/html": [
       "<iframe id=\"igraph\" scrolling=\"no\" style=\"border:none;\" seamless=\"seamless\" src=\"https://plot.ly/~ppatterson/395.embed\" height=\"525px\" width=\"100%\"></iframe>"
      ],
      "text/plain": [
       "<plotly.tools.PlotlyDisplay object>"
      ]
     },
     "execution_count": 123,
     "metadata": {},
     "output_type": "execute_result"
    }
   ],
   "source": [
    "weather_plot(total_rides14['Date'], total_rides14['Count'], weather_ave14[' Mean Wind SpeedMPH'], \n",
    "             'Mean Wind Speed MPH', 'Wind and Trips 2014', 'Total Rides and Mean Wind Speed by Date 2014')"
   ]
  },
  {
   "cell_type": "code",
   "execution_count": 124,
   "metadata": {
    "collapsed": false
   },
   "outputs": [
    {
     "data": {
      "text/html": [
       "<iframe id=\"igraph\" scrolling=\"no\" style=\"border:none;\" seamless=\"seamless\" src=\"https://plot.ly/~ppatterson/397.embed\" height=\"525px\" width=\"100%\"></iframe>"
      ],
      "text/plain": [
       "<plotly.tools.PlotlyDisplay object>"
      ]
     },
     "execution_count": 124,
     "metadata": {},
     "output_type": "execute_result"
    }
   ],
   "source": [
    "weather_plot(total_rides15['Date'], total_rides15['Count'], weather_ave15[' Mean Wind SpeedMPH'], \n",
    "             'Mean Wind Speed MPH', 'Wind and Trips 2015', 'Total Rides and Mean Wind Speed by Date 2015')"
   ]
  },
  {
   "cell_type": "code",
   "execution_count": 125,
   "metadata": {
    "collapsed": false
   },
   "outputs": [
    {
     "data": {
      "text/html": [
       "<iframe id=\"igraph\" scrolling=\"no\" style=\"border:none;\" seamless=\"seamless\" src=\"https://plot.ly/~ppatterson/399.embed\" height=\"525px\" width=\"100%\"></iframe>"
      ],
      "text/plain": [
       "<plotly.tools.PlotlyDisplay object>"
      ]
     },
     "execution_count": 125,
     "metadata": {},
     "output_type": "execute_result"
    }
   ],
   "source": [
    "weather_plot(total_rides16['Date'],total_rides16['Count'], weather_ave16[' Mean Wind SpeedMPH'], \n",
    "             'Mean Wind Speed MPH', 'Wind and Trips 2016', 'Total Rides and Mean Wind Speed by Date 2016')"
   ]
  },
  {
   "cell_type": "markdown",
   "metadata": {},
   "source": [
    "### 4. Total rides and mean temperature by date for 2014, 2015, 2016\n",
    "\n",
    "There appears to be a correlation between temperature and total rides among these three years. We can see that there is a dip in total rides around the fall/winter months (late November to mid January). However, it is unclear if this is due to temperatures or other factors, such as the holiday season. We will also investigate the trends between total rides and holidays."
   ]
  },
  {
   "cell_type": "code",
   "execution_count": 127,
   "metadata": {
    "collapsed": false
   },
   "outputs": [
    {
     "data": {
      "text/html": [
       "<iframe id=\"igraph\" scrolling=\"no\" style=\"border:none;\" seamless=\"seamless\" src=\"https://plot.ly/~ppatterson/403.embed\" height=\"525px\" width=\"100%\"></iframe>"
      ],
      "text/plain": [
       "<plotly.tools.PlotlyDisplay object>"
      ]
     },
     "execution_count": 127,
     "metadata": {},
     "output_type": "execute_result"
    }
   ],
   "source": [
    "weather_plot(total_rides14['Date'],total_rides14['Count'], weather_ave14['Mean TemperatureF'], \n",
    "             'Mean Temperature F', 'Temp and Trips 2014', 'Total Rides and Mean Temperature by Date 2014')"
   ]
  },
  {
   "cell_type": "code",
   "execution_count": 128,
   "metadata": {
    "collapsed": false
   },
   "outputs": [
    {
     "data": {
      "text/html": [
       "<iframe id=\"igraph\" scrolling=\"no\" style=\"border:none;\" seamless=\"seamless\" src=\"https://plot.ly/~ppatterson/405.embed\" height=\"525px\" width=\"100%\"></iframe>"
      ],
      "text/plain": [
       "<plotly.tools.PlotlyDisplay object>"
      ]
     },
     "execution_count": 128,
     "metadata": {},
     "output_type": "execute_result"
    }
   ],
   "source": [
    "weather_plot(total_rides15['Date'],total_rides15['Count'], weather_ave15['Mean TemperatureF'], \n",
    "             'Mean Temperature F', 'Temp and Trips 2015', 'Total Rides and Mean Temperature by Date 2015')"
   ]
  },
  {
   "cell_type": "code",
   "execution_count": 130,
   "metadata": {
    "collapsed": false
   },
   "outputs": [
    {
     "data": {
      "text/html": [
       "<iframe id=\"igraph\" scrolling=\"no\" style=\"border:none;\" seamless=\"seamless\" src=\"https://plot.ly/~ppatterson/407.embed\" height=\"525px\" width=\"100%\"></iframe>"
      ],
      "text/plain": [
       "<plotly.tools.PlotlyDisplay object>"
      ]
     },
     "execution_count": 130,
     "metadata": {},
     "output_type": "execute_result"
    }
   ],
   "source": [
    "weather_plot(total_rides16['Date'],total_rides16['Count'], weather_ave16['Mean TemperatureF'], \n",
    "             'Mean Temperature F', 'Temp and Trips 2016', 'Total Rides and Mean Temperature by Date 2016')"
   ]
  },
  {
   "cell_type": "markdown",
   "metadata": {},
   "source": [
    "### 5. Total rides and precipitation by date for 2014, 2015, and 2016\n",
    "\n",
    "There wasn’t much rain in 2014, so we will primarily focus on 2015 and 2016. Some dates that stand out are: \n",
    "Dec 11, 2015: 1.92 inches rain, 107 rides\n",
    "Dec 2nd, 2014: 0.94 inches rain, 491 rides\n",
    "March 5th, 2016: 0.652 inches rain, 68 rides\n",
    "Nov 2, 2015: 0.616 inches rain, 863 rides\n",
    "\n",
    "There seems to be a correlation with rides and inches rain. Overall, the number of rides is lower when there is more rain. We also know that March 5th, 2016 was a windy day, so it seems that if there is a lot of rain, or if it is both rainy and windy, the number of rides is low."
   ]
  },
  {
   "cell_type": "code",
   "execution_count": 131,
   "metadata": {
    "collapsed": false
   },
   "outputs": [
    {
     "data": {
      "text/html": [
       "<iframe id=\"igraph\" scrolling=\"no\" style=\"border:none;\" seamless=\"seamless\" src=\"https://plot.ly/~ppatterson/401.embed\" height=\"525px\" width=\"100%\"></iframe>"
      ],
      "text/plain": [
       "<plotly.tools.PlotlyDisplay object>"
      ]
     },
     "execution_count": 131,
     "metadata": {},
     "output_type": "execute_result"
    }
   ],
   "source": [
    "weather_plot(total_rides14['Date'],total_rides14['Count'], weather_ave14['PrecipitationIn'], 'Precipitation In', \n",
    "             'Precip and Trips 2014', 'Total Rides and Precipitation by Date 2014')"
   ]
  },
  {
   "cell_type": "code",
   "execution_count": 132,
   "metadata": {
    "collapsed": false
   },
   "outputs": [
    {
     "data": {
      "text/html": [
       "<iframe id=\"igraph\" scrolling=\"no\" style=\"border:none;\" seamless=\"seamless\" src=\"https://plot.ly/~ppatterson/409.embed\" height=\"525px\" width=\"100%\"></iframe>"
      ],
      "text/plain": [
       "<plotly.tools.PlotlyDisplay object>"
      ]
     },
     "execution_count": 132,
     "metadata": {},
     "output_type": "execute_result"
    }
   ],
   "source": [
    "weather_plot(total_rides15['Date'],total_rides15['Count'], weather_ave15['PrecipitationIn'], 'Precipitation In', \n",
    "             'Precip and Trips 2015', 'Total Rides and Precipitation by Date 2015')"
   ]
  },
  {
   "cell_type": "code",
   "execution_count": 133,
   "metadata": {
    "collapsed": false
   },
   "outputs": [
    {
     "data": {
      "text/html": [
       "<iframe id=\"igraph\" scrolling=\"no\" style=\"border:none;\" seamless=\"seamless\" src=\"https://plot.ly/~ppatterson/411.embed\" height=\"525px\" width=\"100%\"></iframe>"
      ],
      "text/plain": [
       "<plotly.tools.PlotlyDisplay object>"
      ]
     },
     "execution_count": 133,
     "metadata": {},
     "output_type": "execute_result"
    }
   ],
   "source": [
    "weather_plot(total_rides16['Date'],total_rides16['Count'], weather_ave16['PrecipitationIn'], 'Precipitation In', \n",
    "             'Precip and Trips 2016', 'Total Rides and Precipitation by Date 2016')"
   ]
  },
  {
   "cell_type": "code",
   "execution_count": 36,
   "metadata": {
    "collapsed": true
   },
   "outputs": [],
   "source": [
    "def weekend_hol_plot(x1,x2,y1,y2, y2_label, file_name, title):\n",
    "    \"\"\"\n",
    "    Returns dual axis plot with the x axis being the day, the left and right y-axis being inputed by user\n",
    "    input: y1 is the data for the left-axis; should have 365 entries, sorted by date;\n",
    "    y2 is the data for the right y-axis; should have 365 entries, sorted by date; \n",
    "    y2_label is a string\n",
    "    file_name: string of what to name file in plotly account\n",
    "    output: a graph\n",
    "    \"\"\"\n",
    "\n",
    "    trace1 = go.Scatter(x=x1,y=y1,name='Total Rides')\n",
    "    trace2 = go.Bar(x=x2,y=y2,name=y2_label)\n",
    "    data = [trace1, trace2]\n",
    "    layout = go.Layout(title=title,yaxis=dict(title='Total Rides'),\n",
    "                       yaxis2=dict(title=y2_label,titlefont=dict(color='rgb(148, 103, 189)'),\n",
    "                                   tickfont=dict(color='rgb(148, 103, 189)'),overlaying='y',side='right'))\n",
    "    fig = go.Figure(data=data, layout=layout)\n",
    "    return py.iplot(fig, filename= file_name)"
   ]
  },
  {
   "cell_type": "markdown",
   "metadata": {},
   "source": [
    "### 6. Total rides with holidays highlighted for 2014, 2015, 2016\n",
    "\n",
    "We can see that overall, there are fewer rides on holidays, with Thanksgiving, Christmas, and New Years having the fewest rides of all the holidays. However, there are two holidays that don’t share this trend each year. In 2015, the dates were October 12th and November 11th. These correspond to Columbus Day and Veteren’s Day. Not many people get both of those days off, so it is starting to look like a lot of the people using the bike share are using during normal business and commuting times. This suggests that the primary customers are residents and not tourists. We will learn more with further analysis."
   ]
  },
  {
   "cell_type": "code",
   "execution_count": 134,
   "metadata": {
    "collapsed": false
   },
   "outputs": [
    {
     "data": {
      "text/html": [
       "<iframe id=\"igraph\" scrolling=\"no\" style=\"border:none;\" seamless=\"seamless\" src=\"https://plot.ly/~ppatterson/413.embed\" height=\"525px\" width=\"100%\"></iframe>"
      ],
      "text/plain": [
       "<plotly.tools.PlotlyDisplay object>"
      ]
     },
     "execution_count": 134,
     "metadata": {},
     "output_type": "execute_result"
    }
   ],
   "source": [
    "weekend_hol_plot(total_rides14['Date'],hol_rides14['Date'],total_rides14['Count'],hol_rides14['Count'],'Holidays',\n",
    "                 'Holidays and Trips 2014', 'Holidays and Trips 2014')"
   ]
  },
  {
   "cell_type": "code",
   "execution_count": 135,
   "metadata": {
    "collapsed": false
   },
   "outputs": [
    {
     "data": {
      "text/html": [
       "<iframe id=\"igraph\" scrolling=\"no\" style=\"border:none;\" seamless=\"seamless\" src=\"https://plot.ly/~ppatterson/415.embed\" height=\"525px\" width=\"100%\"></iframe>"
      ],
      "text/plain": [
       "<plotly.tools.PlotlyDisplay object>"
      ]
     },
     "execution_count": 135,
     "metadata": {},
     "output_type": "execute_result"
    }
   ],
   "source": [
    "weekend_hol_plot(total_rides15['Date'],hol_rides15['Date'],total_rides15['Count'],hol_rides15['Count'],'Holidays',\n",
    "                 'Holidays and Trips 2015', 'Holidays and Trips 2015')"
   ]
  },
  {
   "cell_type": "code",
   "execution_count": 136,
   "metadata": {
    "collapsed": false
   },
   "outputs": [
    {
     "data": {
      "text/html": [
       "<iframe id=\"igraph\" scrolling=\"no\" style=\"border:none;\" seamless=\"seamless\" src=\"https://plot.ly/~ppatterson/417.embed\" height=\"525px\" width=\"100%\"></iframe>"
      ],
      "text/plain": [
       "<plotly.tools.PlotlyDisplay object>"
      ]
     },
     "execution_count": 136,
     "metadata": {},
     "output_type": "execute_result"
    }
   ],
   "source": [
    "weekend_hol_plot(total_rides16['Date'],hol_rides16['Date'],total_rides16['Count'],hol_rides16['Count'],'Holidays',\n",
    "                 'Holidays and Trips 2016', 'Holidays and Trips 2016')"
   ]
  },
  {
   "cell_type": "markdown",
   "metadata": {},
   "source": [
    "### 7. Total rides with weekends highlighted for 2014, 2015, and 2016\n",
    "\n",
    "There is a clear correlation between total rides and weekends. We can see that the low points in the total rides correspond to the weekends for all three years. This supports our guess that the majority of users are using the bikes during working days, perhaps to commute. We can look at this further by looking at day of the week, and time of the day."
   ]
  },
  {
   "cell_type": "code",
   "execution_count": 137,
   "metadata": {
    "collapsed": false
   },
   "outputs": [
    {
     "data": {
      "text/html": [
       "<iframe id=\"igraph\" scrolling=\"no\" style=\"border:none;\" seamless=\"seamless\" src=\"https://plot.ly/~ppatterson/419.embed\" height=\"525px\" width=\"100%\"></iframe>"
      ],
      "text/plain": [
       "<plotly.tools.PlotlyDisplay object>"
      ]
     },
     "execution_count": 137,
     "metadata": {},
     "output_type": "execute_result"
    }
   ],
   "source": [
    "weekend_hol_plot(total_rides14['Date'],weekend_rides14['Date'],total_rides14['Count'],weekend_rides15['Count'],\n",
    "                 'Weekends','Weekends and Trips 2014', 'Weekends and Trips 2014')"
   ]
  },
  {
   "cell_type": "code",
   "execution_count": 138,
   "metadata": {
    "collapsed": false
   },
   "outputs": [
    {
     "data": {
      "text/html": [
       "<iframe id=\"igraph\" scrolling=\"no\" style=\"border:none;\" seamless=\"seamless\" src=\"https://plot.ly/~ppatterson/421.embed\" height=\"525px\" width=\"100%\"></iframe>"
      ],
      "text/plain": [
       "<plotly.tools.PlotlyDisplay object>"
      ]
     },
     "execution_count": 138,
     "metadata": {},
     "output_type": "execute_result"
    }
   ],
   "source": [
    "weekend_hol_plot(total_rides15['Date'],weekend_rides15['Date'],total_rides15['Count'],weekend_rides15['Count'],\n",
    "                 'Weekends','Weekends and Trips 2015', 'Weekends and Trips 2015')"
   ]
  },
  {
   "cell_type": "code",
   "execution_count": 139,
   "metadata": {
    "collapsed": false
   },
   "outputs": [
    {
     "data": {
      "text/html": [
       "<iframe id=\"igraph\" scrolling=\"no\" style=\"border:none;\" seamless=\"seamless\" src=\"https://plot.ly/~ppatterson/423.embed\" height=\"525px\" width=\"100%\"></iframe>"
      ],
      "text/plain": [
       "<plotly.tools.PlotlyDisplay object>"
      ]
     },
     "execution_count": 139,
     "metadata": {},
     "output_type": "execute_result"
    }
   ],
   "source": [
    "weekend_hol_plot(total_rides16['Date'],weekend_rides16['Date'],total_rides16['Count'],weekend_rides16['Count'],\n",
    "                 'Weekends','Weekends and Trips 2016', 'Weekends and Trips 2016')"
   ]
  },
  {
   "cell_type": "code",
   "execution_count": 43,
   "metadata": {
    "collapsed": false
   },
   "outputs": [],
   "source": [
    "def grouped_bar(x1, y1, x2, y2, x3, y3, file_name, title, x_title):\n",
    "    \"\"\"\n",
    "    Takes axis data for a 3 grouped bar chart and outputs a grouped bar chart. \n",
    "    Input: x1, y1, x2, y2, x3, y3 series data for different bars, the x data should align;\n",
    "    filename: what to name the plotly file, string; title: of the graph; x_title: lable for x-axis\n",
    "    Output: a grouped bar chart\n",
    "    \"\"\"\n",
    "    trace1 = go.Bar(x=x1,y=y1,name='Total')\n",
    "    trace2 = go.Bar(x=x2,y=y2,name='Customer')\n",
    "    trace3 = go.Bar(x=x3,y=y3,name='Subscriber')\n",
    "    data = [trace1, trace2, trace3]\n",
    "    layout = go.Layout(title = title, xaxis = dict(title = x_title),yaxis = dict(title = 'Total Rides'),barmode='group')\n",
    "    fig = go.Figure(data=data, layout=layout)\n",
    "    return py.iplot(fig, filename=file_name)"
   ]
  },
  {
   "cell_type": "markdown",
   "metadata": {},
   "source": [
    "### 8. Total rides by day of the week, separated into subscriber type for 2014, 2015, and 2016\n",
    "\n",
    "It appears that the majority of the rides are coming from subscribers. We will look at the exact proportion a bit later. For now, let’s look at the rides by day of the week. In all three years, the subscribers are using the bike share more during the week (Monday-Friday) while customers are using the bike share slightly more during the weekends. This provides further support to our idea that most of the users are using the bikes to commute to and from work."
   ]
  },
  {
   "cell_type": "code",
   "execution_count": 140,
   "metadata": {
    "collapsed": false
   },
   "outputs": [
    {
     "data": {
      "text/html": [
       "<iframe id=\"igraph\" scrolling=\"no\" style=\"border:none;\" seamless=\"seamless\" src=\"https://plot.ly/~ppatterson/425.embed\" height=\"525px\" width=\"100%\"></iframe>"
      ],
      "text/plain": [
       "<plotly.tools.PlotlyDisplay object>"
      ]
     },
     "execution_count": 140,
     "metadata": {},
     "output_type": "execute_result"
    }
   ],
   "source": [
    "grouped_bar(total_weekday_rides14['Day of Week'],total_weekday_rides14['Count'],\n",
    "            weekday_rides14.loc[weekday_rides14['Subscriber Type']=='Customer']['Day of Week'],\n",
    "            weekday_rides14.loc[weekday_rides14['Subscriber Type']=='Customer']['Count'],\n",
    "            weekday_rides14.loc[weekday_rides14['Subscriber Type']=='Subscriber']['Day of Week'],\n",
    "            weekday_rides14.loc[weekday_rides14['Subscriber Type']=='Subscriber']['Count'], 'Day of Week Plot 2014', \n",
    "            'Total Rides by Day of Week 2014', 'Day of Week')"
   ]
  },
  {
   "cell_type": "code",
   "execution_count": 141,
   "metadata": {
    "collapsed": false
   },
   "outputs": [
    {
     "data": {
      "text/html": [
       "<iframe id=\"igraph\" scrolling=\"no\" style=\"border:none;\" seamless=\"seamless\" src=\"https://plot.ly/~ppatterson/427.embed\" height=\"525px\" width=\"100%\"></iframe>"
      ],
      "text/plain": [
       "<plotly.tools.PlotlyDisplay object>"
      ]
     },
     "execution_count": 141,
     "metadata": {},
     "output_type": "execute_result"
    }
   ],
   "source": [
    "grouped_bar(total_weekday_rides15['Day of Week'],total_weekday_rides15['Count'],\n",
    "            weekday_rides15.loc[weekday_rides15['Subscriber Type']=='Customer']['Day of Week'],\n",
    "            weekday_rides15.loc[weekday_rides15['Subscriber Type']=='Customer']['Count'],\n",
    "            weekday_rides15.loc[weekday_rides15['Subscriber Type']=='Subscriber']['Day of Week'],\n",
    "            weekday_rides15.loc[weekday_rides15['Subscriber Type']=='Subscriber']['Count'], 'Day of Week Plot 2015', \n",
    "            'Total Rides by Day of Week 2015', 'Day of Week')"
   ]
  },
  {
   "cell_type": "code",
   "execution_count": 142,
   "metadata": {
    "collapsed": false
   },
   "outputs": [
    {
     "data": {
      "text/html": [
       "<iframe id=\"igraph\" scrolling=\"no\" style=\"border:none;\" seamless=\"seamless\" src=\"https://plot.ly/~ppatterson/429.embed\" height=\"525px\" width=\"100%\"></iframe>"
      ],
      "text/plain": [
       "<plotly.tools.PlotlyDisplay object>"
      ]
     },
     "execution_count": 142,
     "metadata": {},
     "output_type": "execute_result"
    }
   ],
   "source": [
    "grouped_bar(total_weekday_rides16['Day of Week'],total_weekday_rides16['Count'],\n",
    "            weekday_rides16.loc[weekday_rides16['Subscriber Type']=='Customer']['Day of Week'],\n",
    "            weekday_rides16.loc[weekday_rides16['Subscriber Type']=='Customer']['Count'],\n",
    "            weekday_rides16.loc[weekday_rides16['Subscriber Type']=='Subscriber']['Day of Week'],\n",
    "            weekday_rides16.loc[weekday_rides16['Subscriber Type']=='Subscriber']['Count'], 'Day of Week Plot 2016', \n",
    "            'Total Rides by Day of Week 2016', 'Day of Week')"
   ]
  },
  {
   "cell_type": "markdown",
   "metadata": {},
   "source": [
    "### 9. Total rides by duration in minutes, grouped by subscriber type, for 2014, 2015, and 2016\n",
    "\n",
    "Now let’s look at how long the rides last in minutes. We can see that both customers and subscribers follow a similar trend, with most rides lasting between 5-10 minutes, and the next most common durations being between 0 and 5 minutes and between 5 and 15 minutes. It seems reasonable that a commute for work wouldn’t take more than 15 minutes in San Francisco, especially with the prevalence of bart and caltrain stations throughout the city. We will look at the locations of the most common stations later and compare to landmarks, such as train stations, to further investigate our ideas about how the bike share is being used."
   ]
  },
  {
   "cell_type": "code",
   "execution_count": 143,
   "metadata": {
    "collapsed": false
   },
   "outputs": [
    {
     "data": {
      "text/html": [
       "<iframe id=\"igraph\" scrolling=\"no\" style=\"border:none;\" seamless=\"seamless\" src=\"https://plot.ly/~ppatterson/431.embed\" height=\"525px\" width=\"100%\"></iframe>"
      ],
      "text/plain": [
       "<plotly.tools.PlotlyDisplay object>"
      ]
     },
     "execution_count": 143,
     "metadata": {},
     "output_type": "execute_result"
    }
   ],
   "source": [
    "grouped_bar(total_min_rides14.index.get_level_values('Duration'),total_min_rides14['Count'],\n",
    "            total_min_rides14.index.get_level_values('Duration'),\n",
    "            min_dur_rides14.loc[(min_dur_rides14.index.get_level_values('Subscriber Type') == 'Customer')]['Count'],\n",
    "            total_min_rides14.index.get_level_values('Duration'),\n",
    "            min_dur_rides14.loc[(min_dur_rides14.index.get_level_values('Subscriber Type') == 'Subscriber')]['Count'], \n",
    "            'Duration by Minute Plot 2014', 'Ride Duration by Minute 2014', 'Minutes')"
   ]
  },
  {
   "cell_type": "code",
   "execution_count": 144,
   "metadata": {
    "collapsed": false
   },
   "outputs": [
    {
     "data": {
      "text/html": [
       "<iframe id=\"igraph\" scrolling=\"no\" style=\"border:none;\" seamless=\"seamless\" src=\"https://plot.ly/~ppatterson/433.embed\" height=\"525px\" width=\"100%\"></iframe>"
      ],
      "text/plain": [
       "<plotly.tools.PlotlyDisplay object>"
      ]
     },
     "execution_count": 144,
     "metadata": {},
     "output_type": "execute_result"
    }
   ],
   "source": [
    "grouped_bar(total_min_rides15.index.get_level_values('Duration'),total_min_rides15['Count'],\n",
    "            total_min_rides15.index.get_level_values('Duration'),\n",
    "            min_dur_rides15.loc[(min_dur_rides15.index.get_level_values('Subscriber Type') == 'Customer')]['Count'],\n",
    "            total_min_rides15.index.get_level_values('Duration'),\n",
    "            min_dur_rides15.loc[(min_dur_rides15.index.get_level_values('Subscriber Type') == 'Subscriber')]['Count'], \n",
    "            'Duration by Minute Plot 2015', 'Ride Duration by Minute 2015', 'Minutes')"
   ]
  },
  {
   "cell_type": "code",
   "execution_count": 145,
   "metadata": {
    "collapsed": false
   },
   "outputs": [
    {
     "data": {
      "text/html": [
       "<iframe id=\"igraph\" scrolling=\"no\" style=\"border:none;\" seamless=\"seamless\" src=\"https://plot.ly/~ppatterson/435.embed\" height=\"525px\" width=\"100%\"></iframe>"
      ],
      "text/plain": [
       "<plotly.tools.PlotlyDisplay object>"
      ]
     },
     "execution_count": 145,
     "metadata": {},
     "output_type": "execute_result"
    }
   ],
   "source": [
    "grouped_bar(total_min_rides16.index.get_level_values('Duration'),total_min_rides16['Count'],\n",
    "            total_min_rides16.index.get_level_values('Duration'),\n",
    "            min_dur_rides16.loc[(min_dur_rides16.index.get_level_values('Subscriber Type') == 'Customer')]['Count'],\n",
    "            total_min_rides16.index.get_level_values('Duration'),\n",
    "            min_dur_rides16.loc[(min_dur_rides16.index.get_level_values('Subscriber Type') == 'Subscriber')]['Count'], \n",
    "            'Duration by Minute Plot 2016', 'Ride Duration by Minute 2016', 'Minutes')"
   ]
  },
  {
   "cell_type": "markdown",
   "metadata": {},
   "source": [
    "### 10. Total rides by duration in hours, grouped by subscriber type, for 2014, 2015, and 2016\n",
    "\n",
    "We see a similar trend as above, with most of the rides lasting less than 2 hours. The rides lasting more than 2 hours long are most commonly by customers, and not subscribers, which suggests that the customers may be using the bike share for touring purposes."
   ]
  },
  {
   "cell_type": "code",
   "execution_count": 146,
   "metadata": {
    "collapsed": false
   },
   "outputs": [
    {
     "data": {
      "text/html": [
       "<iframe id=\"igraph\" scrolling=\"no\" style=\"border:none;\" seamless=\"seamless\" src=\"https://plot.ly/~ppatterson/437.embed\" height=\"525px\" width=\"100%\"></iframe>"
      ],
      "text/plain": [
       "<plotly.tools.PlotlyDisplay object>"
      ]
     },
     "execution_count": 146,
     "metadata": {},
     "output_type": "execute_result"
    }
   ],
   "source": [
    "grouped_bar(total_hr_rides14.index.get_level_values('Duration'),total_hr_rides14['Count'],\n",
    "            total_hr_rides14.index.get_level_values('Duration'),\n",
    "            hr_dur_rides14.loc[(hr_dur_rides14.index.get_level_values('Subscriber Type') == 'Customer')]['Count'],\n",
    "            total_hr_rides14.index.get_level_values('Duration'),\n",
    "            hr_dur_rides14.loc[(hr_dur_rides14.index.get_level_values('Subscriber Type') == 'Subscriber')]['Count'], \n",
    "            'Duration by Hour Plot 2014', 'Ride Duration by Hour 2014', 'Hours')"
   ]
  },
  {
   "cell_type": "code",
   "execution_count": 147,
   "metadata": {
    "collapsed": false
   },
   "outputs": [
    {
     "data": {
      "text/html": [
       "<iframe id=\"igraph\" scrolling=\"no\" style=\"border:none;\" seamless=\"seamless\" src=\"https://plot.ly/~ppatterson/439.embed\" height=\"525px\" width=\"100%\"></iframe>"
      ],
      "text/plain": [
       "<plotly.tools.PlotlyDisplay object>"
      ]
     },
     "execution_count": 147,
     "metadata": {},
     "output_type": "execute_result"
    }
   ],
   "source": [
    "grouped_bar(total_hr_rides15.index.get_level_values('Duration'),total_hr_rides15['Count'],\n",
    "            total_hr_rides15.index.get_level_values('Duration'),\n",
    "            hr_dur_rides15.loc[(hr_dur_rides15.index.get_level_values('Subscriber Type') == 'Customer')]['Count'],\n",
    "            total_hr_rides15.index.get_level_values('Duration'),\n",
    "            hr_dur_rides15.loc[(hr_dur_rides15.index.get_level_values('Subscriber Type') == 'Subscriber')]['Count'], \n",
    "            'Duration by Hour Plot 2015', 'Ride Duration by Hour 2015', 'Hours')"
   ]
  },
  {
   "cell_type": "code",
   "execution_count": 148,
   "metadata": {
    "collapsed": false
   },
   "outputs": [
    {
     "data": {
      "text/html": [
       "<iframe id=\"igraph\" scrolling=\"no\" style=\"border:none;\" seamless=\"seamless\" src=\"https://plot.ly/~ppatterson/441.embed\" height=\"525px\" width=\"100%\"></iframe>"
      ],
      "text/plain": [
       "<plotly.tools.PlotlyDisplay object>"
      ]
     },
     "execution_count": 148,
     "metadata": {},
     "output_type": "execute_result"
    }
   ],
   "source": [
    "grouped_bar(total_hr_rides16.index.get_level_values('Duration'),total_hr_rides16['Count'],\n",
    "            total_hr_rides16.index.get_level_values('Duration'),\n",
    "            hr_dur_rides16.loc[(hr_dur_rides16.index.get_level_values('Subscriber Type') == 'Customer')]['Count'],\n",
    "            total_hr_rides16.index.get_level_values('Duration'),\n",
    "            hr_dur_rides16.loc[(hr_dur_rides16.index.get_level_values('Subscriber Type') == 'Subscriber')]['Count'], \n",
    "            'Duration by Hour Plot 2016', 'Ride Duration by Hour 2016', 'Hours')"
   ]
  },
  {
   "cell_type": "markdown",
   "metadata": {},
   "source": [
    "### 11. Total rides by hour of the day, grouped by subscriber type, for 2014, 2015, and 2016\n",
    "\n",
    "Now if we look at the total rides by the hour of the day (using military time), we see a similar trend among all three years. It appears that subscribers use the bikes mostly in the morning and evening hours, which would correspond to commuting times for normal business hours. However, customers follow a different trend, with most of their rides happening in the afternoon and evening hours. Again, this supports the idea that subscribers are using the bikes to commute to and from work, while customers are most likely using them for touring purposes. "
   ]
  },
  {
   "cell_type": "code",
   "execution_count": 149,
   "metadata": {
    "collapsed": false
   },
   "outputs": [
    {
     "data": {
      "text/html": [
       "<iframe id=\"igraph\" scrolling=\"no\" style=\"border:none;\" seamless=\"seamless\" src=\"https://plot.ly/~ppatterson/443.embed\" height=\"525px\" width=\"100%\"></iframe>"
      ],
      "text/plain": [
       "<plotly.tools.PlotlyDisplay object>"
      ]
     },
     "execution_count": 149,
     "metadata": {},
     "output_type": "execute_result"
    }
   ],
   "source": [
    "grouped_bar(total_rides_by_hour14['Hour'],total_rides_by_hour14['Count'],\n",
    "            total_rides_by_hour14['Hour'],\n",
    "            rides_by_hour14.loc[rides_by_hour14['Subscriber Type'] == 'Customer']['Count'],\n",
    "            total_rides_by_hour14['Hour'],\n",
    "            rides_by_hour14.loc[rides_by_hour14['Subscriber Type'] == 'Subscriber']['Count'], \n",
    "            'Rides by Hour Plot 2014', 'Total Rides Per Hour 2014', 'Hour of Day')"
   ]
  },
  {
   "cell_type": "code",
   "execution_count": 150,
   "metadata": {
    "collapsed": false
   },
   "outputs": [
    {
     "data": {
      "text/html": [
       "<iframe id=\"igraph\" scrolling=\"no\" style=\"border:none;\" seamless=\"seamless\" src=\"https://plot.ly/~ppatterson/445.embed\" height=\"525px\" width=\"100%\"></iframe>"
      ],
      "text/plain": [
       "<plotly.tools.PlotlyDisplay object>"
      ]
     },
     "execution_count": 150,
     "metadata": {},
     "output_type": "execute_result"
    }
   ],
   "source": [
    "grouped_bar(total_rides_by_hour15['Hour'],total_rides_by_hour15['Count'],\n",
    "            total_rides_by_hour15['Hour'],\n",
    "            rides_by_hour15.loc[rides_by_hour15['Subscriber Type'] == 'Customer']['Count'],\n",
    "            total_rides_by_hour15['Hour'],\n",
    "            rides_by_hour15.loc[rides_by_hour15['Subscriber Type'] == 'Subscriber']['Count'], \n",
    "            'Rides by Hour Plot 2015', 'Total Rides Per Hour 2015', 'Hour of Day')"
   ]
  },
  {
   "cell_type": "code",
   "execution_count": 151,
   "metadata": {
    "collapsed": false
   },
   "outputs": [
    {
     "data": {
      "text/html": [
       "<iframe id=\"igraph\" scrolling=\"no\" style=\"border:none;\" seamless=\"seamless\" src=\"https://plot.ly/~ppatterson/447.embed\" height=\"525px\" width=\"100%\"></iframe>"
      ],
      "text/plain": [
       "<plotly.tools.PlotlyDisplay object>"
      ]
     },
     "execution_count": 151,
     "metadata": {},
     "output_type": "execute_result"
    }
   ],
   "source": [
    "grouped_bar(total_rides_by_hour16['Hour'],total_rides_by_hour16['Count'],\n",
    "            total_rides_by_hour16['Hour'],\n",
    "            rides_by_hour16.loc[rides_by_hour16['Subscriber Type'] == 'Customer']['Count'],\n",
    "            total_rides_by_hour16['Hour'],\n",
    "            rides_by_hour16.loc[rides_by_hour16['Subscriber Type'] == 'Subscriber']['Count'], \n",
    "            'Rides by Hour Plot 2016', 'Total Rides Per Hour 2016', 'Hour of Day')"
   ]
  },
  {
   "cell_type": "markdown",
   "metadata": {},
   "source": [
    "### 12. Trip counts by subscription types\n",
    "\n",
    "As pie charts indicate, the number of subscribers has increased since 2014 and now makes up whopping 89.3% of total bike share users. This make sense since one year subscription is the cheapest way to use daily bike sharing. Moreover, company endorses this model business by providing 30 minutes bike rides free for subscribers. Hence, the Bay Area Bike Share company is moving in the right direction towards their goal."
   ]
  },
  {
   "cell_type": "code",
   "execution_count": 56,
   "metadata": {
    "collapsed": false
   },
   "outputs": [
    {
     "data": {
      "text/html": [
       "<iframe id=\"igraph\" scrolling=\"no\" style=\"border:none;\" seamless=\"seamless\" src=\"https://plot.ly/~ppatterson/365.embed\" height=\"525px\" width=\"100%\"></iframe>"
      ],
      "text/plain": [
       "<plotly.tools.PlotlyDisplay object>"
      ]
     },
     "execution_count": 56,
     "metadata": {},
     "output_type": "execute_result"
    }
   ],
   "source": [
    "totals14 = merged_st14['Subscriber Type'].value_counts()\n",
    "Subscribers14, Customers14 = totals14[0], totals14[1]\n",
    "\n",
    "fig = {\n",
    "    'data': [{'labels': ['Subscribers', 'Customers'],\n",
    "              'values': [Subscribers14, Customers14],\n",
    "              'type': 'pie'}],\n",
    "    'layout': {'title': 'Trip counts by customer types in 2014'}\n",
    "     }\n",
    "\n",
    "py.iplot(fig)"
   ]
  },
  {
   "cell_type": "code",
   "execution_count": 57,
   "metadata": {
    "collapsed": false
   },
   "outputs": [
    {
     "data": {
      "text/html": [
       "<iframe id=\"igraph\" scrolling=\"no\" style=\"border:none;\" seamless=\"seamless\" src=\"https://plot.ly/~ppatterson/367.embed\" height=\"525px\" width=\"100%\"></iframe>"
      ],
      "text/plain": [
       "<plotly.tools.PlotlyDisplay object>"
      ]
     },
     "execution_count": 57,
     "metadata": {},
     "output_type": "execute_result"
    }
   ],
   "source": [
    "totals15 = merged_st15['Subscriber Type'].value_counts()\n",
    "Subscribers15, Customers15 = totals15[0], totals15[1]\n",
    "\n",
    "fig = {\n",
    "    'data': [{'labels': ['Subscribers', 'Customers'],\n",
    "              'values': [Subscribers15, Customers15],\n",
    "              'type': 'pie'}],\n",
    "    'layout': {'title': 'Trip counts by customer types in 2015'}\n",
    "     }\n",
    "\n",
    "py.iplot(fig)"
   ]
  },
  {
   "cell_type": "code",
   "execution_count": 58,
   "metadata": {
    "collapsed": false
   },
   "outputs": [
    {
     "data": {
      "text/html": [
       "<iframe id=\"igraph\" scrolling=\"no\" style=\"border:none;\" seamless=\"seamless\" src=\"https://plot.ly/~ppatterson/369.embed\" height=\"525px\" width=\"100%\"></iframe>"
      ],
      "text/plain": [
       "<plotly.tools.PlotlyDisplay object>"
      ]
     },
     "execution_count": 58,
     "metadata": {},
     "output_type": "execute_result"
    }
   ],
   "source": [
    "totals = merged_st['Subscriber Type'].value_counts()\n",
    "Subscribers, Customers = totals[0], totals[1]\n",
    "\n",
    "fig = {\n",
    "    'data': [{'labels': ['Subscribers', 'Customers'],\n",
    "              'values': [Subscribers, Customers],\n",
    "              'type': 'pie'}],\n",
    "    'layout': {'title': 'Trip counts by customer types in 2016'}\n",
    "     }\n",
    "\n",
    "py.iplot(fig)"
   ]
  },
  {
   "cell_type": "markdown",
   "metadata": {},
   "source": [
    "### 13. Trip counts by cities for 2016\n",
    "\n",
    "Surprisingly, the San Francisco bike sharing dominates the trip counts by cities with about 92% of total trips in 2016. Also, notice that the Redwood City had the least proportion of trips both in 2014 and 2015 which made the company to remove the all bike stations in that city. Moreover, Palo Alto and Mountain View comprise about 3-4 % of total rides. The company may have to change their business model in those cities or remove stations in the future, and concentrate on San Francisco and San Jose markets. Palo Alto and Mountain View have technology companies which provide their workers with free bikes and shuttle to commit. Hence, it does not make sense to target those two markets with bike sharing business. Instead, as we will see, there are some stations in San Francisco which desperately require more bikes and docks, and the company could focus on those parts of the city. Instead of trying to cover all Bay Area, the company could focus on growing in San Francisco and San Jose, and in East Bay. With the proposed expansion plan, that’s exactly what they are trying to do by the end of 2018."
   ]
  },
  {
   "cell_type": "code",
   "execution_count": 59,
   "metadata": {
    "collapsed": false
   },
   "outputs": [
    {
     "data": {
      "text/html": [
       "<iframe id=\"igraph\" scrolling=\"no\" style=\"border:none;\" seamless=\"seamless\" src=\"https://plot.ly/~ppatterson/371.embed\" height=\"525px\" width=\"100%\"></iframe>"
      ],
      "text/plain": [
       "<plotly.tools.PlotlyDisplay object>"
      ]
     },
     "execution_count": 59,
     "metadata": {},
     "output_type": "execute_result"
    }
   ],
   "source": [
    "by_cities14 = merged_st14.landmark.value_counts()\n",
    "sf14, sj14, mv14, pa14, rc14 = by_cities14[0], by_cities14[1], by_cities14[2], by_cities14[3], by_cities14[4]\n",
    "fig_cities = {\n",
    "    'data': [{'labels': ['San Francisco', 'San Jose', 'Mountain View', 'Palo Alto', 'Redwood City'],\n",
    "              'values': [sf14, sj14, mv14, pa14, rc14],\n",
    "              'type': 'pie'}],\n",
    "    'layout': {'title': 'Trip counts by cities in 2014'}\n",
    "     }\n",
    "\n",
    "py.iplot(fig_cities)"
   ]
  },
  {
   "cell_type": "code",
   "execution_count": 60,
   "metadata": {
    "collapsed": false
   },
   "outputs": [
    {
     "data": {
      "text/html": [
       "<iframe id=\"igraph\" scrolling=\"no\" style=\"border:none;\" seamless=\"seamless\" src=\"https://plot.ly/~ppatterson/373.embed\" height=\"525px\" width=\"100%\"></iframe>"
      ],
      "text/plain": [
       "<plotly.tools.PlotlyDisplay object>"
      ]
     },
     "execution_count": 60,
     "metadata": {},
     "output_type": "execute_result"
    }
   ],
   "source": [
    "by_cities15 = merged_st15.landmark.value_counts()\n",
    "sf15, sj15, mv15, pa15, rc15 = by_cities15[0], by_cities15[1], by_cities15[2], by_cities15[3], by_cities15[4]\n",
    "fig_cities = {\n",
    "    'data': [{'labels': ['San Francisco', 'San Jose', 'Mountain View', 'Palo Alto', 'Redwood City'],\n",
    "              'values': [sf15, sj15, mv15, pa15, rc15],\n",
    "              'type': 'pie'}],\n",
    "    'layout': {'title': 'Trip counts by cities in 2015'}\n",
    "     }\n",
    "\n",
    "py.iplot(fig_cities)"
   ]
  },
  {
   "cell_type": "code",
   "execution_count": 61,
   "metadata": {
    "collapsed": false
   },
   "outputs": [
    {
     "data": {
      "text/html": [
       "<iframe id=\"igraph\" scrolling=\"no\" style=\"border:none;\" seamless=\"seamless\" src=\"https://plot.ly/~ppatterson/375.embed\" height=\"525px\" width=\"100%\"></iframe>"
      ],
      "text/plain": [
       "<plotly.tools.PlotlyDisplay object>"
      ]
     },
     "execution_count": 61,
     "metadata": {},
     "output_type": "execute_result"
    }
   ],
   "source": [
    "by_cities = merged_st.landmark.value_counts()\n",
    "sf, sj, mv, pa = by_cities[0], by_cities[1], by_cities[2], by_cities[3]\n",
    "fig_cities = {\n",
    "    'data': [{'labels': ['San Francisco', 'San Jose', 'Mountain View', 'Palo Alto'],\n",
    "              'values': [sf, sj, mv, pa],\n",
    "              'type': 'pie'}],\n",
    "    'layout': {'title': 'Trip counts by cities'}\n",
    "     }\n",
    "\n",
    "py.iplot(fig_cities)"
   ]
  },
  {
   "cell_type": "code",
   "execution_count": 62,
   "metadata": {
    "collapsed": true
   },
   "outputs": [],
   "source": [
    "### 14. Codes to generate maps"
   ]
  },
  {
   "cell_type": "code",
   "execution_count": 63,
   "metadata": {
    "collapsed": false
   },
   "outputs": [],
   "source": [
    "trip_counts = pd.DataFrame(merged_st.sort_values(by = 'station_id').station_id.value_counts())\n",
    "trip_counts = trip_counts.reset_index().rename(columns = {'station_id' : 'trip_counts',\n",
    "                                                          'index' : 'station_id'})\n",
    "station_merged = pd.merge(station16, trip_counts, on = 'station_id')"
   ]
  },
  {
   "cell_type": "code",
   "execution_count": 64,
   "metadata": {
    "collapsed": true
   },
   "outputs": [],
   "source": [
    "start_stations = trip16[['Start Station', 'Duration']]\n",
    "grouped = (start_stations.groupby('Start Station').\n",
    "                sum().\n",
    "                sort_values(by = 'Duration', ascending = False))"
   ]
  },
  {
   "cell_type": "code",
   "execution_count": 65,
   "metadata": {
    "collapsed": false
   },
   "outputs": [],
   "source": [
    "#merged_st.name.value_counts()[:5] #most popular five starting stations"
   ]
  },
  {
   "cell_type": "code",
   "execution_count": 66,
   "metadata": {
    "collapsed": false
   },
   "outputs": [],
   "source": [
    "calstations['station_type'] = 'caltrain'\n",
    "calstations['dockcount'] = 0\n",
    "calstations['trip_counts'] = 0\n",
    "calstations['station_id'] = 0\n",
    "calstations['installation'] = 0 \n",
    "calstations = calstations.rename(columns={'caltrain_name' : 'name'})\n",
    "calstations = calstations[['installation','station_id','name', 'lat', 'long', 'dockcount', 'trip_counts', 'station_type', 'passengers']]"
   ]
  },
  {
   "cell_type": "code",
   "execution_count": 67,
   "metadata": {
    "collapsed": true
   },
   "outputs": [],
   "source": [
    "df_for_map = station_merged[['installation','station_id','name', 'lat', 'long', 'dockcount', 'trip_counts']]\n",
    "df_for_map['station_type'] = 'bike_station'\n",
    "df_for_map['passengers'] = 0\n",
    "df_for_map = df_for_map.append(calstations)\n",
    "df_for_map.reset_index(drop='index', inplace = True)"
   ]
  },
  {
   "cell_type": "code",
   "execution_count": 68,
   "metadata": {
    "collapsed": true
   },
   "outputs": [],
   "source": [
    "start_lat, start_long, start_name = calstations.iloc[1]['lat'], calstations.iloc[1]['long'], calstations.iloc[1]['name']"
   ]
  },
  {
   "cell_type": "code",
   "execution_count": 69,
   "metadata": {
    "collapsed": true
   },
   "outputs": [],
   "source": [
    "def parser(df):\n",
    "    \"\"\"\n",
    "    Parses a pandas DF into JSON-line object\n",
    "    input: a dataframe\n",
    "    output: JSON-line object\n",
    "    \"\"\"\n",
    "    fields = df.columns\n",
    "    parsed_data = (dict(zip(fields, df.iloc[i])) for i in xrange(len(df)))\n",
    "    return parsed_data\n",
    "\n",
    "\n",
    "def create_map(df):\n",
    "    \"\"\"\n",
    "    Creates a map for the given data frame\n",
    "    input: a data frame\n",
    "    output: a message: \"geoJSON file has been created, check out your cd\"\n",
    "    \"\"\"\n",
    "    \n",
    "    geo_map = {'type': 'FeatureCollection'}\n",
    "    items = list()\n",
    "    for index, line in enumerate(parser(df)):\n",
    "        #Skip any zero coordinates as this will throw off our map\n",
    "        if line['long'] == str(0) or line['lat'] == str(0):\n",
    "            continue\n",
    "        \n",
    "        data = {}\n",
    "        data['type'] = 'Feature'\n",
    "        data['id'] = index\n",
    "        if line['station_type'] == 'bike_station':\n",
    "            year = line['installation'].split('/')[2]\n",
    "            if line['station_id'] == 70 or line['station_id'] == 69:\n",
    "                data['properties'] = {'name': line['name'],\n",
    "                                 'dockcount': line['dockcount'],\n",
    "                              'trip_counts' : line['trip_counts'],\n",
    "                              'marker-color':'#00cc00',\n",
    "                              'marker-size': 'large',\n",
    "                              'marker-symbol': 'bicycle'\n",
    "                                     }\n",
    "            elif year == '2013':\n",
    "                data['properties'] = {'name': line['name'],\n",
    "                                 'dockcount': line['dockcount'],\n",
    "                              'trip_counts' : line['trip_counts'],\n",
    "                              'marker-color':'#0e2f44',\n",
    "                                'marker-size':'large',\n",
    "                                'marker-symbol': 'bicycle',\n",
    "                                \"fill-opacity\": 0.3\n",
    "                                     }\n",
    "            else:\n",
    "                data['properties'] = {'name': line['name'],\n",
    "                                 'dockcount': line['dockcount'],\n",
    "                              'trip_counts' : line['trip_counts'],\n",
    "                                'marker-size': 'large',\n",
    "                                'marker-symbol': 'bicycle'\n",
    "                                     }\n",
    "            data['geometry'] = {'type': 'Point',\n",
    "                         'coordinates': (line['long'], line['lat'])\n",
    "                              }\n",
    "        else:\n",
    "            data['properties'] = {'name': line['name'],\n",
    "                                 'passengers': line['passengers'],\n",
    "                              'marker-color':'#a11f27',\n",
    "                                  'marker-size': 'large',\n",
    "                                  'marker-symbol': 'rail'\n",
    "                                     }\n",
    "            data['geometry'] = {'type': 'Point',\n",
    "                         'coordinates': (line['long'], line['lat'])\n",
    "                              }\n",
    "        items.append(data)\n",
    "    #for each point in our items, we add the point to our dictionary\n",
    "    for point in items:\n",
    "        geo_map.setdefault('features', []).append(point)\n",
    "\n",
    "    #Now that we've build up our geo_map dictionary, let's save it as geojson file\n",
    "    with open('bikecaltrain.geojson', 'w') as f:\n",
    "            f.write(dumps(geo_map))\n",
    "    return \"'bikecaltrain.geojson' file has been created, check out your cd\"\n",
    "\n",
    "def create_linestring(df):\n",
    "    \"\"\"\n",
    "    Creates a map for the given data frame\n",
    "    input: a data frame\n",
    "    output: a message: \"geoJSON file has been created, check out your cd\"\n",
    "    \"\"\"\n",
    "    \n",
    "    geo_map = {'type': 'FeatureCollection'}\n",
    "    items = list()\n",
    "    for index, line in enumerate(parser(df)):\n",
    "        #Skip any zero coordinates as this will throw off our map\n",
    "        if line['long'] == str(0) or line['lat'] == str(0):\n",
    "            continue\n",
    "        \n",
    "        data = {}\n",
    "        data['type'] = 'Feature'\n",
    "        data['id'] = index\n",
    "        \n",
    "        data['properties'] = {'name': line['name'],\n",
    "                         'dockcount': line['dockcount'],\n",
    "                              'marker-color':'#a11f27',\n",
    "                              'marker-size': 'large'\n",
    "                                     }\n",
    "        data['geometry'] = {'type': 'LineString',\n",
    "                         'coordinates': ([line['long'], line['lat']], [start_long, start_lat])\n",
    "                              }\n",
    "        items.append(data)\n",
    "    #for each point in our items, we add the point to our dictionary\n",
    "    for point in items:\n",
    "        geo_map.setdefault('features', []).append(point)\n",
    "\n",
    "    #Now that we've build up our geo_map dictionary, let's save it as geojson file\n",
    "    with open('lines.geojson', 'w') as f:\n",
    "            f.write(dumps(geo_map))\n",
    "    return \"'lines.geojson' file has been created, check out your cd\""
   ]
  },
  {
   "cell_type": "code",
   "execution_count": 70,
   "metadata": {
    "collapsed": false
   },
   "outputs": [],
   "source": [
    "#create_map(df_for_map)"
   ]
  },
  {
   "cell_type": "code",
   "execution_count": 71,
   "metadata": {
    "collapsed": false
   },
   "outputs": [],
   "source": [
    "#create_linestring(station16)"
   ]
  },
  {
   "cell_type": "code",
   "execution_count": 152,
   "metadata": {
    "collapsed": true
   },
   "outputs": [],
   "source": [
    "def status_for_city(station, status, city = 'San Francisco'):\n",
    "    \"\"\"\n",
    "    returns a dataframe station ids for the specified city\n",
    "    \n",
    "    input: status and station dataframes, city (default = 'San Francisco')\n",
    "    output: a stations dataframe with for the specified city\n",
    "    \n",
    "    \"\"\"\n",
    "    \n",
    "    city_stations = station[station.landmark == city]['station_id']\n",
    "    city_status = status[status.station_id.isin(city_stations)]\n",
    "    \n",
    "    return city_status\n",
    "\n",
    "def groupby_term_mean(status, term):\n",
    "    \"\"\"\n",
    "    returns dataframe grouped by term and average values\n",
    "    \n",
    "    input: status data frame, term (month or hour)\n",
    "    output: dataframe grouped by term and average values of\n",
    "            other variables\n",
    "    \"\"\"\n",
    "    assert term in ['month', 'hour', 'weekday'], 'term should be either \"month\", \"hour\" or \"weekday\".'\n",
    "    \n",
    "    if term == 'hour':\n",
    "        status['hour'] = status.time.dt.strftime('%H')\n",
    "        grouped = status.groupby('hour').mean()\n",
    "        grouped.reset_index(inplace = True)\n",
    "    elif term == 'month':\n",
    "        status['month'] = status.time.dt.strftime('%m')\n",
    "        grouped = status.groupby('month').mean()\n",
    "        grouped.reset_index(inplace = True)\n",
    "    else:\n",
    "        status['weekday'] = status.time.dt.weekday_name\n",
    "        grouped = status.groupby('weekday').mean()\n",
    "        grouped.reset_index(inplace = True)\n",
    "        grouped['Sorter'] = [5, 1, 6, 7, 4, 2, 3]\n",
    "        grouped.sort_values(by = 'Sorter', inplace = True)\n",
    "    \n",
    "    return grouped\n",
    "\n",
    "def plot_status(grouped, time_format, city = None, station_name = None):\n",
    "    \"\"\"\n",
    "    returns a plot of average bike and dock availability\n",
    "    input: grouped dataframe by hour or month, time_format \n",
    "          (month or hour), city (default is None)\n",
    "    output: a plot of average bike and dock availability\n",
    "    \"\"\"\n",
    "    import plotly.plotly as py\n",
    "    import plotly.graph_objs as go\n",
    "    \n",
    "    assert time_format in ['month', 'hour', 'weekday'], 'time format should be either \"month\", \"hour\", or \"weekday\".'\n",
    "\n",
    "    # Add data\n",
    "    \n",
    "    if time_format is 'hour':\n",
    "        time = grouped.hour\n",
    "        title_time = 'Daily'\n",
    "        x_axis_name = 'Hour'\n",
    "    elif time_format is 'month':\n",
    "        time = grouped.month\n",
    "        title_time = 'Yearly'\n",
    "        x_axis_name = 'Month'\n",
    "    else:\n",
    "        time = grouped.weekday\n",
    "        title_time = 'Weekly'\n",
    "        x_axis_name = 'Week Days'\n",
    "        \n",
    "    bikes_available = grouped.bikes_available\n",
    "    docks_available = grouped.docks_available\n",
    "    # Create and style traces\n",
    "    trace0 = go.Scatter(\n",
    "        x = time,\n",
    "        y = bikes_available,\n",
    "        name = 'Bikes Available',\n",
    "        line = dict(\n",
    "            color = ('rgb(205, 12, 24)'),\n",
    "            width = 4,\n",
    "            dash = 'dash')\n",
    "    )\n",
    "    trace1 = go.Scatter(\n",
    "        x = time,\n",
    "        y = docks_available,\n",
    "        name = 'Docks Available',\n",
    "        line = dict(\n",
    "            color = ('rgb(22, 96, 167)'),\n",
    "            width = 4,\n",
    "            dash = 'dash')\n",
    "    )\n",
    "\n",
    "    data = [trace0, trace1]\n",
    "    \n",
    "    if station_name:\n",
    "        title_name = '{} Average Counts of Available Bikes and Docks in {}'.format(title_time, station_name)\n",
    "    elif city:\n",
    "        title_name = '{} Average Counts of Available Bikes and Docks in {}'.format(title_time, city)\n",
    "    else:\n",
    "        title_name = '{} Average Counts of Available Bikes and Docks across all 4 cities'.format(title_time)\n",
    "\n",
    "    # Edit the layout\n",
    "    layout = dict(title = title_name,\n",
    "                  xaxis = dict(title = x_axis_name),\n",
    "                  yaxis = dict(title = 'Counts'),\n",
    "                  )\n",
    "\n",
    "    fig = dict(data=data, layout=layout)\n",
    "    file_name = 'plot for {} by {}'.format(city, time_format)\n",
    "    return py.iplot(fig, filename=file_name)\n",
    "\n",
    "def plot_summary_for_city(city, term, station_id = None):\n",
    "    \"\"\"\n",
    "    returns plot summary for the given city and term\n",
    "    input: city name, term ('hour', 'month', 'weekday')\n",
    "    output: a figure\n",
    "    \n",
    "    NOTE: station and status data should be available in global env.\n",
    "    \"\"\"\n",
    "    \n",
    "    assert city in ['San Francisco', 'Mountain View', 'Palo Alto', 'San Jose'], 'unavailable city'\n",
    "    assert term in ['hour', 'month', 'weekday'], 'term should be either \"hour\", \"month\", or \"weekday\".'\n",
    "    assert type(status16['time'][0]) is pandas.tslib.Timestamp, 'status[\"time\"] type error. convert it time series.'\n",
    "    \n",
    "    city_status = status_for_city(station16, status16, city)\n",
    "    station_name = None\n",
    "    if station_id:\n",
    "        assert station_id in station16.station_id.values, 'invalid station id'\n",
    "        city_status = city_status[city_status.station_id == station_id]\n",
    "        station_name = station.name[station16.station_id == station_id].values[0]\n",
    "    grouped = groupby_term_mean(city_status, term)\n",
    "    \n",
    "    return plot_status(grouped, term, city, station_name)"
   ]
  },
  {
   "cell_type": "markdown",
   "metadata": {},
   "source": [
    "### 15. Plots for average number of available bikes and docks in San Francisco and San Jose.\n",
    "\n",
    "Having analyzed the trips and subscribers, we wanted to analyze the status of bikes and docks across all cities to get more confidence that bike sharing is used mostly to commute to work. Then, we thought that due the fact that Palo Alto and Mountain View comprise only about 3-4% of total bikes trips, it would be better to focus only on San Francisco and San Jose.\n",
    "\n",
    "Below, you can see the average availability of bikes in San Francisco and San Jose during a day, week, and month."
   ]
  },
  {
   "cell_type": "markdown",
   "metadata": {},
   "source": [
    "Daily average counts of available bikes and docks in San Francisco clearly shows that starting from night to around 5:00 - 6:00 am the counts of bikes and docks are almost constant. This is probably because very few people use bike sharing at nights. Starting from 5:00 - 6:00 am, less bikes and more docks become available. At 8:30 am the least number of bikes are available, and most docks are free. This clearly shows that in San Francisco, most people use bike sharing as a way to commute to their work. Later, after 10, more bikes become avaialbe till around 3:00 pm. As expected, the counts of free bikes and busy docks start to decrease from 3:00 pm, and at 5:30 pm the one might not be able to find a bike on a nearby bike share station. This again proves that most customers use bike riding to commute back home or nearby Caltrain, bart, or bus stations.\n",
    "\n",
    "For San Jose, this pattern is not clear but closer look might tell similar story. However, since San Jose comprises only about 5% of total bike rides in 2016, this data might be not sufficient to reveal any patterns yet. Clearly, Bay Area Bike Share company should promote their business in San Jose."
   ]
  },
  {
   "cell_type": "code",
   "execution_count": 153,
   "metadata": {
    "collapsed": false
   },
   "outputs": [
    {
     "data": {
      "text/html": [
       "<iframe id=\"igraph\" scrolling=\"no\" style=\"border:none;\" seamless=\"seamless\" src=\"https://plot.ly/~ppatterson/449.embed\" height=\"525px\" width=\"100%\"></iframe>"
      ],
      "text/plain": [
       "<plotly.tools.PlotlyDisplay object>"
      ]
     },
     "execution_count": 153,
     "metadata": {},
     "output_type": "execute_result"
    }
   ],
   "source": [
    "plot_summary_for_city('San Francisco', 'hour')"
   ]
  },
  {
   "cell_type": "code",
   "execution_count": 155,
   "metadata": {
    "collapsed": false
   },
   "outputs": [
    {
     "data": {
      "text/html": [
       "<iframe id=\"igraph\" scrolling=\"no\" style=\"border:none;\" seamless=\"seamless\" src=\"https://plot.ly/~ppatterson/451.embed\" height=\"525px\" width=\"100%\"></iframe>"
      ],
      "text/plain": [
       "<plotly.tools.PlotlyDisplay object>"
      ]
     },
     "execution_count": 155,
     "metadata": {},
     "output_type": "execute_result"
    }
   ],
   "source": [
    "plot_summary_for_city('San Jose', 'hour')"
   ]
  },
  {
   "cell_type": "markdown",
   "metadata": {},
   "source": [
    "Weekly average counts of available bikes and docks in both cities show that during Monday - Friday, the pattern of bike sharing usage is almost constant. On the other hand, more bikes and less docks become available during weekends. This is probably because most customers do not work over the weekend and the system is used less."
   ]
  },
  {
   "cell_type": "code",
   "execution_count": 156,
   "metadata": {
    "collapsed": false
   },
   "outputs": [
    {
     "data": {
      "text/html": [
       "<iframe id=\"igraph\" scrolling=\"no\" style=\"border:none;\" seamless=\"seamless\" src=\"https://plot.ly/~ppatterson/453.embed\" height=\"525px\" width=\"100%\"></iframe>"
      ],
      "text/plain": [
       "<plotly.tools.PlotlyDisplay object>"
      ]
     },
     "execution_count": 156,
     "metadata": {},
     "output_type": "execute_result"
    }
   ],
   "source": [
    "plot_summary_for_city('San Francisco', 'weekday')"
   ]
  },
  {
   "cell_type": "code",
   "execution_count": 157,
   "metadata": {
    "collapsed": false
   },
   "outputs": [
    {
     "data": {
      "text/html": [
       "<iframe id=\"igraph\" scrolling=\"no\" style=\"border:none;\" seamless=\"seamless\" src=\"https://plot.ly/~ppatterson/455.embed\" height=\"525px\" width=\"100%\"></iframe>"
      ],
      "text/plain": [
       "<plotly.tools.PlotlyDisplay object>"
      ]
     },
     "execution_count": 157,
     "metadata": {},
     "output_type": "execute_result"
    }
   ],
   "source": [
    "plot_summary_for_city('San Jose', 'weekday')"
   ]
  },
  {
   "cell_type": "markdown",
   "metadata": {},
   "source": [
    "Yearly average counts of available bikes and docks in both cities show that bike sharing is mostly used during February to October, that is, during months that have suitable weather for bike riding. From October to February, more bikes and less docks are avaialable. Also, during October to January, there are different holidays like Christmas, New Year, and winter vacations that probably also contributes to less usage of bikes."
   ]
  },
  {
   "cell_type": "code",
   "execution_count": 160,
   "metadata": {
    "collapsed": false
   },
   "outputs": [
    {
     "data": {
      "text/html": [
       "<iframe id=\"igraph\" scrolling=\"no\" style=\"border:none;\" seamless=\"seamless\" src=\"https://plot.ly/~ppatterson/457.embed\" height=\"525px\" width=\"100%\"></iframe>"
      ],
      "text/plain": [
       "<plotly.tools.PlotlyDisplay object>"
      ]
     },
     "execution_count": 160,
     "metadata": {},
     "output_type": "execute_result"
    }
   ],
   "source": [
    "plot_summary_for_city('San Francisco', 'month')"
   ]
  },
  {
   "cell_type": "code",
   "execution_count": 161,
   "metadata": {
    "collapsed": false
   },
   "outputs": [
    {
     "data": {
      "text/html": [
       "<iframe id=\"igraph\" scrolling=\"no\" style=\"border:none;\" seamless=\"seamless\" src=\"https://plot.ly/~ppatterson/459.embed\" height=\"525px\" width=\"100%\"></iframe>"
      ],
      "text/plain": [
       "<plotly.tools.PlotlyDisplay object>"
      ]
     },
     "execution_count": 161,
     "metadata": {},
     "output_type": "execute_result"
    }
   ],
   "source": [
    "plot_summary_for_city('San Jose', 'month')"
   ]
  },
  {
   "cell_type": "code",
   "execution_count": 162,
   "metadata": {
    "collapsed": true
   },
   "outputs": [],
   "source": [
    "#plot_summary_for_city('Mountain View', 'hour')\n",
    "#plot_summary_for_city('Mountain View', 'weekday')\n",
    "#plot_summary_for_city('Mountain View', 'month')"
   ]
  },
  {
   "cell_type": "code",
   "execution_count": 163,
   "metadata": {
    "collapsed": false
   },
   "outputs": [],
   "source": [
    "#plot_summary_for_city('Palo Alto', 'hour')\n",
    "#plot_summary_for_city('Palo Alto', 'weekday')\n",
    "#plot_summary_for_city('Palo Alto', 'month')"
   ]
  },
  {
   "cell_type": "code",
   "execution_count": 164,
   "metadata": {
    "collapsed": true
   },
   "outputs": [],
   "source": [
    "def convert_df(station_in, status_in, term, station_id = None):\n",
    "    \"\"\"\n",
    "    createst a DF which is grouped by term and has average\n",
    "    bike and docks available for a station if speficied, otherwise\n",
    "    it returns average value for San Francisco\n",
    "    \n",
    "    input: station_in, status_in, term, station_id (default = None)\n",
    "    output: a grouped DF, station_name (default = None)\n",
    "    \"\"\"\n",
    "    \n",
    "    city_status = status_for_city(station_in, status_in)\n",
    "    station_name = None\n",
    "    if station_id:\n",
    "        assert station_id in station_in.station_id.values, 'invalid station id'\n",
    "        city_status = city_status[city_status.station_id == station_id]\n",
    "        station_name = station_in.name[station_in.station_id == station_id].values[0]\n",
    "    grouped = groupby_term_mean(city_status, term)\n",
    "    \n",
    "    return grouped, station_name"
   ]
  },
  {
   "cell_type": "code",
   "execution_count": 165,
   "metadata": {
    "collapsed": true
   },
   "outputs": [],
   "source": [
    "def compares_years(term, station_id = None):\n",
    "    \"\"\"\n",
    "    compares average avaialble bike and dock counts\n",
    "    for three years per term for San Francisco,\n",
    "    if station_id specified compares for that station.\n",
    "    \n",
    "    input: term ('hour', 'month', or 'weekday')\n",
    "    output: an interactive figure\n",
    "    \n",
    "    \"\"\"\n",
    "    \n",
    "    sf14, station_name = convert_df(station14, status14, term, station_id)\n",
    "    sf15, station_name = convert_df(station15, status15, term, station_id)\n",
    "    sf16, station_name = convert_df(station16, status16, term, station_id)\n",
    "    \n",
    "    bikes14 = sf14.bikes_available.values\n",
    "    docks14 = sf14.docks_available.values\n",
    "    bikes15 = sf15.bikes_available.values\n",
    "    docks15 = sf15.docks_available.values\n",
    "    bikes16 = sf16.bikes_available.values\n",
    "    docks16 = sf16.docks_available\n",
    "    xcoord = sf15[term]\n",
    "    \n",
    "    if station_name:\n",
    "        title = 'Average Available Bike and Dock Counts for {}'.format(station_name)\n",
    "    else:\n",
    "        title = 'Average Available Bike and Dock Counts for San Francisco'\n",
    "\n",
    "    trace1 = Scatter(\n",
    "        x=xcoord, y=bikes15,\n",
    "        line=Line(\n",
    "            color='#FFD700',\n",
    "            width=3\n",
    "        ),\n",
    "        name='2015: Bikes'\n",
    "    )\n",
    "\n",
    "    trace2 = Scatter(\n",
    "        x=xcoord, y=docks15,\n",
    "        line=Line(\n",
    "            color='#C0C0C0',\n",
    "            width=3\n",
    "        ),\n",
    "        name='2015: Docks'\n",
    "    )\n",
    "\n",
    "    trace3 = Scatter(\n",
    "        x=xcoord, y=bikes16,\n",
    "        line=Line(\n",
    "            color='#BA8651',\n",
    "            width=3\n",
    "        ),\n",
    "        name='2016: Bikes'\n",
    "    )\n",
    "\n",
    "    trace4 = Scatter(\n",
    "        x=xcoord, y=docks16,\n",
    "        line=Line(\n",
    "            color='#000000',\n",
    "            width=3\n",
    "        ),\n",
    "        name='2016: Docks'\n",
    "    )\n",
    "    \n",
    "    trace5 = Scatter(\n",
    "        x=xcoord, y=bikes14,\n",
    "        line=Line(\n",
    "            color='#b9f442',\n",
    "            width=3\n",
    "        ),\n",
    "        name='2014: Bikes'\n",
    "    )\n",
    "    \n",
    "    trace6 = Scatter(\n",
    "        x=xcoord, y=docks14,\n",
    "        line=Line(\n",
    "            color='#416bf4',\n",
    "            width=3\n",
    "        ),\n",
    "        name='2014: Docks'\n",
    "    )\n",
    "\n",
    "    data = Data([trace1, trace2, trace3, trace4, trace5, trace6])\n",
    "    layout = Layout(\n",
    "        title=title,\n",
    "        updatemenus=list([\n",
    "            dict(\n",
    "                x=-0.05,\n",
    "                y=1,\n",
    "                yanchor='top',\n",
    "                buttons=list([\n",
    "                    dict(\n",
    "                        args=['visible', [True, True, True, True, True, True]],\n",
    "                        label='All',\n",
    "                        method='restyle'\n",
    "                    ),\n",
    "                    dict(\n",
    "                        args=['visible', [True, True, False, False, False, False]],\n",
    "                        label='2015',\n",
    "                        method='restyle'\n",
    "                    ),\n",
    "                    dict(\n",
    "                        args=['visible', [False, False, True, True, False, False]],\n",
    "                        label='2016',\n",
    "                        method='restyle'\n",
    "                    ),\n",
    "                    dict(\n",
    "                        args=['visible', [False, False, False, False, True, True]],\n",
    "                        label='2014',\n",
    "                        method='restyle'\n",
    "                    ),\n",
    "                    dict(\n",
    "                        args=['visible', [True, False, True, False, True, False]],\n",
    "                        label='Bikes',\n",
    "                        method='restyle'\n",
    "                    ),\n",
    "                    dict(\n",
    "                        args=['visible', [False, True, False, True, False, True]],\n",
    "                        label='Docks',\n",
    "                        method='restyle'\n",
    "                    )\n",
    "                ]),\n",
    "            )\n",
    "        ]),\n",
    "    )\n",
    "    fig = Figure(data=data, layout=layout)\n",
    "    return py.iplot(fig)"
   ]
  },
  {
   "cell_type": "code",
   "execution_count": 166,
   "metadata": {
    "collapsed": true
   },
   "outputs": [],
   "source": [
    "def route_countFunc(trip_df, station_df):\n",
    "    \"\"\"\n",
    "    This function gets 'trip' and 'station' dataframe and returns a dataframe contains routes and their counts\n",
    "    @args:\n",
    "        trip_df: trip dataframe\n",
    "        station_df: station dataframe\n",
    "    @returns:\n",
    "        routes_count: contains routes and their counts, duration, and landmark\n",
    "    \"\"\"\n",
    "    #Add start landmark\n",
    "    trip = pd.merge(left = trip_df[['Trip ID', 'Duration', 'station_id', 'End Terminal']], right = station_df[['name', 'station_id', 'landmark']], \n",
    "             how='left', left_on='station_id', right_on= 'station_id')\n",
    "    trip.rename(columns={'landmark':'start_landmark', 'name':'Start Station'}, inplace=True)\n",
    "    trip.drop('station_id', inplace=True, axis=1)\n",
    "    #Add end landmark\n",
    "    trip = pd.merge(left = trip, right = station_df[['name','station_id', 'landmark']], \n",
    "             how='left', left_on='End Terminal', right_on= 'station_id')\n",
    "    trip.rename(columns={'landmark':'end_landmark', 'name':'End Station'}, inplace=True)\n",
    "    trip.drop('station_id', inplace=True, axis=1)\n",
    "       #Pick only trips within one landmark\n",
    "    trip = trip[trip.start_landmark == trip.end_landmark]\n",
    "    #Count the number of trips between stations\n",
    "    routes_count = trip.groupby(['Start Station', 'End Station', 'start_landmark']).agg({'Trip ID': 'count', 'Duration': 'mean'}).reset_index()\n",
    "    routes_count = routes_count.rename(columns={'Trip ID': 'Counts'})\n",
    "    routes_count.Duration = routes_count['Duration'].apply(lambda x: round((x/60),2))\n",
    "    #Change the column names\n",
    "    routes_count.rename(columns={'start_landmark':'Landmark', 'Duration': 'Duration (min)'}, inplace=True)\n",
    "    return routes_count"
   ]
  },
  {
   "cell_type": "code",
   "execution_count": 167,
   "metadata": {
    "collapsed": true
   },
   "outputs": [],
   "source": [
    "def route_heatmap(trip_df, station_df, landmark):\n",
    "    \"\"\"\n",
    "    This function recieve the trip and station dataframes for a specific year \n",
    "    and plots the trip heatmap for a given landmark\n",
    "    @args:\n",
    "        trip_df: trip dataframe\n",
    "        station_df: station dataframe\n",
    "        landmark: Could be \"San Francisco\", \"San Jose\", \"Palo Alto\", and \"Mountain View\"\n",
    "    @returns:\n",
    "        Heatmap graph\n",
    "    \"\"\"\n",
    "    routes = route_countFunc(trip_df, station_df)\n",
    "    df_routes = routes[routes.Landmark == landmark]\n",
    "    start_station = df_routes['Start Station'].sort_values().unique()\n",
    "    end_station = df_routes['End Station'].sort_values().unique()\n",
    "\n",
    "    #create z values for heatmap and text for hover text in the map\n",
    "    z = []\n",
    "    trip_text = []\n",
    "    for start in start_station:\n",
    "        new_row = []\n",
    "        text_row = []\n",
    "        for end in end_station:\n",
    "            try:\n",
    "                trip_count = df_routes[(df_routes['Start Station'] == start) & (df_routes['End Station'] == end)].Counts.values[0]\n",
    "                average_duration = df_routes[(df_routes['Start Station'] == start) & (df_routes['End Station'] == end)]['Duration (min)'].values[0]\n",
    "            except IndexError:\n",
    "                trip_count = 0\n",
    "                average_duration = 0\n",
    "            text = 'Start Station: {}<br>End Station: {}<br>Trip Counts: {}<br>Average Duration: {} Mins'.format(start, end, trip_count, average_duration)\n",
    "            text_row.append(text)    \n",
    "            new_row.append(trip_count)\n",
    "        z.append(list(new_row))\n",
    "        trip_text.append(list(text_row))\n",
    "\n",
    "    #Plot Heatmap\n",
    "    heatmap = go.Heatmap(x = start_station,\n",
    "               y = end_station,\n",
    "               z = z,\n",
    "                hoverinfo = 'text',\n",
    "                text = trip_text,\n",
    "               colorscale='YIGnBu',\n",
    "               reversescale=True)\n",
    "\n",
    "    data = go.Data([heatmap])\n",
    "    layout = go.Layout(\n",
    "        title=landmark.upper() + ' TRIP COUNTS',\n",
    "        titlefont = dict(color='black', size=35, family='monospace'),\n",
    "        xaxis=dict(\n",
    "            title='END STATION',\n",
    "            tickangle = -90,\n",
    "            titlefont=dict(\n",
    "                family='monospace',\n",
    "                size=18,\n",
    "                color='red')),\n",
    "        yaxis=dict(\n",
    "            title='START STATION',\n",
    "            titlefont=dict(\n",
    "                family='monospace',\n",
    "                size=18,\n",
    "                color='red')),\n",
    "        width=1000,\n",
    "        height=1000,\n",
    "        margin=go.Margin(\n",
    "        l=300,\n",
    "        r=50,\n",
    "        b=300,\n",
    "        t=100,\n",
    "        pad=4\n",
    "    )\n",
    "    )\n",
    "    fig = go.Figure(data=data, layout=layout)\n",
    "    return py.iplot(fig)"
   ]
  },
  {
   "cell_type": "code",
   "execution_count": 168,
   "metadata": {
    "collapsed": true
   },
   "outputs": [],
   "source": [
    "def crimeFunc(df):\n",
    "    \"\"\"\n",
    "    This function gets the crime data frame and select the crimes potentially dangerous to bikers and bikes such as:\n",
    "    'BURGLARY', 'DRIVING UNDER THE INFLUENCE', 'ROBBERY', 'STOLEN PROPERTY', 'VANDALISM', 'VEHICLE THEFT'\n",
    "    in the year 2016\n",
    "    @args:\n",
    "        df: crime dataframe\n",
    "    @returns:\n",
    "        a dataframe containing crimes in 2015 related to bikes\n",
    "    \"\"\"\n",
    "    #List of related crimes\n",
    "    relatedCrimes = ['BURGLARY', 'DRIVING UNDER THE INFLUENCE', 'ROBBERY', 'STOLEN PROPERTY', 'VANDALISM', 'VEHICLE THEFT']\n",
    "    bikeCrime = df[df['Category'].isin(relatedCrimes)].reset_index(drop = True)\n",
    "    #Extract year from \"Date\" column\n",
    "    bikeCrime.Date = bikeCrime.Date.str.slice(6,10)\n",
    "    bikeCrime = bikeCrime.rename(columns = {'X': 'lon', 'Y': 'lat', 'Date': 'year'})\n",
    "    #Crimes in year 2016\n",
    "    bikeCrime = bikeCrime[bikeCrime['year'] == '2016'][['Category', 'lat', 'lon']].reset_index(drop=True)\n",
    "    return bikeCrime"
   ]
  },
  {
   "cell_type": "code",
   "execution_count": 169,
   "metadata": {
    "collapsed": true
   },
   "outputs": [],
   "source": [
    "def crime_objectFunc(df):\n",
    "    \"\"\"\n",
    "    This function gets the crime data frame and creates a scatter map plot object\n",
    "    @args:\n",
    "        df: crime data frame\n",
    "    @returns:\n",
    "        a scatter map plot object\n",
    "    \"\"\"\n",
    "    bikeCrime = crimeFunc(df)\n",
    "    crime_graph = go.Scattermapbox(lon = bikeCrime['lon'],\n",
    "                        lat = bikeCrime['lat'],\n",
    "                        hoverinfo = 'text',\n",
    "                        text = bikeCrime['Category'],\n",
    "                        mode = 'markers',\n",
    "                        marker = dict(size = 3,\n",
    "                                     color = 'red'\n",
    "                                      ),\n",
    "                        opacity = 0.1,\n",
    "                        name = 'Crime')\n",
    "    return crime_graph"
   ]
  },
  {
   "cell_type": "code",
   "execution_count": 170,
   "metadata": {
    "collapsed": true
   },
   "outputs": [],
   "source": [
    "def extract_info(zipNum, info_type):\n",
    "    '''\n",
    "    This function gets the zipcode and returns either city name, latitude, or longitude\n",
    "    @args:\n",
    "        zipNum: zipcode\n",
    "        info_type: could be either: 'city', 'lat', or 'longitude'\n",
    "    @returns:\n",
    "        city name, latitude, or longitude\n",
    "    '''\n",
    "    \n",
    "    try:\n",
    "        zipcode.isequal(str(zipNum)).state #Check to see if info exists for the zipcode\n",
    "        info = zipcode.isequal(str(zipNum))\n",
    "    except AttributeError:\n",
    "        return 'Not valid'\n",
    "    if info_type == 'state':\n",
    "        return info.state\n",
    "    if info_type == 'city':\n",
    "        return info.city\n",
    "    elif info_type == 'lat':\n",
    "        return info.lat\n",
    "    else:\n",
    "        return info.lon"
   ]
  },
  {
   "cell_type": "code",
   "execution_count": 171,
   "metadata": {
    "collapsed": true
   },
   "outputs": [],
   "source": [
    "def incomeFunc(df):\n",
    "    \"\"\"\n",
    "    This function gets the income dataframe and finds the city and state corresponding to each lattidue and longitude\n",
    "    and returns a dataframe containing median and mean income corresponding to each zipcode in San Francisco\n",
    "    @args:\n",
    "        df: income dataframe\n",
    "    @returns:\n",
    "        a dataframe containing median and mean income corresponding to each zipcode in San Francisco\n",
    "    \"\"\"\n",
    "    #Add state, city, latitude, and longitude columns to income dataset\n",
    "    info_list = ['state', 'city', 'lat', 'lon']\n",
    "    for i in info_list:\n",
    "        df[i] = [extract_info(str(x), i) for x in df.iloc[:,0]]\n",
    "\n",
    "    #Extract Sanfrancicso data\n",
    "    SF_income = df[(df.state == 'CA') & (df.city == 'SAN FRANCISCO')].reset_index(drop=True)\n",
    "    return SF_income"
   ]
  },
  {
   "cell_type": "code",
   "execution_count": 172,
   "metadata": {
    "collapsed": true
   },
   "outputs": [],
   "source": [
    "def hover_incomeTextFunc(df):\n",
    "    \"\"\"\n",
    "    This function gets the income dataframe and creates a list of texts for hover text in plot\n",
    "    @args:\n",
    "        df: income dataframe\n",
    "    @returns:\n",
    "        a list of texts for hover text in the plot\n",
    "    \"\"\"\n",
    "    #For hover in the map graph\n",
    "    text_income = df.apply(lambda x: 'Zipcode: {}<br>Population: {}<br>Median Income: ${}<br>Mean Income: ${}'.format(\n",
    "            x[0], x[3], x[1], x[2]),axis=1)\n",
    "    return text_income"
   ]
  },
  {
   "cell_type": "code",
   "execution_count": 173,
   "metadata": {
    "collapsed": true
   },
   "outputs": [],
   "source": [
    "def point_incomeSizeFunc(df):\n",
    "    \"\"\"\n",
    "    This function gets the income dataframe and creates a list of point sizes for plot\n",
    "    @args:\n",
    "        df: income dataframe\n",
    "    @returns:\n",
    "        a list of point sizes for plot\n",
    "    \"\"\"\n",
    "    #Scale the point size for map\n",
    "    point_size = df['Median'].str.replace(',', '').apply(int)/df['Median'].str.replace(',', '').apply(int).max()\n",
    "    return point_size"
   ]
  },
  {
   "cell_type": "code",
   "execution_count": 174,
   "metadata": {
    "collapsed": true
   },
   "outputs": [],
   "source": [
    "def point_incomeTransFunc(df):\n",
    "    \"\"\"\n",
    "    This function gets the income dataframe and creates of a list of point transparency for plot\n",
    "    @args:\n",
    "        df: income dataframe\n",
    "    @returns:\n",
    "        a list of point transparency for plot\n",
    "    \"\"\"\n",
    "    #Scale the point transparancy to population\n",
    "    point_transparency = df['Population'].str.replace(',', '').apply(int)/df['Population'].str.replace(',', '').apply(int).max()\n",
    "    return point_transparency"
   ]
  },
  {
   "cell_type": "code",
   "execution_count": 175,
   "metadata": {
    "collapsed": true
   },
   "outputs": [],
   "source": [
    "def income_objectFunc(df):\n",
    "    \"\"\"\n",
    "    This function gets the income dataframe and creates a scatter map plot object\n",
    "    @args:\n",
    "        df: income dataframe\n",
    "    @returns:\n",
    "        a scatter map plot object\n",
    "    \"\"\"\n",
    "    SF_income = incomeFunc(df)\n",
    "    income_graph = go.Scattermapbox(lon = incomeFunc(SF_income)['lon'],\n",
    "                        lat = incomeFunc(SF_income)['lat'],\n",
    "                        hoverinfo = 'text',\n",
    "                        text = hover_incomeTextFunc(SF_income),\n",
    "                        mode = 'markers',\n",
    "                        marker = dict(size = point_incomeSizeFunc(SF_income)*20,\n",
    "                                     color = 'light blue'\n",
    "                                      ),\n",
    "                        opacity = point_incomeTransFunc(SF_income)/10,\n",
    "                        name = 'Median Income')\n",
    "    return income_graph"
   ]
  },
  {
   "cell_type": "code",
   "execution_count": 176,
   "metadata": {
    "collapsed": true
   },
   "outputs": [],
   "source": [
    "def graph_CrimeIncome(income_df, crime_df):\n",
    "    \"\"\"\n",
    "    This function gets two data frames income and crime and plots the scatter map plot for both in San Francisco\n",
    "    @args:\n",
    "        income_df: income dataframe\n",
    "        crime_df: crime dataframe\n",
    "    @returns:\n",
    "        A scatter map plot in San Francisco\n",
    "    \"\"\"\n",
    "    income_object = income_objectFunc(income_df)\n",
    "    crime_object = crime_objectFunc(crime_df)\n",
    "    data = go.Data([income_object, crime_object])\n",
    "    layout = dict(\n",
    "    title='MEDIAN INCOME AND CRIME MAP IN SAN FRANCISCO',\n",
    "    titlefont = dict(color='black', size=35, family='monospace'),\n",
    "    autosize=True,\n",
    "    hovermode='closest',\n",
    "    mapbox=dict(\n",
    "        accesstoken=mapbox_token,\n",
    "        bearing=0,\n",
    "        center=dict(\n",
    "            lat=37.773972,\n",
    "            lon=-122.431297\n",
    "        ),\n",
    "        pitch=0,\n",
    "        zoom=10\n",
    "    ),\n",
    "    )\n",
    "    layout = go.Layout(layout)\n",
    "    fig = go.Figure(data = data, layout = layout)\n",
    "    return py.iplot(fig)"
   ]
  },
  {
   "cell_type": "code",
   "execution_count": 177,
   "metadata": {
    "collapsed": true
   },
   "outputs": [],
   "source": [
    "def routeDock_countFunc(tripDF, stationDF, landmark):\n",
    "    \"\"\"\n",
    "    This function gets trip and station dataframes and the landmark of interests and returns a dataframe\n",
    "    containing all stations with total number of trips started at the stations and their number of dockcounts\n",
    "    @args:\n",
    "        tripDF: trip dataframe\n",
    "        stationDF: station dataframe\n",
    "        landmark: Landmark of interest that could be \"San Francisco\", \"San Jose\", \"Palo Alto\", and \"Mountain View\"\n",
    "    @returns:\n",
    "        A dataframe containing all stations with total number of trips started at the stations and their \n",
    "        number of dockcounts\n",
    "    \"\"\"\n",
    "    routeCount = route_countFunc(tripDF, stationDF)\n",
    "    routeCount = routeCount[routeCount.Landmark == landmark].groupby('Start Station').agg({'Counts': 'sum'}).reset_index()\n",
    "    routeCount = pd.merge(left=routeCount, right=stationDF[['name', 'dockcount']], how='inner', left_on='Start Station', right_on='name')\n",
    "    routeCount.drop('name', axis=1, inplace=True)\n",
    "    return routeCount"
   ]
  },
  {
   "cell_type": "code",
   "execution_count": 178,
   "metadata": {
    "collapsed": true
   },
   "outputs": [],
   "source": [
    "def hover_text(df):\n",
    "    \"\"\"\n",
    "    This function gets a dataframe made by function \"routeDock_countFunc\" and returns a list containing the \n",
    "    text information used in the barplot\n",
    "    @args:\n",
    "        df: dataframe made with function \"routeDock_countFunc\"\n",
    "    @returns:\n",
    "        a list containing the text information used in hover text for the barplot\n",
    "    \"\"\"\n",
    "    text = df.apply(lambda x: 'Station: {}<br>Trip Counts: {}<br>Dock Counts: {}<br>Dock/Trip: {}%'.format(\n",
    "        x[0], x[1], int(x[2]), round(float(x[2])*100/x[1], 3)), axis=1)\n",
    "    return text"
   ]
  },
  {
   "cell_type": "code",
   "execution_count": 179,
   "metadata": {
    "collapsed": true
   },
   "outputs": [],
   "source": [
    "def bar_object(tripDF, stationDF, landmark, year):\n",
    "    \"\"\"\n",
    "    This function gets trip and station dataframes and the landmark of interests and specific year and returns \n",
    "    a barobject used for plotting barplot\n",
    "    @args:\n",
    "        tripDF: trip dataframe\n",
    "        stationDF: station dataframe\n",
    "        landmark: Landmark of interest that could be \"San Francisco\", \"San Jose\", \"Palo Alto\", and \"Mountain View\"\n",
    "        year: year of interest, either 2014, 2015, 2016\n",
    "    @returns:\n",
    "      Barplot object used to plot a barplot\n",
    "    \"\"\"\n",
    "    df = routeDock_countFunc(tripDF, stationDF, landmark)\n",
    "    bar = go.Bar(x=df['Start Station'], y=df['Counts'],\n",
    "                name = year, hoverinfo='text', text=hover_text(df))\n",
    "    return bar"
   ]
  },
  {
   "cell_type": "code",
   "execution_count": 180,
   "metadata": {
    "collapsed": true
   },
   "outputs": [],
   "source": [
    "def barPlot(landmark):\n",
    "    \"\"\"\n",
    "    This funciton gets a landmark and plots the number of trips from statins in a landmark. The barplot\n",
    "    contains the information for three years 2014, 2015, and 2016.\n",
    "    @args:\n",
    "        landmark: Landmark of interest that could be \"San Francisco\", \"San Jose\", \"Palo Alto\", and \"Mountain View\"\n",
    "    @returns:\n",
    "        A barplot\n",
    "    \"\"\"\n",
    "    \n",
    "    #Bar object\n",
    "    bar14 = bar_object(trip14, station14, landmark, 2014)\n",
    "    bar15 = bar_object(trip15, station15, landmark, 2015)\n",
    "    bar16 = bar_object(trip16, station16, landmark, 2016)\n",
    "    data = go.Data([bar14, bar15, bar16])\n",
    "    \n",
    "    #Layout\n",
    "    layout = go.Layout(\n",
    "     width=1000,\n",
    "    height=800,\n",
    "    hovermode = 'closest',\n",
    "    title='TOTAL TRIPS FROM STATIONS IN ' + landmark.upper(),\n",
    "    titlefont = dict(color='black', size=35, family='monospace'),\n",
    "    xaxis=dict(\n",
    "        title='STATION',\n",
    "        tickangle = -90,\n",
    "        titlefont=dict(\n",
    "            family='monospace',\n",
    "            size=18,\n",
    "            color='red')),\n",
    "    yaxis=dict(\n",
    "        title='TRIP COUNTS',\n",
    "        titlefont=dict(\n",
    "            family='monospace',\n",
    "            size=18,\n",
    "            color='red')),\n",
    "        margin=go.Margin(\n",
    "        l=100,\n",
    "        r=50,\n",
    "        b=300,\n",
    "        t=100,\n",
    "        pad=4), \n",
    "        showlegend = 'True', \n",
    "        legend = dict(x=0, y=1, orientation='h'))\n",
    "    \n",
    "    #Make the plot\n",
    "    fig = go.Figure(data = data, layout = layout)\n",
    "    return py.iplot(fig)"
   ]
  },
  {
   "cell_type": "markdown",
   "metadata": {},
   "source": [
    "### 17. Trips from stations in San Francisco\n",
    "\n",
    "The following bar plot shows the number of trips started from each station in San Francisco in three years. Pointing the mouse cursor over each bar will give information on number of docks and docks/rides percent, in addition to station name and exact number of rides for each station."
   ]
  },
  {
   "cell_type": "code",
   "execution_count": 181,
   "metadata": {
    "collapsed": false
   },
   "outputs": [
    {
     "data": {
      "text/html": [
       "<iframe id=\"igraph\" scrolling=\"no\" style=\"border:none;\" seamless=\"seamless\" src=\"https://plot.ly/~ppatterson/461.embed\" height=\"800px\" width=\"1000px\"></iframe>"
      ],
      "text/plain": [
       "<plotly.tools.PlotlyDisplay object>"
      ]
     },
     "execution_count": 181,
     "metadata": {},
     "output_type": "execute_result"
    }
   ],
   "source": [
    "barPlot('San Francisco')"
   ]
  },
  {
   "cell_type": "markdown",
   "metadata": {},
   "source": [
    "Looking at 2016 data, the top 5 most popular starting stations are as follows:\n",
    " \n",
    "Station       |   Rides\n",
    "--------      |   ------\n",
    "San Francisco Caltrain (Townsend at 4th) |23591\n",
    "San Francisco Caltrain 2 (330 Townsend)   |22358\n",
    "Harry Bridges Plaza (Ferry Building)      |16127\n",
    "2nd at Townsend |14099\n",
    "Steuart at Market |13690\n",
    " \n",
    "San Francisco Caltrain 1 and 2 stations that are near the Caltrain station are on top of the list. This shows that, these two stations serve people who are using Caltrain line to commute. Check out the first map to see their location and the closest bike stations. Harry Bridge Plaza and Steuart at Market stations are ranked third and fifth in the list. Both two stations are close to Ferry Building which is a destination for tourists and a center of transit hub that connects San Francisco’s neighborhoods and the surrounding bay area communities. Also, 2nd at Townsend station ranked fourth in the list is in the proximity of MUNI station. Therefore, top five bike stations are adjacent to public transit stations that people normally use to commute to their works or places of interest where tourists visit.\n",
    "\n",
    "Rides initiated from these five stations constitute about 31 percent of total rides from starting stations in San Francisco, however, number of bikes allocated to these 5 stations varies between 15 to 23. On the other hand, San Francisco City Hall station with the least number of rides (2195) among all stations has 19 bikes. This shows that the number of bikes available for high demand stations is not proportional to the number of trips. Therefore, this will cause in empty bike docks and longer waiting time that eventually leads to user dissatisfaction. It is highly recommended to increase the number of bikes in these stations or install new stations near the existing ones to optimize the serviceability and waiting time.\n",
    "\n",
    "Two new stations have been installed in 2016 at 5th St at Folsom St and Cyril Magning St at Ellis St. These stations have operated less than a week in 2016 and hence, their ride counts are extremely low.\n",
    "Broadway St at Batter St and San Francisco Caltrain 2 (330 Townsend) stations have a huge jump in the ride counts between 2014 and 2015. Broadway St at Batter St station was installed in late 2014 which explains the low ride rate. However, San Francisco Caltrain 2 (230 Townsend) has the same installation date as San Francisco Caltrain (Townsend at 4th) with more dock counts and much less ride counts in 2014. No significant observation found to explain the low ride rate for this station in 2014 and the following significant jump in 2015. "
   ]
  },
  {
   "cell_type": "markdown",
   "metadata": {},
   "source": [
    "### 17. Route count heatmap by station in SF for 2016\n",
    "\n",
    "In the previous section, the popularity of starting stations was explored. In this section, we will look at the popularity of routes in the San Francisco bike share system. Trip table contains information on trips starting station, ending station, and duration. This information is plotted in the heatmap below. The x-axis and y-axis represent the end station and start station, respectively. The color of squares indicates the total number of trips from starting station to ending station with lighter colors representing lower trip counts and darker color representing higher trip counts. The map is interactive and hovering the mouse pointer over the squares gives detailed information on exact number of trips as well as average trip duration. It should be noted that, the heatmap shows only the trips within the city boundaries and does not count for trips between different landmarks."
   ]
  },
  {
   "cell_type": "code",
   "execution_count": 182,
   "metadata": {
    "collapsed": false
   },
   "outputs": [
    {
     "data": {
      "text/html": [
       "<iframe id=\"igraph\" scrolling=\"no\" style=\"border:none;\" seamless=\"seamless\" src=\"https://plot.ly/~ppatterson/463.embed\" height=\"1000px\" width=\"1000px\"></iframe>"
      ],
      "text/plain": [
       "<plotly.tools.PlotlyDisplay object>"
      ]
     },
     "execution_count": 182,
     "metadata": {},
     "output_type": "execute_result"
    }
   ],
   "source": [
    "route_heatmap(trip16, station16, 'San Francisco')"
   ]
  },
  {
   "cell_type": "markdown",
   "metadata": {
    "collapsed": true
   },
   "source": [
    "Looking at the heatmap, the top 5 most popular routes are as follows:\n",
    "\n",
    "Start Station                        | End Station                             |Counts | Avg. Duration (min)\n",
    "-------------------------------------|-----------------------------------------|-------|--------------------\n",
    "Townsend at 7th                      | San Francisco Caltrain 2 (330 Townsend) |3341   | 4.26\n",
    "Market at 10th                       | San Francisco Caltrain 2 (330 Townsend) |3035   | 9.89\n",
    "Harry Bridges Plaza (Ferry Building) | Embarcadero at Sansome                  | 2986  |17.17\n",
    "2nd at Townsend                      | Harry Bridges Plaza (Ferry Building)    | 2781  | 9.66\n",
    "Embarcadero at Sansome               | Steuart at Market                       |2605   | 7.66\n",
    "\n",
    "\n",
    "Townsend at 7th to San Francisco Caltrain 2 is ranked first in the list. Townsend at 7th is in a business region that contains many companies. This could be a reason for the popularity of this route. Companies employees use this bike station to get to the Caltrain. Also, the opposite route, from San Francisco Caltrain 2 to Townsend at 7th, has a high trip count that reinforces the idea that this route has been used by employees to commute from home to work and vice versa.\n",
    "Harry Bridges Plaza to Embarcadero at Sansome and Embarcadero at Sansome to Steuart at Market are other two routes that have heavy trip counts. Compared to other routes mentioned earlier, opposite direction of these two routes are not trafficked as other direction. These stations are located close to Ferry Building and Pier 39 which are great spots for tourists. Therefore, bikes in these stations are mostly used by tourists to explore around the area and visit different attractive parts along the coast. "
   ]
  },
  {
   "cell_type": "markdown",
   "metadata": {},
   "source": [
    "### 18. Compare availability of bikes and docks for the two bike stations near San Francisco Caltrain 2"
   ]
  },
  {
   "cell_type": "markdown",
   "metadata": {},
   "source": [
    "The plots below show the availability fo bikes and docks throughout a day for the two busiest staions: Townsend at 4th and 330 Townsend. One can see that the number of available bikes reaches peak at midnight and at around 6:00am - 7:00am in the morning starts to decline. Meanwhile, the number of available docks is least during night since bikes are docked. Again, starting from 6:00am - 7:00am more docks become available. Hence, between 6:00am - 7:00am availability of bikes and docks change. It must be due to the fact that there is Caltrain station and it is the last line coming to San Francisco Downtown business area. And as stated above, most people probably use Bay Area Bike Share as subscribers and commute via bike to their work. Around 4:00-6:00pm pm they return back to Caltrain to go home and at the same time the number of available bikes starts to increase while docks become less available. Surprisingly, both bike share stations have the same pattern. Moreover, for all three years this pattern is preserved. Hence, it might a good idea to invest more into locations that have Caltrain or BART stations and promote people to use bike sharing as a \"last mile connection\"."
   ]
  },
  {
   "cell_type": "code",
   "execution_count": 183,
   "metadata": {
    "collapsed": false
   },
   "outputs": [
    {
     "data": {
      "text/html": [
       "<iframe id=\"igraph\" scrolling=\"no\" style=\"border:none;\" seamless=\"seamless\" src=\"https://plot.ly/~ppatterson/465.embed\" height=\"525px\" width=\"100%\"></iframe>"
      ],
      "text/plain": [
       "<plotly.tools.PlotlyDisplay object>"
      ]
     },
     "execution_count": 183,
     "metadata": {},
     "output_type": "execute_result"
    }
   ],
   "source": [
    "compares_years(term='hour', station_id= 70)"
   ]
  },
  {
   "cell_type": "code",
   "execution_count": 184,
   "metadata": {
    "collapsed": false
   },
   "outputs": [
    {
     "data": {
      "text/html": [
       "<iframe id=\"igraph\" scrolling=\"no\" style=\"border:none;\" seamless=\"seamless\" src=\"https://plot.ly/~ppatterson/467.embed\" height=\"525px\" width=\"100%\"></iframe>"
      ],
      "text/plain": [
       "<plotly.tools.PlotlyDisplay object>"
      ]
     },
     "execution_count": 184,
     "metadata": {},
     "output_type": "execute_result"
    }
   ],
   "source": [
    "compares_years(term = 'hour', station_id = 69)"
   ]
  },
  {
   "cell_type": "markdown",
   "metadata": {},
   "source": [
    "The bike riding pattern for the two stations by week days can be seen below. Starting from Monday to Friday, the pattern of number of available bikes and docks are almost constant with the slope showing that less bikes are used as weekends approach. On Saturday and Sunday, even less bikes are used and hence less number of docks are available. This pattern is similar for all three years, and for both stations. This means that the majority of bike share systems users are the ones that work in San Francisco and commute with Caltrain. It might also explain the fact that almost 92% of users are subscribers. Hence, people tend to subscribe for yearly bike sharing and use bikes to fill the last gap in their commute."
   ]
  },
  {
   "cell_type": "code",
   "execution_count": 185,
   "metadata": {
    "collapsed": false
   },
   "outputs": [
    {
     "data": {
      "text/html": [
       "<iframe id=\"igraph\" scrolling=\"no\" style=\"border:none;\" seamless=\"seamless\" src=\"https://plot.ly/~ppatterson/469.embed\" height=\"525px\" width=\"100%\"></iframe>"
      ],
      "text/plain": [
       "<plotly.tools.PlotlyDisplay object>"
      ]
     },
     "execution_count": 185,
     "metadata": {},
     "output_type": "execute_result"
    }
   ],
   "source": [
    "compares_years(term = 'weekday', station_id = 70)"
   ]
  },
  {
   "cell_type": "code",
   "execution_count": 186,
   "metadata": {
    "collapsed": false
   },
   "outputs": [
    {
     "data": {
      "text/html": [
       "<iframe id=\"igraph\" scrolling=\"no\" style=\"border:none;\" seamless=\"seamless\" src=\"https://plot.ly/~ppatterson/471.embed\" height=\"525px\" width=\"100%\"></iframe>"
      ],
      "text/plain": [
       "<plotly.tools.PlotlyDisplay object>"
      ]
     },
     "execution_count": 186,
     "metadata": {},
     "output_type": "execute_result"
    }
   ],
   "source": [
    "compares_years('weekday', 69)"
   ]
  },
  {
   "cell_type": "markdown",
   "metadata": {},
   "source": [
    "The bike riding pattern plots according month for Townsend at 4th and 330 Townsend show that the average number of bikes and docks is almost constant between February and October. This is expected since those months are usually warm and have suitable weather for bike riding. During winter months, people tend to use bikes less and hence more bikes and less docks are available. Again, the pattern is similar for all three years, and for both stations. Also, during December and January, there is Thanksgiving, Christmas, New Year, and holidays. Hence, less people work which might also explain less usage of bikes in those months. That period of time could be used to do bike condition check ups, repairs, etc. "
   ]
  },
  {
   "cell_type": "code",
   "execution_count": 187,
   "metadata": {
    "collapsed": false
   },
   "outputs": [
    {
     "data": {
      "text/html": [
       "<iframe id=\"igraph\" scrolling=\"no\" style=\"border:none;\" seamless=\"seamless\" src=\"https://plot.ly/~ppatterson/473.embed\" height=\"525px\" width=\"100%\"></iframe>"
      ],
      "text/plain": [
       "<plotly.tools.PlotlyDisplay object>"
      ]
     },
     "execution_count": 187,
     "metadata": {},
     "output_type": "execute_result"
    }
   ],
   "source": [
    "compares_years('month', 70)"
   ]
  },
  {
   "cell_type": "code",
   "execution_count": 188,
   "metadata": {
    "collapsed": false
   },
   "outputs": [
    {
     "data": {
      "text/html": [
       "<iframe id=\"igraph\" scrolling=\"no\" style=\"border:none;\" seamless=\"seamless\" src=\"https://plot.ly/~ppatterson/475.embed\" height=\"525px\" width=\"100%\"></iframe>"
      ],
      "text/plain": [
       "<plotly.tools.PlotlyDisplay object>"
      ]
     },
     "execution_count": 188,
     "metadata": {},
     "output_type": "execute_result"
    }
   ],
   "source": [
    "compares_years('month', 69)"
   ]
  },
  {
   "cell_type": "markdown",
   "metadata": {},
   "source": [
    "### 18. Median income and crime map in SF for 2016\n",
    "\n",
    "In this section, we would like to explore whether crimes and income distribution in San Francisco were influencing factors in choosing the current bike stations. The crime data is provided by City of San Francisco and is published on <a href = 'http://sfgov.org'> SFGOV </a> The dataset contains various crimes from 2003 to 2016. Among different types of crimes available in the dataset, crimes that are more relevant to bikes or may endanger the bikers were picked. The selected crimes were as follows: burglary, driving under influence, rubbery, stolen property, vandalism, and vehicle theft. Also, the analysis is focused only on crimes taken place in 2016. The following plot shows the distribution of crimes as red dots on San Francisco map. This is an interactive map, hovering the mouse over the points will show the type of crime. It could be seen that the crime points are all over the map with much higher density in downtown where the bike stations are located. Therefore, there is no significant relationship between the station locations and crime distribution in the city. "
   ]
  },
  {
   "cell_type": "code",
   "execution_count": 189,
   "metadata": {
    "collapsed": false
   },
   "outputs": [
    {
     "data": {
      "text/html": [
       "<iframe id=\"igraph\" scrolling=\"no\" style=\"border:none;\" seamless=\"seamless\" src=\"https://plot.ly/~ppatterson/477.embed\" height=\"525px\" width=\"100%\"></iframe>"
      ],
      "text/plain": [
       "<plotly.tools.PlotlyDisplay object>"
      ]
     },
     "execution_count": 189,
     "metadata": {},
     "output_type": "execute_result"
    }
   ],
   "source": [
    "graph_CrimeIncome(income, crime)"
   ]
  },
  {
   "cell_type": "markdown",
   "metadata": {},
   "source": [
    "The income data for each zip code is obtained from Census Bureau. Hovering the mouse pointer over the blue dots will give information on mean and median income and resident population for each zip code in San Francisco. The size of the dots is proportional to the median income. There is no obvious relationship between neither resident population nor median income for each zip code and station locations.\n",
    "Based on the analysis provided in the previous sections, it can be concluded that the company has aimed locations with more businesses, tourist attractions, and transit hubs to install bike stations. Employees and tourists constitute most of the customers rather the residents and stations closer to business area and tourist attraction have the highest trip rates. The locations that met these criteria are mostly located in downtown and vicinity where all the bike stations are located at this moment. "
   ]
  },
  {
   "cell_type": "markdown",
   "metadata": {},
   "source": [
    "## Suggestions for the future stations"
   ]
  },
  {
   "cell_type": "markdown",
   "metadata": {},
   "source": [
    "A yearly subscribed customer who commutes to his/her work in San Francisco using Caltrain Station can to the points shown in the below map. Clicking on the line shows that bike station and the dockounts.\n",
    "\n",
    "<script src=\"https://gist.github.com/akimbekov/489b326f1ec7e9344e029887602d5a52.js\"></script>\n",
    "\n",
    "\n",
    "As can be seen from the map, someone who works outside of the region where the bike stations are available has hard time in using bike share even if that person wants.\n",
    "\n",
    "Of course, it's been only 3 full years since the Bay Area Bike Share company started to operate. We think that their business has been proven to be in high demand, especially in San Francisco. Though, we have no information regarding their financial statements.\n",
    "\n",
    "Also, with the fact that the Ford has invested in the company to expand the bike share system from 700 to 7000 bikes, it is obvious that company is working on to install new stations in the right regions. Particularly, with the current data we have analyzed, it might be possible to suggest new stations at least in San Francisco."
   ]
  },
  {
   "cell_type": "markdown",
   "metadata": {},
   "source": [
    "First, we assume that the two busiest stations near Caltrain station in the San Francisco Downtown area should be expanded by including more bikes and docks. As we have seen, the majority of customers use those two locations for everyday commute to work.\n",
    "\n",
    "Second, the Caltrain line on 22nd street has no nearby bike station. The closest bike station at Townsend 7th had about 12000 bike trips as a starting point as can be seen from the first map we provided. Moreover, close to 22nd street there are business areas such Mission Bay, etc. Hence, it might be a good idea to invest in that location also.\n",
    "\n",
    "Third, local San Francisco people and the ones who commute from EAST BAY tend to use BART, and it would be a good idea to invest in parts of San Francisco that have BART stations. Especially, Market St. and Dolores St. that have BART lines connecting West and South parts of San Francisco to the Downtown could be targeted for bike share station locations. Similar to Caltrain stations, subscribers would commute to work everyday via bike sharing. This would help to avoid using cars, taxis, or uber, to fill the \"last mile\" in their commute.\n",
    "\n",
    "Furthermore, since we could not find any relations between income and crime map with the location of bike stations, we would argue that parts of San Francisco that have many offices but considered dangerous could also be targeted (Turk St. example). Also, the west parts of San Francisco that allure high number of tourists due to national parks (Golden Gate, e.g.) or beaches, could also be a target to expand the business in the San Francisco. However, it should not be a priority during expansion.\n",
    "\n",
    "On the other hand, as the data show, during winter and holidays, people tend to use less bike sharing. Therefore, those periods of time could be a suitable for repairing, re-installing new docks, etc.\n",
    "\n",
    "All in all, the data reveals a clear pattern of bike share usage and definitely helps during the expansion project to find the right locations for new stations."
   ]
  }
 ],
 "metadata": {
  "anaconda-cloud": {},
  "kernelspec": {
   "display_name": "Python [default]",
   "language": "python",
   "name": "python2"
  },
  "language_info": {
   "codemirror_mode": {
    "name": "ipython",
    "version": 2
   },
   "file_extension": ".py",
   "mimetype": "text/x-python",
   "name": "python",
   "nbconvert_exporter": "python",
   "pygments_lexer": "ipython2",
   "version": "2.7.12"
  }
 },
 "nbformat": 4,
 "nbformat_minor": 0
}
