{
 "cells": [
  {
   "cell_type": "markdown",
   "metadata": {},
   "source": [
    "## San Francisco Bike Share Data Analysis\n",
    "- A collaborative project by Ashkan Saboori, Pamela Patterson, and Zamir Akimbekov"
   ]
  },
  {
   "cell_type": "code",
   "execution_count": 1,
   "metadata": {
    "collapsed": false
   },
   "outputs": [],
   "source": [
    "import pandas as pd\n",
    "import pandas\n",
    "import numpy as np\n",
    "import datetime\n",
    "import matplotlib\n",
    "import matplotlib.pyplot as plt\n",
    "from geojson import dumps\n",
    "import geojson as g\n",
    "%matplotlib inline\n",
    "plt.style.use('ggplot')\n",
    "import csv\n",
    "import collections\n",
    "import os\n",
    "from __future__ import division\n",
    "import scipy as sp\n",
    "import plotly.plotly as py\n",
    "import plotly.figure_factory as ff\n",
    "from plotly.graph_objs import *\n",
    "import plotly\n",
    "import plotly.graph_objs as go\n",
    "from pandas.tseries.holiday import USFederalHolidayCalendar as calendar\n",
    "import zipcode  #To find city, latitude and longitude corresponding to a zipcode\n",
    "import folium   #For map\n",
    "from matplotlib.dates import MO, TU, WE, TH, FR, SA, SU\n",
    "import parser\n",
    "import math\n",
    "import warnings; warnings.simplefilter('ignore')"
   ]
  },
  {
   "cell_type": "markdown",
   "metadata": {},
   "source": [
    "### Read the data"
   ]
  },
  {
   "cell_type": "code",
   "execution_count": 2,
   "metadata": {
    "collapsed": true
   },
   "outputs": [],
   "source": [
    "#plotly.tools.set_credentials_file(username='zamirg13', api_key='3dMc8cJ9Gxf4At0fdV49')\n",
    "#mapbox_token = 'pk.eyJ1IjoiYXNoa2Fuc2Fib29yaSIsImEiOiJjaXp5djVldTMwM2FtMzNveHRpaTFqdHhyIn0.uVPRMwfIuYE_3j3jRajBFA'\n",
    "## USE THE BELOW CREDENTIALS, PLEASE ### \n",
    "plotly.tools.set_credentials_file(username = 'ppatterson', api_key='jK180Tj3zyqIgqswVizx')\n",
    "mapbox_token = 'pk.eyJ1IjoicGFtZWxvdDMxNyIsImEiOiJjajBlMnIzbGwwMTE0MzNwNHB3Mmt2MHI1In0.jvc8C_8qJonSMXVL-tFOfg'"
   ]
  },
  {
   "cell_type": "code",
   "execution_count": 3,
   "metadata": {
    "collapsed": false
   },
   "outputs": [],
   "source": [
    "#path = '/Users/admin/project_data_141/' #Zamir's path\n",
    "#path = '/Users/ashkansaboori/Documents/OneDrive/MyPhD/Courses/5Winter-2017/STA141B/Project/Project_Datasets' #Ashkan's\n",
    "path = '~/Dropbox/141B/Project/data'"
   ]
  },
  {
   "cell_type": "code",
   "execution_count": 4,
   "metadata": {
    "collapsed": false
   },
   "outputs": [],
   "source": [
    "def read_data(path, year):\n",
    "    \"\"\"\n",
    "    reads csv data and returns 4 data frames for the given year\n",
    "    input: path\n",
    "    output: 4 data frames (station, status, trip, and weather)\n",
    "    \"\"\"\n",
    "    path = path + '/' + str(year) + '/'\n",
    "    if year == 2014:\n",
    "        station1 = pd.read_csv(path + 'station1.csv')\n",
    "        station2 = pd.read_csv(path + 'station2.csv')\n",
    "        status1 = pd.read_csv(path + 'status1.csv')\n",
    "        status2 = pd.read_csv(path + 'status2.csv')\n",
    "        trip1 = pd.read_csv(path + 'trip1.csv')\n",
    "        trip2 = pd.read_csv(path + 'trip2.csv')\n",
    "        weather1 = pd.read_csv(path + 'weather1.csv')\n",
    "        weather2 = pd.read_csv(path + 'weather2.csv')\n",
    "        station = pd.concat([station1, station2]).drop_duplicates()   \n",
    "        status = pd.concat([status1, status2])\n",
    "        trip = pd.concat([trip1, trip2])\n",
    "        weather = pd.concat([weather1, weather2])\n",
    "    \n",
    "    else: \n",
    "        station = pd.read_csv(path + 'station.csv')\n",
    "        status = pd.read_csv(path + 'status.csv')\n",
    "        trip = pd.read_csv(path + 'trip.csv')\n",
    "        weather = pd.read_csv(path + 'weather.csv')\n",
    "    \n",
    "    \n",
    "    return station, status , trip, weather"
   ]
  },
  {
   "cell_type": "code",
   "execution_count": 5,
   "metadata": {
    "collapsed": false
   },
   "outputs": [],
   "source": [
    "station16, status16, trip16, weather16 = read_data(path, 2016)"
   ]
  },
  {
   "cell_type": "code",
   "execution_count": 6,
   "metadata": {
    "collapsed": false
   },
   "outputs": [],
   "source": [
    "station15, status15, trip15, weather15 = read_data(path, 2015)"
   ]
  },
  {
   "cell_type": "code",
   "execution_count": 7,
   "metadata": {
    "collapsed": false
   },
   "outputs": [],
   "source": [
    "station14, status14, trip14, weather14 = read_data(path, 2014)"
   ]
  },
  {
   "cell_type": "code",
   "execution_count": 8,
   "metadata": {
    "collapsed": true
   },
   "outputs": [],
   "source": [
    "crime = pd.read_csv(path + '/Crime_Incidents.csv')\n",
    "income = pd.read_csv(path + '/Income.csv', header = 0)\n",
    "calstations = pd.read_excel(path + '/caltrain_coordinates.xlsx')\n",
    "#Source of crime data: https://data.sfgov.org/Public-Safety/Map-Crime-Incidents-from-1-Jan-2003/gxxq-x39z\n",
    "#Source of income data: http://www.psc.isr.umich.edu/dis/census/Features/tract2zip/\n",
    "#Also this can be useful: http://www.psc.isr.umich.edu/dis/data/kb/answer/1123"
   ]
  },
  {
   "cell_type": "markdown",
   "metadata": {},
   "source": [
    "### Format the data for analysis"
   ]
  },
  {
   "cell_type": "code",
   "execution_count": 9,
   "metadata": {
    "collapsed": false
   },
   "outputs": [],
   "source": [
    "def format_df(status, trip, weather, year):\n",
    "    \"\"\"\n",
    "    Takes trip and weather data frames and formats them for analysis. Also creates new\n",
    "    dataframes for analysis. \n",
    "    Input: trip and weather pandas dataframes; year as a string\n",
    "    Output: dataframes trip, weather, total_rides, weather_ave, weekend_rides, hol_rides, weekday_rides, \n",
    "    total_weekday_rides, min_dur_rides, hr_dur_rides, total_min_rides, total_hr_rides, rides_by_hour, \n",
    "    total_rides_by_hour \n",
    "    \"\"\"\n",
    "    status['time'] = pd.to_datetime(status.time, infer_datetime_format = True)\n",
    "    trip['Count'] = 1\n",
    "    trip['Start Date'] = pd.to_datetime(trip['Start Date'], format='%m/%d/%Y %H:%M')\n",
    "    trip['End Date'] = pd.to_datetime(trip['End Date'], format='%m/%d/%Y %H:%M')\n",
    "    trip['Day of Week'] = trip.apply(lambda x:  x.loc[('Start Date')].strftime('%A'), axis=1)\n",
    "    trip['Date'] = trip.apply(lambda x:  x.loc[('Start Date')].strftime('%m/%d/%Y'), axis=1)\n",
    "    trip['Date'] = pd.to_datetime(trip['Date'], format = '%m/%d/%Y')\n",
    "    diff = (trip['End Date']-trip['Start Date'])\n",
    "    trip['Duration'] = diff.apply(lambda x:  x.seconds)\n",
    "    trip = trip.rename(columns={'Start Terminal' : 'station_id'})\n",
    "    cal = calendar()\n",
    "    holidays = cal.holidays(start=trip['Date'].min(), end=trip['Date'].max())\n",
    "    trip['Holiday']=trip['Date'].apply(lambda date: date in holidays)\n",
    "    total_rides = trip[['Count', 'Date']]\n",
    "    total_rides = total_rides.groupby(['Date'], as_index = False).sum()\n",
    "    weather = weather.rename(index=str, columns={'PDT': 'Date',})\n",
    "    weather['Date'] = pd.to_datetime(weather['Date'], format='%m/%d/%Y')\n",
    "    weather = weather.set_index('Date')\n",
    "    if year == '2015':\n",
    "        weather = weather.set_index('Zip', append = True)\n",
    "    elif year == '2014':\n",
    "        weather = weather.set_index('Zip', append = True)\n",
    "    elif year == '2016':\n",
    "        weather = weather.set_index('ZIP', append = True)       \n",
    "    weather['PrecipitationIn'] = pd.to_numeric(weather['PrecipitationIn'].replace('T', 0))\n",
    "    weather_ave = weather.groupby(level = 'Date').mean()\n",
    "    weekend_rides = trip.loc[trip['Day of Week'].isin(['Saturday','Sunday'])]\n",
    "    weekend_rides = weekend_rides[['Count', 'Date']]\n",
    "    weekend_rides = weekend_rides.groupby(['Date'], as_index = False).sum()\n",
    "    hol_rides = trip.loc[trip['Holiday'] == True]\n",
    "    hol_rides = hol_rides[['Count', 'Date']]\n",
    "    hol_rides = hol_rides.groupby(['Date'], as_index = False).sum()\n",
    "    weekday_rides = trip[['Count', 'Subscriber Type', 'Day of Week']]\n",
    "    weekday_rides = weekday_rides.groupby(['Day of Week', 'Subscriber Type'], as_index = False).sum()\n",
    "    sorter = ['Sunday', 'Monday', 'Tuesday', 'Wednesday', 'Thursday', 'Friday', 'Saturday']\n",
    "    weekday_rides['Day of Week'] = weekday_rides['Day of Week'].astype(\"category\")\n",
    "    weekday_rides['Day of Week'].cat.set_categories(sorter, inplace=True)\n",
    "    weekday_rides = weekday_rides.sort_values(['Day of Week'])\n",
    "    weekday_rides.loc[weekday_rides['Subscriber Type']=='Customer']\n",
    "    total_weekday_rides = weekday_rides.groupby(['Day of Week'], as_index = False).sum()\n",
    "    min_dur_rides = trip[['Count', 'Subscriber Type', 'Duration']]\n",
    "    min_dur_rides.loc[:,'Duration'] = min_dur_rides['Duration']//60\n",
    "    min_dur_rides = min_dur_rides.groupby(['Duration', 'Subscriber Type'], as_index = False).sum()\n",
    "    min_dur_rides = min_dur_rides.groupby([pd.cut(min_dur_rides['Duration'], np.arange(0,61,5)),'Subscriber Type']).sum()\n",
    "    hr_dur_rides = trip[['Count', 'Subscriber Type', 'Duration']]\n",
    "    hr_dur_rides.loc[:,'Duration'] = hr_dur_rides['Duration']//3600\n",
    "    hr_dur_rides = hr_dur_rides.groupby(['Duration', 'Subscriber Type'], as_index = False).sum()\n",
    "    hr_dur_rides = hr_dur_rides.groupby([pd.cut(hr_dur_rides['Duration'], np.arange(0,25,2)),'Subscriber Type']).sum()\n",
    "    total_min_rides = trip[['Count', 'Subscriber Type', 'Duration']]\n",
    "    total_min_rides.loc[:,'Duration'] = total_min_rides['Duration']//60\n",
    "    total_min_rides = total_min_rides.groupby(['Duration'], as_index = False).sum()\n",
    "    total_min_rides = total_min_rides.groupby(pd.cut(total_min_rides['Duration'], np.arange(0,61,5))).sum()\n",
    "    total_hr_rides = trip[['Count', 'Subscriber Type', 'Duration']]\n",
    "    total_hr_rides.loc[:,'Duration'] = total_hr_rides['Duration']//3600\n",
    "    total_hr_rides = total_hr_rides.groupby(['Duration'], as_index = False).sum()\n",
    "    total_hr_rides = total_hr_rides.groupby(pd.cut(total_hr_rides['Duration'], np.arange(0,25,2))).sum()\n",
    "    trip['Hour'] = trip['Start Date'].apply(lambda x:  x.hour)\n",
    "    rides_by_hour = trip[['Count', 'Subscriber Type', 'Hour']]\n",
    "    rides_by_hour = rides_by_hour.groupby(['Hour', 'Subscriber Type'], as_index = False).sum()\n",
    "    total_rides_by_hour = rides_by_hour.groupby(['Hour'], as_index = False).sum()\n",
    "    return status, trip, weather, total_rides, weather_ave, weekend_rides, hol_rides, weekday_rides, total_weekday_rides, min_dur_rides, hr_dur_rides, total_min_rides, total_hr_rides, rides_by_hour, total_rides_by_hour "
   ]
  },
  {
   "cell_type": "code",
   "execution_count": 10,
   "metadata": {
    "collapsed": false,
    "scrolled": true
   },
   "outputs": [],
   "source": [
    "status14, trip14, weather14, total_rides14, weather_ave14, weekend_rides14, hol_rides14, weekday_rides14, total_weekday_rides14, min_dur_rides14, hr_dur_rides14, total_min_rides14, total_hr_rides14, rides_by_hour14, total_rides_by_hour14 = format_df(status14, trip14, weather14, '2014') "
   ]
  },
  {
   "cell_type": "code",
   "execution_count": 11,
   "metadata": {
    "collapsed": false
   },
   "outputs": [],
   "source": [
    "status15, trip15, weather15, total_rides15, weather_ave15, weekend_rides15, hol_rides15, weekday_rides15, total_weekday_rides15, min_dur_rides15, hr_dur_rides15, total_min_rides15, total_hr_rides15, rides_by_hour15, total_rides_by_hour15 = format_df(status15, trip15, weather15, '2015') "
   ]
  },
  {
   "cell_type": "code",
   "execution_count": 12,
   "metadata": {
    "collapsed": false
   },
   "outputs": [],
   "source": [
    "status16, trip16, weather16, total_rides16, weather_ave16, weekend_rides16, hol_rides16, weekday_rides16, total_weekday_rides16, min_dur_rides16, hr_dur_rides16, total_min_rides16, total_hr_rides16, rides_by_hour16, total_rides_by_hour16 = format_df(status16, trip16, weather16, '2016') "
   ]
  },
  {
   "cell_type": "markdown",
   "metadata": {},
   "source": [
    "### Begin Analysis"
   ]
  },
  {
   "cell_type": "markdown",
   "metadata": {},
   "source": [
    "### 1. Overview of data for 2016"
   ]
  },
  {
   "cell_type": "code",
   "execution_count": 13,
   "metadata": {
    "collapsed": true
   },
   "outputs": [],
   "source": [
    "station16 = station16.dropna()"
   ]
  },
  {
   "cell_type": "code",
   "execution_count": 14,
   "metadata": {
    "collapsed": false
   },
   "outputs": [
    {
     "name": "stdout",
     "output_type": "stream",
     "text": [
      "Size of station DF (67, 7)\n",
      "Size of status DF (35517185, 4)\n",
      "Size of trip DF (313689, 16)\n",
      "Size of weather DF (1830, 22)\n"
     ]
    }
   ],
   "source": [
    "print 'Size of station DF {}'.format(station16.shape)\n",
    "print 'Size of status DF {}'.format(status16.shape)\n",
    "print 'Size of trip DF {}'.format(trip16.shape)\n",
    "print 'Size of weather DF {}'.format(weather16.shape)"
   ]
  },
  {
   "cell_type": "markdown",
   "metadata": {},
   "source": [
    "### 2. Statistics about bike rides for 2016"
   ]
  },
  {
   "cell_type": "code",
   "execution_count": 15,
   "metadata": {
    "collapsed": false
   },
   "outputs": [],
   "source": [
    "merged_st = pd.merge(station16, trip16, on = 'station_id')"
   ]
  },
  {
   "cell_type": "code",
   "execution_count": 16,
   "metadata": {
    "collapsed": false
   },
   "outputs": [
    {
     "name": "stdout",
     "output_type": "stream",
     "text": [
      "number of bike rides between 09/01/2015 and 08/31/2016 : 312126\n",
      "averaging about 13.7903346725 minutes per ride\n",
      "total riding time is 71738.7 hours\n",
      "or 2989.1125 days\n",
      "or 8.18934931507 years\n"
     ]
    }
   ],
   "source": [
    "total_duration = sum(merged_st.Duration)\n",
    "print 'number of bike rides between 09/01/2015 and 08/31/2016 : {}'.format(len(merged_st['Trip ID']))\n",
    "print 'averaging about {} minutes per ride'.format(total_duration/(len(merged_st['Trip ID']) *60))\n",
    "print 'total riding time is {} hours'.format(total_duration/3600)\n",
    "print 'or {} days'.format(total_duration/(3600 * 24))\n",
    "print 'or {} years'.format(total_duration / (3600 * 24 * 365))"
   ]
  },
  {
   "cell_type": "code",
   "execution_count": 17,
   "metadata": {
    "collapsed": false
   },
   "outputs": [],
   "source": [
    "def weather_plot(x,y1,y2, y2_label, file_name, title):\n",
    "    \"\"\"\n",
    "    Returns dual axis plot with the x axis being the date, the left and right y-axis being inputed by user\n",
    "    Input: y1 is the data for the left-axis; should have 365 entries, sorted by date;\n",
    "    y2 is the data for the right y-axis; should have 365 entries, sorted by date; \n",
    "    y2_label is a string\n",
    "    file_name: string of what to name file in plotly account\n",
    "    Output: a graph\n",
    "    \"\"\"\n",
    "\n",
    "    trace1 = go.Scatter(x=x,y=y1,name='Total Rides')\n",
    "    trace2 = go.Scatter(x=x,y=y2,name=y2_label,yaxis='y2')\n",
    "    data = [trace1, trace2]\n",
    "    layout = go.Layout(title=title,yaxis=dict(title='Total Rides'),\n",
    "                       yaxis2=dict(title=y2_label,titlefont=dict(color='rgb(148, 103, 189)'),\n",
    "                                   tickfont=dict(color='rgb(148, 103, 189)'),overlaying='y',side='right'))\n",
    "    fig = go.Figure(data=data, layout=layout)\n",
    "    return py.iplot(fig, filename= file_name)"
   ]
  },
  {
   "cell_type": "markdown",
   "metadata": {},
   "source": [
    "### 3. Total rides and mean wind speed by date for 2014, 2015, 2016"
   ]
  },
  {
   "cell_type": "code",
   "execution_count": 18,
   "metadata": {
    "collapsed": false
   },
   "outputs": [
    {
     "data": {
      "text/html": [
       "<iframe id=\"igraph\" scrolling=\"no\" style=\"border:none;\" seamless=\"seamless\" src=\"https://plot.ly/~ppatterson/16.embed\" height=\"525px\" width=\"100%\"></iframe>"
      ],
      "text/plain": [
       "<plotly.tools.PlotlyDisplay object>"
      ]
     },
     "execution_count": 18,
     "metadata": {},
     "output_type": "execute_result"
    }
   ],
   "source": [
    "weather_plot(total_rides14['Date'], total_rides14['Count'], weather_ave14[' Mean Wind SpeedMPH'], \n",
    "             'Mean Wind Speed MPH', 'Wind and Trips', 'Total Rides and Mean Wind Speed by Date 2014')"
   ]
  },
  {
   "cell_type": "code",
   "execution_count": 19,
   "metadata": {
    "collapsed": false
   },
   "outputs": [
    {
     "data": {
      "text/html": [
       "<iframe id=\"igraph\" scrolling=\"no\" style=\"border:none;\" seamless=\"seamless\" src=\"https://plot.ly/~ppatterson/16.embed\" height=\"525px\" width=\"100%\"></iframe>"
      ],
      "text/plain": [
       "<plotly.tools.PlotlyDisplay object>"
      ]
     },
     "execution_count": 19,
     "metadata": {},
     "output_type": "execute_result"
    }
   ],
   "source": [
    "weather_plot(total_rides15['Date'], total_rides15['Count'], weather_ave15[' Mean Wind SpeedMPH'], \n",
    "             'Mean Wind Speed MPH', 'Wind and Trips', 'Total Rides and Mean Wind Speed by Date 2015')"
   ]
  },
  {
   "cell_type": "code",
   "execution_count": 20,
   "metadata": {
    "collapsed": false
   },
   "outputs": [
    {
     "data": {
      "text/html": [
       "<iframe id=\"igraph\" scrolling=\"no\" style=\"border:none;\" seamless=\"seamless\" src=\"https://plot.ly/~ppatterson/16.embed\" height=\"525px\" width=\"100%\"></iframe>"
      ],
      "text/plain": [
       "<plotly.tools.PlotlyDisplay object>"
      ]
     },
     "execution_count": 20,
     "metadata": {},
     "output_type": "execute_result"
    }
   ],
   "source": [
    "weather_plot(total_rides16['Date'],total_rides16['Count'], weather_ave16[' Mean Wind SpeedMPH'], \n",
    "             'Mean Wind Speed MPH', 'Wind and Trips', 'Total Rides and Mean Wind Speed by Date 2016')"
   ]
  },
  {
   "cell_type": "markdown",
   "metadata": {},
   "source": [
    "### 4. Total rides and mean temperature by date for 2014, 2015, 2016"
   ]
  },
  {
   "cell_type": "code",
   "execution_count": 21,
   "metadata": {
    "collapsed": false
   },
   "outputs": [
    {
     "data": {
      "text/html": [
       "<iframe id=\"igraph\" scrolling=\"no\" style=\"border:none;\" seamless=\"seamless\" src=\"https://plot.ly/~ppatterson/18.embed\" height=\"525px\" width=\"100%\"></iframe>"
      ],
      "text/plain": [
       "<plotly.tools.PlotlyDisplay object>"
      ]
     },
     "execution_count": 21,
     "metadata": {},
     "output_type": "execute_result"
    }
   ],
   "source": [
    "weather_plot(total_rides14['Date'],total_rides14['Count'], weather_ave14['Mean TemperatureF'], \n",
    "             'Mean Temperature F', 'Temp and Trips', 'Total Rides and Mean Temperature by Date 2014')"
   ]
  },
  {
   "cell_type": "code",
   "execution_count": 22,
   "metadata": {
    "collapsed": false
   },
   "outputs": [
    {
     "data": {
      "text/html": [
       "<iframe id=\"igraph\" scrolling=\"no\" style=\"border:none;\" seamless=\"seamless\" src=\"https://plot.ly/~ppatterson/18.embed\" height=\"525px\" width=\"100%\"></iframe>"
      ],
      "text/plain": [
       "<plotly.tools.PlotlyDisplay object>"
      ]
     },
     "execution_count": 22,
     "metadata": {},
     "output_type": "execute_result"
    }
   ],
   "source": [
    "weather_plot(total_rides15['Date'],total_rides15['Count'], weather_ave15['Mean TemperatureF'], \n",
    "             'Mean Temperature F', 'Temp and Trips', 'Total Rides and Mean Temperature by Date 2015')"
   ]
  },
  {
   "cell_type": "code",
   "execution_count": 23,
   "metadata": {
    "collapsed": false
   },
   "outputs": [
    {
     "data": {
      "text/html": [
       "<iframe id=\"igraph\" scrolling=\"no\" style=\"border:none;\" seamless=\"seamless\" src=\"https://plot.ly/~ppatterson/18.embed\" height=\"525px\" width=\"100%\"></iframe>"
      ],
      "text/plain": [
       "<plotly.tools.PlotlyDisplay object>"
      ]
     },
     "execution_count": 23,
     "metadata": {},
     "output_type": "execute_result"
    }
   ],
   "source": [
    "weather_plot(total_rides16['Date'],total_rides16['Count'], weather_ave16['Mean TemperatureF'], \n",
    "             'Mean Temperature F', 'Temp and Trips', 'Total Rides and Mean Temperature by Date 2016')"
   ]
  },
  {
   "cell_type": "markdown",
   "metadata": {},
   "source": [
    "### 5. Total rides and precipitation by date for 2014, 2015, and 2016"
   ]
  },
  {
   "cell_type": "code",
   "execution_count": 24,
   "metadata": {
    "collapsed": false
   },
   "outputs": [
    {
     "data": {
      "text/html": [
       "<iframe id=\"igraph\" scrolling=\"no\" style=\"border:none;\" seamless=\"seamless\" src=\"https://plot.ly/~ppatterson/20.embed\" height=\"525px\" width=\"100%\"></iframe>"
      ],
      "text/plain": [
       "<plotly.tools.PlotlyDisplay object>"
      ]
     },
     "execution_count": 24,
     "metadata": {},
     "output_type": "execute_result"
    }
   ],
   "source": [
    "weather_plot(total_rides14['Date'],total_rides14['Count'], weather_ave14['PrecipitationIn'], 'Precipitation In', 'Precip and Trips', \n",
    "             'Total Rides and Precipitation by Date 2014')"
   ]
  },
  {
   "cell_type": "code",
   "execution_count": 25,
   "metadata": {
    "collapsed": false
   },
   "outputs": [
    {
     "data": {
      "text/html": [
       "<iframe id=\"igraph\" scrolling=\"no\" style=\"border:none;\" seamless=\"seamless\" src=\"https://plot.ly/~ppatterson/20.embed\" height=\"525px\" width=\"100%\"></iframe>"
      ],
      "text/plain": [
       "<plotly.tools.PlotlyDisplay object>"
      ]
     },
     "execution_count": 25,
     "metadata": {},
     "output_type": "execute_result"
    }
   ],
   "source": [
    "weather_plot(total_rides15['Date'],total_rides15['Count'], weather_ave15['PrecipitationIn'], 'Precipitation In', 'Precip and Trips', \n",
    "             'Total Rides and Precipitation by Date 2015')"
   ]
  },
  {
   "cell_type": "code",
   "execution_count": 26,
   "metadata": {
    "collapsed": false
   },
   "outputs": [
    {
     "data": {
      "text/html": [
       "<iframe id=\"igraph\" scrolling=\"no\" style=\"border:none;\" seamless=\"seamless\" src=\"https://plot.ly/~ppatterson/20.embed\" height=\"525px\" width=\"100%\"></iframe>"
      ],
      "text/plain": [
       "<plotly.tools.PlotlyDisplay object>"
      ]
     },
     "execution_count": 26,
     "metadata": {},
     "output_type": "execute_result"
    }
   ],
   "source": [
    "weather_plot(total_rides16['Date'],total_rides16['Count'], weather_ave16['PrecipitationIn'], 'Precipitation In', 'Precip and Trips', \n",
    "             'Total Rides and Precipitation by Date 2016')"
   ]
  },
  {
   "cell_type": "code",
   "execution_count": 27,
   "metadata": {
    "collapsed": true
   },
   "outputs": [],
   "source": [
    "def weekend_hol_plot(x1,x2,y1,y2, y2_label, file_name, title):\n",
    "    \"\"\"\n",
    "    Returns dual axis plot with the x axis being the day, the left and right y-axis being inputed by user\n",
    "    input: y1 is the data for the left-axis; should have 365 entries, sorted by date;\n",
    "    y2 is the data for the right y-axis; should have 365 entries, sorted by date; \n",
    "    y2_label is a string\n",
    "    file_name: string of what to name file in plotly account\n",
    "    output: a graph\n",
    "    \"\"\"\n",
    "\n",
    "    trace1 = go.Scatter(x=x1,y=y1,name='Total Rides')\n",
    "    trace2 = go.Bar(x=x2,y=y2,name=y2_label)\n",
    "    data = [trace1, trace2]\n",
    "    layout = go.Layout(title=title,yaxis=dict(title='Total Rides'),\n",
    "                       yaxis2=dict(title=y2_label,titlefont=dict(color='rgb(148, 103, 189)'),\n",
    "                                   tickfont=dict(color='rgb(148, 103, 189)'),overlaying='y',side='right'))\n",
    "    fig = go.Figure(data=data, layout=layout)\n",
    "    return py.iplot(fig, filename= file_name)"
   ]
  },
  {
   "cell_type": "markdown",
   "metadata": {},
   "source": [
    "### 6. Total rides with holidays highlighted for 2014, 2015, 2016"
   ]
  },
  {
   "cell_type": "code",
   "execution_count": 28,
   "metadata": {
    "collapsed": false
   },
   "outputs": [
    {
     "data": {
      "text/html": [
       "<iframe id=\"igraph\" scrolling=\"no\" style=\"border:none;\" seamless=\"seamless\" src=\"https://plot.ly/~ppatterson/22.embed\" height=\"525px\" width=\"100%\"></iframe>"
      ],
      "text/plain": [
       "<plotly.tools.PlotlyDisplay object>"
      ]
     },
     "execution_count": 28,
     "metadata": {},
     "output_type": "execute_result"
    }
   ],
   "source": [
    "weekend_hol_plot(total_rides14['Date'],hol_rides14['Date'],total_rides14['Count'],hol_rides14['Count'],'Holidays',\n",
    "                 'Holidays and Trips', 'Holidays and Trips 2014')"
   ]
  },
  {
   "cell_type": "code",
   "execution_count": 29,
   "metadata": {
    "collapsed": false
   },
   "outputs": [
    {
     "data": {
      "text/html": [
       "<iframe id=\"igraph\" scrolling=\"no\" style=\"border:none;\" seamless=\"seamless\" src=\"https://plot.ly/~ppatterson/22.embed\" height=\"525px\" width=\"100%\"></iframe>"
      ],
      "text/plain": [
       "<plotly.tools.PlotlyDisplay object>"
      ]
     },
     "execution_count": 29,
     "metadata": {},
     "output_type": "execute_result"
    }
   ],
   "source": [
    "weekend_hol_plot(total_rides15['Date'],hol_rides15['Date'],total_rides15['Count'],hol_rides15['Count'],'Holidays',\n",
    "                 'Holidays and Trips', 'Holidays and Trips 2015')"
   ]
  },
  {
   "cell_type": "code",
   "execution_count": 30,
   "metadata": {
    "collapsed": false
   },
   "outputs": [
    {
     "data": {
      "text/html": [
       "<iframe id=\"igraph\" scrolling=\"no\" style=\"border:none;\" seamless=\"seamless\" src=\"https://plot.ly/~ppatterson/22.embed\" height=\"525px\" width=\"100%\"></iframe>"
      ],
      "text/plain": [
       "<plotly.tools.PlotlyDisplay object>"
      ]
     },
     "execution_count": 30,
     "metadata": {},
     "output_type": "execute_result"
    }
   ],
   "source": [
    "weekend_hol_plot(total_rides16['Date'],hol_rides16['Date'],total_rides16['Count'],hol_rides16['Count'],'Holidays',\n",
    "                 'Holidays and Trips', 'Holidays and Trips 2016')"
   ]
  },
  {
   "cell_type": "markdown",
   "metadata": {},
   "source": [
    "### 7. Total rides with weekends highlighted for 2014, 2015, and 2016"
   ]
  },
  {
   "cell_type": "code",
   "execution_count": 31,
   "metadata": {
    "collapsed": false
   },
   "outputs": [
    {
     "data": {
      "text/html": [
       "<iframe id=\"igraph\" scrolling=\"no\" style=\"border:none;\" seamless=\"seamless\" src=\"https://plot.ly/~ppatterson/24.embed\" height=\"525px\" width=\"100%\"></iframe>"
      ],
      "text/plain": [
       "<plotly.tools.PlotlyDisplay object>"
      ]
     },
     "execution_count": 31,
     "metadata": {},
     "output_type": "execute_result"
    }
   ],
   "source": [
    "weekend_hol_plot(total_rides14['Date'],weekend_rides14['Date'],total_rides14['Count'],weekend_rides15['Count'],\n",
    "                 'Weekends','Weekends and Trips', 'Weekends and Trips 2014')"
   ]
  },
  {
   "cell_type": "code",
   "execution_count": 32,
   "metadata": {
    "collapsed": false
   },
   "outputs": [
    {
     "data": {
      "text/html": [
       "<iframe id=\"igraph\" scrolling=\"no\" style=\"border:none;\" seamless=\"seamless\" src=\"https://plot.ly/~ppatterson/24.embed\" height=\"525px\" width=\"100%\"></iframe>"
      ],
      "text/plain": [
       "<plotly.tools.PlotlyDisplay object>"
      ]
     },
     "execution_count": 32,
     "metadata": {},
     "output_type": "execute_result"
    }
   ],
   "source": [
    "weekend_hol_plot(total_rides15['Date'],weekend_rides15['Date'],total_rides15['Count'],weekend_rides15['Count'],\n",
    "                 'Weekends','Weekends and Trips', 'Weekends and Trips 2015')"
   ]
  },
  {
   "cell_type": "code",
   "execution_count": 33,
   "metadata": {
    "collapsed": false
   },
   "outputs": [
    {
     "data": {
      "text/html": [
       "<iframe id=\"igraph\" scrolling=\"no\" style=\"border:none;\" seamless=\"seamless\" src=\"https://plot.ly/~ppatterson/24.embed\" height=\"525px\" width=\"100%\"></iframe>"
      ],
      "text/plain": [
       "<plotly.tools.PlotlyDisplay object>"
      ]
     },
     "execution_count": 33,
     "metadata": {},
     "output_type": "execute_result"
    }
   ],
   "source": [
    "weekend_hol_plot(total_rides16['Date'],weekend_rides16['Date'],total_rides16['Count'],weekend_rides16['Count'],\n",
    "                 'Weekends','Weekends and Trips', 'Weekends and Trips 2016')"
   ]
  },
  {
   "cell_type": "code",
   "execution_count": 34,
   "metadata": {
    "collapsed": false
   },
   "outputs": [],
   "source": [
    "def grouped_bar(x1, y1, x2, y2, x3, y3, file_name, title, x_title):\n",
    "    \"\"\"\n",
    "    Takes axis data for a 3 grouped bar chart and outputs a grouped bar chart. \n",
    "    Input: x1, y1, x2, y2, x3, y3 series data for different bars, the x data should align;\n",
    "    filename: what to name the plotly file, string; title: of the graph; x_title: lable for x-axis\n",
    "    Output: a grouped bar chart\n",
    "    \"\"\"\n",
    "    trace1 = go.Bar(x=x1,y=y1,name='Total')\n",
    "    trace2 = go.Bar(x=x2,y=y2,name='Customer')\n",
    "    trace3 = go.Bar(x=x3,y=y3,name='Subscriber')\n",
    "    data = [trace1, trace2, trace3]\n",
    "    layout = go.Layout(title = title, xaxis = dict(title = x_title),yaxis = dict(title = 'Total Rides'),barmode='group')\n",
    "    fig = go.Figure(data=data, layout=layout)\n",
    "    return py.iplot(fig, filename=file_name)"
   ]
  },
  {
   "cell_type": "markdown",
   "metadata": {},
   "source": [
    "### 8. Total rides by day of the week, separated into subscriber type for 2014, 2015, and 2016"
   ]
  },
  {
   "cell_type": "code",
   "execution_count": 35,
   "metadata": {
    "collapsed": false
   },
   "outputs": [
    {
     "data": {
      "text/html": [
       "<iframe id=\"igraph\" scrolling=\"no\" style=\"border:none;\" seamless=\"seamless\" src=\"https://plot.ly/~ppatterson/26.embed\" height=\"525px\" width=\"100%\"></iframe>"
      ],
      "text/plain": [
       "<plotly.tools.PlotlyDisplay object>"
      ]
     },
     "execution_count": 35,
     "metadata": {},
     "output_type": "execute_result"
    }
   ],
   "source": [
    "grouped_bar(total_weekday_rides14['Day of Week'],total_weekday_rides14['Count'],\n",
    "            weekday_rides14.loc[weekday_rides14['Subscriber Type']=='Customer']['Day of Week'],\n",
    "            weekday_rides14.loc[weekday_rides14['Subscriber Type']=='Customer']['Count'],\n",
    "            weekday_rides14.loc[weekday_rides14['Subscriber Type']=='Subscriber']['Day of Week'],\n",
    "            weekday_rides14.loc[weekday_rides14['Subscriber Type']=='Subscriber']['Count'], 'Day of Week Plot', \n",
    "            'Total Rides by Day of Week 2014', 'Day of Week')"
   ]
  },
  {
   "cell_type": "code",
   "execution_count": 36,
   "metadata": {
    "collapsed": false
   },
   "outputs": [
    {
     "data": {
      "text/html": [
       "<iframe id=\"igraph\" scrolling=\"no\" style=\"border:none;\" seamless=\"seamless\" src=\"https://plot.ly/~ppatterson/26.embed\" height=\"525px\" width=\"100%\"></iframe>"
      ],
      "text/plain": [
       "<plotly.tools.PlotlyDisplay object>"
      ]
     },
     "execution_count": 36,
     "metadata": {},
     "output_type": "execute_result"
    }
   ],
   "source": [
    "grouped_bar(total_weekday_rides15['Day of Week'],total_weekday_rides15['Count'],\n",
    "            weekday_rides15.loc[weekday_rides15['Subscriber Type']=='Customer']['Day of Week'],\n",
    "            weekday_rides15.loc[weekday_rides15['Subscriber Type']=='Customer']['Count'],\n",
    "            weekday_rides15.loc[weekday_rides15['Subscriber Type']=='Subscriber']['Day of Week'],\n",
    "            weekday_rides15.loc[weekday_rides15['Subscriber Type']=='Subscriber']['Count'], 'Day of Week Plot', \n",
    "            'Total Rides by Day of Week 2015', 'Day of Week')"
   ]
  },
  {
   "cell_type": "code",
   "execution_count": 37,
   "metadata": {
    "collapsed": false
   },
   "outputs": [
    {
     "data": {
      "text/html": [
       "<iframe id=\"igraph\" scrolling=\"no\" style=\"border:none;\" seamless=\"seamless\" src=\"https://plot.ly/~ppatterson/26.embed\" height=\"525px\" width=\"100%\"></iframe>"
      ],
      "text/plain": [
       "<plotly.tools.PlotlyDisplay object>"
      ]
     },
     "execution_count": 37,
     "metadata": {},
     "output_type": "execute_result"
    }
   ],
   "source": [
    "grouped_bar(total_weekday_rides16['Day of Week'],total_weekday_rides16['Count'],\n",
    "            weekday_rides16.loc[weekday_rides16['Subscriber Type']=='Customer']['Day of Week'],\n",
    "            weekday_rides16.loc[weekday_rides16['Subscriber Type']=='Customer']['Count'],\n",
    "            weekday_rides16.loc[weekday_rides16['Subscriber Type']=='Subscriber']['Day of Week'],\n",
    "            weekday_rides16.loc[weekday_rides16['Subscriber Type']=='Subscriber']['Count'], 'Day of Week Plot', \n",
    "            'Total Rides by Day of Week 2016', 'Day of Week')"
   ]
  },
  {
   "cell_type": "markdown",
   "metadata": {},
   "source": [
    "### 9. Total rides by duration in minutes, grouped by subscriber type, for 2014, 2015, and 2016"
   ]
  },
  {
   "cell_type": "code",
   "execution_count": 38,
   "metadata": {
    "collapsed": false
   },
   "outputs": [
    {
     "data": {
      "text/html": [
       "<iframe id=\"igraph\" scrolling=\"no\" style=\"border:none;\" seamless=\"seamless\" src=\"https://plot.ly/~ppatterson/28.embed\" height=\"525px\" width=\"100%\"></iframe>"
      ],
      "text/plain": [
       "<plotly.tools.PlotlyDisplay object>"
      ]
     },
     "execution_count": 38,
     "metadata": {},
     "output_type": "execute_result"
    }
   ],
   "source": [
    "grouped_bar(total_min_rides14.index.get_level_values('Duration'),total_min_rides14['Count'],\n",
    "            total_min_rides14.index.get_level_values('Duration'),\n",
    "            min_dur_rides14.loc[(min_dur_rides14.index.get_level_values('Subscriber Type') == 'Customer')]['Count'],\n",
    "            total_min_rides14.index.get_level_values('Duration'),\n",
    "            min_dur_rides14.loc[(min_dur_rides14.index.get_level_values('Subscriber Type') == 'Subscriber')]['Count'], \n",
    "            'Duration by Minute Plot', 'Ride Duration by Minute 2014', 'Minutes')"
   ]
  },
  {
   "cell_type": "code",
   "execution_count": 39,
   "metadata": {
    "collapsed": false
   },
   "outputs": [
    {
     "data": {
      "text/html": [
       "<iframe id=\"igraph\" scrolling=\"no\" style=\"border:none;\" seamless=\"seamless\" src=\"https://plot.ly/~ppatterson/28.embed\" height=\"525px\" width=\"100%\"></iframe>"
      ],
      "text/plain": [
       "<plotly.tools.PlotlyDisplay object>"
      ]
     },
     "execution_count": 39,
     "metadata": {},
     "output_type": "execute_result"
    }
   ],
   "source": [
    "grouped_bar(total_min_rides15.index.get_level_values('Duration'),total_min_rides15['Count'],\n",
    "            total_min_rides15.index.get_level_values('Duration'),\n",
    "            min_dur_rides15.loc[(min_dur_rides15.index.get_level_values('Subscriber Type') == 'Customer')]['Count'],\n",
    "            total_min_rides15.index.get_level_values('Duration'),\n",
    "            min_dur_rides15.loc[(min_dur_rides15.index.get_level_values('Subscriber Type') == 'Subscriber')]['Count'], \n",
    "            'Duration by Minute Plot', 'Ride Duration by Minute 2015', 'Minutes')"
   ]
  },
  {
   "cell_type": "code",
   "execution_count": 40,
   "metadata": {
    "collapsed": false
   },
   "outputs": [
    {
     "data": {
      "text/html": [
       "<iframe id=\"igraph\" scrolling=\"no\" style=\"border:none;\" seamless=\"seamless\" src=\"https://plot.ly/~ppatterson/28.embed\" height=\"525px\" width=\"100%\"></iframe>"
      ],
      "text/plain": [
       "<plotly.tools.PlotlyDisplay object>"
      ]
     },
     "execution_count": 40,
     "metadata": {},
     "output_type": "execute_result"
    }
   ],
   "source": [
    "grouped_bar(total_min_rides16.index.get_level_values('Duration'),total_min_rides16['Count'],\n",
    "            total_min_rides16.index.get_level_values('Duration'),\n",
    "            min_dur_rides16.loc[(min_dur_rides16.index.get_level_values('Subscriber Type') == 'Customer')]['Count'],\n",
    "            total_min_rides16.index.get_level_values('Duration'),\n",
    "            min_dur_rides16.loc[(min_dur_rides16.index.get_level_values('Subscriber Type') == 'Subscriber')]['Count'], \n",
    "            'Duration by Minute Plot', 'Ride Duration by Minute 2016', 'Minutes')"
   ]
  },
  {
   "cell_type": "markdown",
   "metadata": {},
   "source": [
    "### 10. Total rides by duration in hours, grouped by subscriber type, for 2014, 2015, and 2016"
   ]
  },
  {
   "cell_type": "code",
   "execution_count": 41,
   "metadata": {
    "collapsed": false
   },
   "outputs": [
    {
     "data": {
      "text/html": [
       "<iframe id=\"igraph\" scrolling=\"no\" style=\"border:none;\" seamless=\"seamless\" src=\"https://plot.ly/~ppatterson/30.embed\" height=\"525px\" width=\"100%\"></iframe>"
      ],
      "text/plain": [
       "<plotly.tools.PlotlyDisplay object>"
      ]
     },
     "execution_count": 41,
     "metadata": {},
     "output_type": "execute_result"
    }
   ],
   "source": [
    "grouped_bar(total_hr_rides14.index.get_level_values('Duration'),total_hr_rides14['Count'],\n",
    "            total_hr_rides14.index.get_level_values('Duration'),\n",
    "            hr_dur_rides14.loc[(hr_dur_rides14.index.get_level_values('Subscriber Type') == 'Customer')]['Count'],\n",
    "            total_hr_rides14.index.get_level_values('Duration'),\n",
    "            hr_dur_rides14.loc[(hr_dur_rides14.index.get_level_values('Subscriber Type') == 'Subscriber')]['Count'], \n",
    "            'Duration by Hour Plot', 'Ride Duration by Hour 2014', 'Hours')"
   ]
  },
  {
   "cell_type": "code",
   "execution_count": 42,
   "metadata": {
    "collapsed": false
   },
   "outputs": [
    {
     "data": {
      "text/html": [
       "<iframe id=\"igraph\" scrolling=\"no\" style=\"border:none;\" seamless=\"seamless\" src=\"https://plot.ly/~ppatterson/30.embed\" height=\"525px\" width=\"100%\"></iframe>"
      ],
      "text/plain": [
       "<plotly.tools.PlotlyDisplay object>"
      ]
     },
     "execution_count": 42,
     "metadata": {},
     "output_type": "execute_result"
    }
   ],
   "source": [
    "grouped_bar(total_hr_rides15.index.get_level_values('Duration'),total_hr_rides15['Count'],\n",
    "            total_hr_rides15.index.get_level_values('Duration'),\n",
    "            hr_dur_rides15.loc[(hr_dur_rides15.index.get_level_values('Subscriber Type') == 'Customer')]['Count'],\n",
    "            total_hr_rides15.index.get_level_values('Duration'),\n",
    "            hr_dur_rides15.loc[(hr_dur_rides15.index.get_level_values('Subscriber Type') == 'Subscriber')]['Count'], \n",
    "            'Duration by Hour Plot', 'Ride Duration by Hour 2015', 'Hours')"
   ]
  },
  {
   "cell_type": "code",
   "execution_count": 43,
   "metadata": {
    "collapsed": false
   },
   "outputs": [
    {
     "data": {
      "text/html": [
       "<iframe id=\"igraph\" scrolling=\"no\" style=\"border:none;\" seamless=\"seamless\" src=\"https://plot.ly/~ppatterson/30.embed\" height=\"525px\" width=\"100%\"></iframe>"
      ],
      "text/plain": [
       "<plotly.tools.PlotlyDisplay object>"
      ]
     },
     "execution_count": 43,
     "metadata": {},
     "output_type": "execute_result"
    }
   ],
   "source": [
    "grouped_bar(total_hr_rides16.index.get_level_values('Duration'),total_hr_rides16['Count'],\n",
    "            total_hr_rides16.index.get_level_values('Duration'),\n",
    "            hr_dur_rides16.loc[(hr_dur_rides16.index.get_level_values('Subscriber Type') == 'Customer')]['Count'],\n",
    "            total_hr_rides16.index.get_level_values('Duration'),\n",
    "            hr_dur_rides16.loc[(hr_dur_rides16.index.get_level_values('Subscriber Type') == 'Subscriber')]['Count'], \n",
    "            'Duration by Hour Plot', 'Ride Duration by Hour 2016', 'Hours')"
   ]
  },
  {
   "cell_type": "markdown",
   "metadata": {},
   "source": [
    "### 11. Total rides by hour of the day, grouped by subscriber type, for 2014, 2015, and 2016"
   ]
  },
  {
   "cell_type": "code",
   "execution_count": 44,
   "metadata": {
    "collapsed": false
   },
   "outputs": [
    {
     "data": {
      "text/html": [
       "<iframe id=\"igraph\" scrolling=\"no\" style=\"border:none;\" seamless=\"seamless\" src=\"https://plot.ly/~ppatterson/32.embed\" height=\"525px\" width=\"100%\"></iframe>"
      ],
      "text/plain": [
       "<plotly.tools.PlotlyDisplay object>"
      ]
     },
     "execution_count": 44,
     "metadata": {},
     "output_type": "execute_result"
    }
   ],
   "source": [
    "grouped_bar(total_rides_by_hour14['Hour'],total_rides_by_hour14['Count'],\n",
    "            total_rides_by_hour14['Hour'],\n",
    "            rides_by_hour14.loc[rides_by_hour14['Subscriber Type'] == 'Customer']['Count'],\n",
    "            total_rides_by_hour14['Hour'],\n",
    "            rides_by_hour14.loc[rides_by_hour14['Subscriber Type'] == 'Subscriber']['Count'], \n",
    "            'Rides by Hour Plot', 'Total Rides Per Hour 2014', 'Hour of Day')"
   ]
  },
  {
   "cell_type": "code",
   "execution_count": 45,
   "metadata": {
    "collapsed": false
   },
   "outputs": [
    {
     "data": {
      "text/html": [
       "<iframe id=\"igraph\" scrolling=\"no\" style=\"border:none;\" seamless=\"seamless\" src=\"https://plot.ly/~ppatterson/32.embed\" height=\"525px\" width=\"100%\"></iframe>"
      ],
      "text/plain": [
       "<plotly.tools.PlotlyDisplay object>"
      ]
     },
     "execution_count": 45,
     "metadata": {},
     "output_type": "execute_result"
    }
   ],
   "source": [
    "grouped_bar(total_rides_by_hour15['Hour'],total_rides_by_hour15['Count'],\n",
    "            total_rides_by_hour15['Hour'],\n",
    "            rides_by_hour15.loc[rides_by_hour15['Subscriber Type'] == 'Customer']['Count'],\n",
    "            total_rides_by_hour15['Hour'],\n",
    "            rides_by_hour15.loc[rides_by_hour15['Subscriber Type'] == 'Subscriber']['Count'], \n",
    "            'Rides by Hour Plot', 'Total Rides Per Hour 2015', 'Hour of Day')"
   ]
  },
  {
   "cell_type": "code",
   "execution_count": 46,
   "metadata": {
    "collapsed": false
   },
   "outputs": [
    {
     "data": {
      "text/html": [
       "<iframe id=\"igraph\" scrolling=\"no\" style=\"border:none;\" seamless=\"seamless\" src=\"https://plot.ly/~ppatterson/32.embed\" height=\"525px\" width=\"100%\"></iframe>"
      ],
      "text/plain": [
       "<plotly.tools.PlotlyDisplay object>"
      ]
     },
     "execution_count": 46,
     "metadata": {},
     "output_type": "execute_result"
    }
   ],
   "source": [
    "grouped_bar(total_rides_by_hour16['Hour'],total_rides_by_hour16['Count'],\n",
    "            total_rides_by_hour16['Hour'],\n",
    "            rides_by_hour16.loc[rides_by_hour16['Subscriber Type'] == 'Customer']['Count'],\n",
    "            total_rides_by_hour16['Hour'],\n",
    "            rides_by_hour16.loc[rides_by_hour16['Subscriber Type'] == 'Subscriber']['Count'], \n",
    "            'Rides by Hour Plot', 'Total Rides Per Hour 2016', 'Hour of Day')"
   ]
  },
  {
   "cell_type": "markdown",
   "metadata": {},
   "source": [
    "### 12. Trip counts by subscription types for 2016"
   ]
  },
  {
   "cell_type": "code",
   "execution_count": 47,
   "metadata": {
    "collapsed": false
   },
   "outputs": [
    {
     "data": {
      "text/html": [
       "<iframe id=\"igraph\" scrolling=\"no\" style=\"border:none;\" seamless=\"seamless\" src=\"https://plot.ly/~ppatterson/34.embed\" height=\"525px\" width=\"100%\"></iframe>"
      ],
      "text/plain": [
       "<plotly.tools.PlotlyDisplay object>"
      ]
     },
     "execution_count": 47,
     "metadata": {},
     "output_type": "execute_result"
    }
   ],
   "source": [
    "totals = merged_st['Subscriber Type'].value_counts()\n",
    "Subscribers, Customers = totals[0], totals[1]\n",
    "\n",
    "fig = {\n",
    "    'data': [{'labels': ['Subscribers', 'Customers'],\n",
    "              'values': [Subscribers, Customers],\n",
    "              'type': 'pie'}],\n",
    "    'layout': {'title': 'Trip counts by customer types'}\n",
    "     }\n",
    "\n",
    "py.iplot(fig)"
   ]
  },
  {
   "cell_type": "markdown",
   "metadata": {},
   "source": [
    "### 13. Trip counts by cities for 2016"
   ]
  },
  {
   "cell_type": "code",
   "execution_count": 48,
   "metadata": {
    "collapsed": false
   },
   "outputs": [
    {
     "data": {
      "text/html": [
       "<iframe id=\"igraph\" scrolling=\"no\" style=\"border:none;\" seamless=\"seamless\" src=\"https://plot.ly/~ppatterson/36.embed\" height=\"525px\" width=\"100%\"></iframe>"
      ],
      "text/plain": [
       "<plotly.tools.PlotlyDisplay object>"
      ]
     },
     "execution_count": 48,
     "metadata": {},
     "output_type": "execute_result"
    }
   ],
   "source": [
    "by_cities = merged_st.landmark.value_counts()\n",
    "sf, sj, mv, pa = by_cities[0], by_cities[1], by_cities[2], by_cities[3]\n",
    "fig_cities = {\n",
    "    'data': [{'labels': ['San Francisco', 'San Jose', 'Mountain View', 'Palo Alto'],\n",
    "              'values': [sf, sj, mv, pa],\n",
    "              'type': 'pie'}],\n",
    "    'layout': {'title': 'Trip counts by cities'}\n",
    "     }\n",
    "\n",
    "py.iplot(fig_cities)"
   ]
  },
  {
   "cell_type": "markdown",
   "metadata": {},
   "source": [
    "### 14. Most popular five starting stations for 2016"
   ]
  },
  {
   "cell_type": "code",
   "execution_count": 49,
   "metadata": {
    "collapsed": false
   },
   "outputs": [],
   "source": [
    "trip_counts = pd.DataFrame(merged_st.sort_values(by = 'station_id').station_id.value_counts())\n",
    "trip_counts = trip_counts.reset_index().rename(columns = {'station_id' : 'trip_counts',\n",
    "                                                          'index' : 'station_id'})\n",
    "station_merged = pd.merge(station16, trip_counts, on = 'station_id')"
   ]
  },
  {
   "cell_type": "code",
   "execution_count": 50,
   "metadata": {
    "collapsed": true
   },
   "outputs": [],
   "source": [
    "start_stations = trip16[['Start Station', 'Duration']]\n",
    "grouped = (start_stations.groupby('Start Station').\n",
    "                sum().\n",
    "                sort_values(by = 'Duration', ascending = False))"
   ]
  },
  {
   "cell_type": "code",
   "execution_count": 51,
   "metadata": {
    "collapsed": false
   },
   "outputs": [
    {
     "data": {
      "text/plain": [
       "San Francisco Caltrain (Townsend at 4th)    23591\n",
       "San Francisco Caltrain 2 (330 Townsend)     22358\n",
       "Harry Bridges Plaza (Ferry Building)        16128\n",
       "2nd at Townsend                             14099\n",
       "Steuart at Market                           13693\n",
       "Name: name, dtype: int64"
      ]
     },
     "execution_count": 51,
     "metadata": {},
     "output_type": "execute_result"
    }
   ],
   "source": [
    "merged_st.name.value_counts()[:5] #most popular five starting stations"
   ]
  },
  {
   "cell_type": "code",
   "execution_count": 52,
   "metadata": {
    "collapsed": false
   },
   "outputs": [],
   "source": [
    "calstations['station_type'] = 'caltrain'\n",
    "calstations['dockcount'] = 0\n",
    "calstations['trip_counts'] = 0\n",
    "calstations['station_id'] = 0\n",
    "calstations['installation'] = 0 \n",
    "calstations = calstations.rename(columns={'caltrain_name' : 'name'})\n",
    "calstations = calstations[['installation','station_id','name', 'lat', 'long', 'dockcount', 'trip_counts', 'station_type', 'passengers']]"
   ]
  },
  {
   "cell_type": "code",
   "execution_count": 53,
   "metadata": {
    "collapsed": true
   },
   "outputs": [],
   "source": [
    "df_for_map = station_merged[['installation','station_id','name', 'lat', 'long', 'dockcount', 'trip_counts']]\n",
    "df_for_map['station_type'] = 'bike_station'\n",
    "df_for_map['passengers'] = 0\n",
    "df_for_map = df_for_map.append(calstations)\n",
    "df_for_map.reset_index(drop='index', inplace = True)"
   ]
  },
  {
   "cell_type": "code",
   "execution_count": 54,
   "metadata": {
    "collapsed": true
   },
   "outputs": [],
   "source": [
    "start_lat, start_long, start_name = calstations.iloc[1]['lat'], calstations.iloc[1]['long'], calstations.iloc[1]['name']"
   ]
  },
  {
   "cell_type": "code",
   "execution_count": 55,
   "metadata": {
    "collapsed": true
   },
   "outputs": [],
   "source": [
    "def parser(df):\n",
    "    \"\"\"\n",
    "    Parses a pandas DF into JSON-line object\n",
    "    input: a dataframe\n",
    "    output: JSON-line object\n",
    "    \"\"\"\n",
    "    fields = df.columns\n",
    "    parsed_data = (dict(zip(fields, df.iloc[i])) for i in xrange(len(df)))\n",
    "    return parsed_data\n",
    "\n",
    "\n",
    "def create_map(df):\n",
    "    \"\"\"\n",
    "    Creates a map for the given data frame\n",
    "    input: a data frame\n",
    "    output: a message: \"geoJSON file has been created, check out your cd\"\n",
    "    \"\"\"\n",
    "    \n",
    "    geo_map = {'type': 'FeatureCollection'}\n",
    "    items = list()\n",
    "    for index, line in enumerate(parser(df)):\n",
    "        #Skip any zero coordinates as this will throw off our map\n",
    "        if line['long'] == str(0) or line['lat'] == str(0):\n",
    "            continue\n",
    "        \n",
    "        data = {}\n",
    "        data['type'] = 'Feature'\n",
    "        data['id'] = index\n",
    "        if line['station_type'] == 'bike_station':\n",
    "            year = line['installation'].split('/')[2]\n",
    "            if line['station_id'] == 70 or line['station_id'] == 69:\n",
    "                data['properties'] = {'name': line['name'],\n",
    "                                 'dockcount': line['dockcount'],\n",
    "                              'trip_counts' : line['trip_counts'],\n",
    "                              'marker-color':'#00cc00',\n",
    "                              'marker-size': 'large',\n",
    "                              'marker-symbol': 'bicycle'\n",
    "                                     }\n",
    "            elif year == '2013':\n",
    "                data['properties'] = {'name': line['name'],\n",
    "                                 'dockcount': line['dockcount'],\n",
    "                              'trip_counts' : line['trip_counts'],\n",
    "                              'marker-color':'#0e2f44',\n",
    "                                'marker-size':'large',\n",
    "                                'marker-symbol': 'bicycle',\n",
    "                                \"fill-opacity\": 0.3\n",
    "                                     }\n",
    "            else:\n",
    "                data['properties'] = {'name': line['name'],\n",
    "                                 'dockcount': line['dockcount'],\n",
    "                              'trip_counts' : line['trip_counts'],\n",
    "                                'marker-size': 'large',\n",
    "                                'marker-symbol': 'bicycle'\n",
    "                                     }\n",
    "            data['geometry'] = {'type': 'Point',\n",
    "                         'coordinates': (line['long'], line['lat'])\n",
    "                              }\n",
    "        else:\n",
    "            data['properties'] = {'name': line['name'],\n",
    "                                 'passengers': line['passengers'],\n",
    "                              'marker-color':'#a11f27',\n",
    "                                  'marker-size': 'large',\n",
    "                                  'marker-symbol': 'rail'\n",
    "                                     }\n",
    "            data['geometry'] = {'type': 'Point',\n",
    "                         'coordinates': (line['long'], line['lat'])\n",
    "                              }\n",
    "        items.append(data)\n",
    "    #for each point in our items, we add the point to our dictionary\n",
    "    for point in items:\n",
    "        geo_map.setdefault('features', []).append(point)\n",
    "\n",
    "    #Now that we've build up our geo_map dictionary, let's save it as geojson file\n",
    "    with open('bikecaltrain.geojson', 'w') as f:\n",
    "            f.write(dumps(geo_map))\n",
    "    return \"'bikecaltrain.geojson' file has been created, check out your cd\"\n",
    "\n",
    "def create_linestring(df):\n",
    "    \"\"\"\n",
    "    Creates a map for the given data frame\n",
    "    input: a data frame\n",
    "    output: a message: \"geoJSON file has been created, check out your cd\"\n",
    "    \"\"\"\n",
    "    \n",
    "    geo_map = {'type': 'FeatureCollection'}\n",
    "    items = list()\n",
    "    for index, line in enumerate(parser(df)):\n",
    "        #Skip any zero coordinates as this will throw off our map\n",
    "        if line['long'] == str(0) or line['lat'] == str(0):\n",
    "            continue\n",
    "        \n",
    "        data = {}\n",
    "        data['type'] = 'Feature'\n",
    "        data['id'] = index\n",
    "        \n",
    "        data['properties'] = {'name': line['name'],\n",
    "                         'dockcount': line['dockcount'],\n",
    "                              'marker-color':'#a11f27',\n",
    "                              'marker-size': 'large'\n",
    "                                     }\n",
    "        data['geometry'] = {'type': 'LineString',\n",
    "                         'coordinates': ([line['long'], line['lat']], [start_long, start_lat])\n",
    "                              }\n",
    "        items.append(data)\n",
    "    #for each point in our items, we add the point to our dictionary\n",
    "    for point in items:\n",
    "        geo_map.setdefault('features', []).append(point)\n",
    "\n",
    "    #Now that we've build up our geo_map dictionary, let's save it as geojson file\n",
    "    with open('lines.geojson', 'w') as f:\n",
    "            f.write(dumps(geo_map))\n",
    "    return \"'lines.geojson' file has been created, check out your cd\""
   ]
  },
  {
   "cell_type": "code",
   "execution_count": 56,
   "metadata": {
    "collapsed": false
   },
   "outputs": [
    {
     "data": {
      "text/plain": [
       "\"'bikecaltrain.geojson' file has been created, check out your cd\""
      ]
     },
     "execution_count": 56,
     "metadata": {},
     "output_type": "execute_result"
    }
   ],
   "source": [
    "create_map(df_for_map)"
   ]
  },
  {
   "cell_type": "code",
   "execution_count": 57,
   "metadata": {
    "collapsed": false
   },
   "outputs": [
    {
     "data": {
      "text/plain": [
       "\"'lines.geojson' file has been created, check out your cd\""
      ]
     },
     "execution_count": 57,
     "metadata": {},
     "output_type": "execute_result"
    }
   ],
   "source": [
    "create_linestring(station16)"
   ]
  },
  {
   "cell_type": "code",
   "execution_count": 58,
   "metadata": {
    "collapsed": true
   },
   "outputs": [],
   "source": [
    "def status_for_city(station, status, city = 'San Francisco'):\n",
    "    \"\"\"\n",
    "    returns a dataframe station ids for the specified city\n",
    "    \n",
    "    input: status and station dataframes, city (default = 'San Francisco')\n",
    "    output: a stations dataframe with for the specified city\n",
    "    \n",
    "    \"\"\"\n",
    "    \n",
    "    city_stations = station[station.landmark == city]['station_id']\n",
    "    city_status = status[status.station_id.isin(city_stations)]\n",
    "    \n",
    "    return city_status\n",
    "\n",
    "def groupby_term_mean(status, term):\n",
    "    \"\"\"\n",
    "    returns dataframe grouped by term and average values\n",
    "    \n",
    "    input: status data frame, term (month or hour)\n",
    "    output: dataframe grouped by term and average values of\n",
    "            other variables\n",
    "    \"\"\"\n",
    "    assert term in ['month', 'hour', 'weekday'], 'term should be either \"month\", \"hour\" or \"weekday\".'\n",
    "    \n",
    "    if term == 'hour':\n",
    "        status['hour'] = status.time.dt.strftime('%H')\n",
    "        grouped = status.groupby('hour').mean()\n",
    "        grouped.reset_index(inplace = True)\n",
    "    elif term == 'month':\n",
    "        status['month'] = status.time.dt.strftime('%m')\n",
    "        grouped = status.groupby('month').mean()\n",
    "        grouped.reset_index(inplace = True)\n",
    "    else:\n",
    "        status['weekday'] = status.time.dt.weekday_name\n",
    "        grouped = status.groupby('weekday').mean()\n",
    "        grouped.reset_index(inplace = True)\n",
    "        grouped['Sorter'] = [5, 1, 6, 7, 4, 2, 3]\n",
    "        grouped.sort_values(by = 'Sorter', inplace = True)\n",
    "    \n",
    "    return grouped\n",
    "\n",
    "def plot_status(grouped, time_format, city = None, station_name = None):\n",
    "    \"\"\"\n",
    "    returns a plot of average bike and dock availability\n",
    "    input: grouped dataframe by hour or month, time_format \n",
    "          (month or hour), city (default is None)\n",
    "    output: a plot of average bike and dock availability\n",
    "    \"\"\"\n",
    "    import plotly.plotly as py\n",
    "    import plotly.graph_objs as go\n",
    "    \n",
    "    assert time_format in ['month', 'hour', 'weekday'], 'time format should be either \"month\", \"hour\", or \"weekday\".'\n",
    "\n",
    "    # Add data\n",
    "    \n",
    "    if time_format is 'hour':\n",
    "        time = grouped.hour\n",
    "        title_time = 'Daily'\n",
    "        x_axis_name = 'Hour'\n",
    "    elif time_format is 'month':\n",
    "        time = grouped.month\n",
    "        title_time = 'Yearly'\n",
    "        x_axis_name = 'Month'\n",
    "    else:\n",
    "        time = grouped.weekday\n",
    "        title_time = 'Weekly'\n",
    "        x_axis_name = 'Week Days'\n",
    "        \n",
    "    bikes_available = grouped.bikes_available\n",
    "    docks_available = grouped.docks_available\n",
    "    # Create and style traces\n",
    "    trace0 = go.Scatter(\n",
    "        x = time,\n",
    "        y = bikes_available,\n",
    "        name = 'Bikes Available',\n",
    "        line = dict(\n",
    "            color = ('rgb(205, 12, 24)'),\n",
    "            width = 4,\n",
    "            dash = 'dash')\n",
    "    )\n",
    "    trace1 = go.Scatter(\n",
    "        x = time,\n",
    "        y = docks_available,\n",
    "        name = 'Docks Available',\n",
    "        line = dict(\n",
    "            color = ('rgb(22, 96, 167)'),\n",
    "            width = 4,\n",
    "            dash = 'dash')\n",
    "    )\n",
    "\n",
    "    data = [trace0, trace1]\n",
    "    \n",
    "    if station_name:\n",
    "        title_name = '{} Average Counts of Available Bikes and Docks in {}'.format(title_time, station_name)\n",
    "    elif city:\n",
    "        title_name = '{} Average Counts of Available Bikes and Docks in {}'.format(title_time, city)\n",
    "    else:\n",
    "        title_name = '{} Average Counts of Available Bikes and Docks across all 4 cities'.format(title_time)\n",
    "\n",
    "    # Edit the layout\n",
    "    layout = dict(title = title_name,\n",
    "                  xaxis = dict(title = x_axis_name),\n",
    "                  yaxis = dict(title = 'Counts'),\n",
    "                  )\n",
    "\n",
    "    fig = dict(data=data, layout=layout)\n",
    "    file_name = 'plot for {}'.format(city)\n",
    "    return py.iplot(fig, filename=file_name)\n",
    "\n",
    "def plot_summary_for_city(city, term, station_id = None):\n",
    "    \"\"\"\n",
    "    returns plot summary for the given city and term\n",
    "    input: city name, term ('hour', 'month', 'weekday')\n",
    "    output: a figure\n",
    "    \n",
    "    NOTE: station and status data should be available in global env.\n",
    "    \"\"\"\n",
    "    \n",
    "    assert city in ['San Francisco', 'Mountain View', 'Palo Alto', 'San Jose'], 'unavailable city'\n",
    "    assert term in ['hour', 'month', 'weekday'], 'term should be either \"hour\", \"month\", or \"weekday\".'\n",
    "    assert type(status16['time'][0]) is pandas.tslib.Timestamp, 'status[\"time\"] type error. convert it time series.'\n",
    "    \n",
    "    city_status = status_for_city(station16, status16, city)\n",
    "    station_name = None\n",
    "    if station_id:\n",
    "        assert station_id in station16.station_id.values, 'invalid station id'\n",
    "        city_status = city_status[city_status.station_id == station_id]\n",
    "        station_name = station.name[station16.station_id == station_id].values[0]\n",
    "    grouped = groupby_term_mean(city_status, term)\n",
    "    \n",
    "    return plot_status(grouped, term, city, station_name)"
   ]
  },
  {
   "cell_type": "markdown",
   "metadata": {},
   "source": [
    "### 15. Plots for average number of available bikes and docks in 4 different cities."
   ]
  },
  {
   "cell_type": "code",
   "execution_count": 59,
   "metadata": {
    "collapsed": false
   },
   "outputs": [
    {
     "data": {
      "text/html": [
       "<iframe id=\"igraph\" scrolling=\"no\" style=\"border:none;\" seamless=\"seamless\" src=\"https://plot.ly/~ppatterson/38.embed\" height=\"525px\" width=\"100%\"></iframe>"
      ],
      "text/plain": [
       "<plotly.tools.PlotlyDisplay object>"
      ]
     },
     "execution_count": 59,
     "metadata": {},
     "output_type": "execute_result"
    }
   ],
   "source": [
    "#plot_summary_for_city('San Francisco', 'hour')\n",
    "#plot_summary_for_city('San Francisco', 'weekday')\n",
    "plot_summary_for_city('San Francisco', 'month')"
   ]
  },
  {
   "cell_type": "code",
   "execution_count": 60,
   "metadata": {
    "collapsed": false
   },
   "outputs": [
    {
     "name": "stdout",
     "output_type": "stream",
     "text": [
      "High five! You successfuly sent some data to your account on plotly. View your plot in your browser at https://plot.ly/~ppatterson/0 or inside your plot.ly account where it is named 'plot for San Jose'\n"
     ]
    },
    {
     "data": {
      "text/html": [
       "<iframe id=\"igraph\" scrolling=\"no\" style=\"border:none;\" seamless=\"seamless\" src=\"https://plot.ly/~ppatterson/0.embed\" height=\"525px\" width=\"100%\"></iframe>"
      ],
      "text/plain": [
       "<plotly.tools.PlotlyDisplay object>"
      ]
     },
     "execution_count": 60,
     "metadata": {},
     "output_type": "execute_result"
    }
   ],
   "source": [
    "plot_summary_for_city('San Jose', 'hour')\n",
    "#plot_summary_for_city('San Jose', 'weekday')\n",
    "#plot_summary_for_city('San Jose', 'month')"
   ]
  },
  {
   "cell_type": "code",
   "execution_count": 61,
   "metadata": {
    "collapsed": false
   },
   "outputs": [
    {
     "data": {
      "text/html": [
       "<iframe id=\"igraph\" scrolling=\"no\" style=\"border:none;\" seamless=\"seamless\" src=\"https://plot.ly/~ppatterson/2.embed\" height=\"525px\" width=\"100%\"></iframe>"
      ],
      "text/plain": [
       "<plotly.tools.PlotlyDisplay object>"
      ]
     },
     "execution_count": 61,
     "metadata": {},
     "output_type": "execute_result"
    }
   ],
   "source": [
    "#plot_summary_for_city('Mountain View', 'hour')\n",
    "plot_summary_for_city('Mountain View', 'weekday')\n",
    "#plot_summary_for_city('Mountain View', 'month')"
   ]
  },
  {
   "cell_type": "code",
   "execution_count": 62,
   "metadata": {
    "collapsed": false
   },
   "outputs": [
    {
     "data": {
      "text/html": [
       "<iframe id=\"igraph\" scrolling=\"no\" style=\"border:none;\" seamless=\"seamless\" src=\"https://plot.ly/~ppatterson/4.embed\" height=\"525px\" width=\"100%\"></iframe>"
      ],
      "text/plain": [
       "<plotly.tools.PlotlyDisplay object>"
      ]
     },
     "execution_count": 62,
     "metadata": {},
     "output_type": "execute_result"
    }
   ],
   "source": [
    "plot_summary_for_city('Palo Alto', 'hour')\n",
    "#plot_summary_for_city('Palo Alto', 'weekday')\n",
    "#plot_summary_for_city('Palo Alto', 'month')"
   ]
  },
  {
   "cell_type": "code",
   "execution_count": 63,
   "metadata": {
    "collapsed": true
   },
   "outputs": [],
   "source": [
    "def convert_df(station_in, status_in, term, station_id = None):\n",
    "    \"\"\"\n",
    "    createst a DF which is grouped by term and has average\n",
    "    bike and docks available for a station if speficied, otherwise\n",
    "    it returns average value for San Francisco\n",
    "    \n",
    "    input: station_in, status_in, term, station_id (default = None)\n",
    "    output: a grouped DF, station_name (default = None)\n",
    "    \"\"\"\n",
    "    \n",
    "    city_status = status_for_city(station_in, status_in)\n",
    "    station_name = None\n",
    "    if station_id:\n",
    "        assert station_id in station_in.station_id.values, 'invalid station id'\n",
    "        city_status = city_status[city_status.station_id == station_id]\n",
    "        station_name = station_in.name[station_in.station_id == station_id].values[0]\n",
    "    grouped = groupby_term_mean(city_status, term)\n",
    "    \n",
    "    return grouped, station_name"
   ]
  },
  {
   "cell_type": "code",
   "execution_count": 64,
   "metadata": {
    "collapsed": true
   },
   "outputs": [],
   "source": [
    "def compares_years(term, station_id = None):\n",
    "    \"\"\"\n",
    "    compares average avaialble bike and dock counts\n",
    "    for three years per term for San Francisco,\n",
    "    if station_id specified compares for that station.\n",
    "    \n",
    "    input: term ('hour', 'month', or 'weekday')\n",
    "    output: an interactive figure\n",
    "    \n",
    "    \"\"\"\n",
    "    \n",
    "    sf14, station_name = convert_df(station14, status14, term, station_id)\n",
    "    sf15, station_name = convert_df(station15, status15, term, station_id)\n",
    "    sf16, station_name = convert_df(station16, status16, term, station_id)\n",
    "    \n",
    "    bikes14 = sf14.bikes_available.values\n",
    "    docks14 = sf14.docks_available.values\n",
    "    bikes15 = sf15.bikes_available.values\n",
    "    docks15 = sf15.docks_available.values\n",
    "    bikes16 = sf16.bikes_available.values\n",
    "    docks16 = sf16.docks_available\n",
    "    xcoord = sf15[term]\n",
    "    \n",
    "    if station_name:\n",
    "        title = 'Average Available Bike and Dock Counts for {}'.format(station_name)\n",
    "    else:\n",
    "        title = 'Average Available Bike and Dock Counts for San Francisco'\n",
    "\n",
    "    trace1 = Scatter(\n",
    "        x=xcoord, y=bikes15,\n",
    "        line=Line(\n",
    "            color='#FFD700',\n",
    "            width=3\n",
    "        ),\n",
    "        name='2015: Bikes'\n",
    "    )\n",
    "\n",
    "    trace2 = Scatter(\n",
    "        x=xcoord, y=docks15,\n",
    "        line=Line(\n",
    "            color='#C0C0C0',\n",
    "            width=3\n",
    "        ),\n",
    "        name='2015: Docks'\n",
    "    )\n",
    "\n",
    "    trace3 = Scatter(\n",
    "        x=xcoord, y=bikes16,\n",
    "        line=Line(\n",
    "            color='#BA8651',\n",
    "            width=3\n",
    "        ),\n",
    "        name='2016: Bikes'\n",
    "    )\n",
    "\n",
    "    trace4 = Scatter(\n",
    "        x=xcoord, y=docks16,\n",
    "        line=Line(\n",
    "            color='#000000',\n",
    "            width=3\n",
    "        ),\n",
    "        name='2016: Docks'\n",
    "    )\n",
    "    \n",
    "    trace5 = Scatter(\n",
    "        x=xcoord, y=bikes14,\n",
    "        line=Line(\n",
    "            color='#b9f442',\n",
    "            width=3\n",
    "        ),\n",
    "        name='2014: Bikes'\n",
    "    )\n",
    "    \n",
    "    trace6 = Scatter(\n",
    "        x=xcoord, y=docks14,\n",
    "        line=Line(\n",
    "            color='#416bf4',\n",
    "            width=3\n",
    "        ),\n",
    "        name='2014: Docks'\n",
    "    )\n",
    "\n",
    "    data = Data([trace1, trace2, trace3, trace4, trace5, trace6])\n",
    "    layout = Layout(\n",
    "        title=title,\n",
    "        updatemenus=list([\n",
    "            dict(\n",
    "                x=-0.05,\n",
    "                y=1,\n",
    "                yanchor='top',\n",
    "                buttons=list([\n",
    "                    dict(\n",
    "                        args=['visible', [True, True, True, True, True, True]],\n",
    "                        label='All',\n",
    "                        method='restyle'\n",
    "                    ),\n",
    "                    dict(\n",
    "                        args=['visible', [True, True, False, False, False, False]],\n",
    "                        label='2015',\n",
    "                        method='restyle'\n",
    "                    ),\n",
    "                    dict(\n",
    "                        args=['visible', [False, False, True, True, False, False]],\n",
    "                        label='2016',\n",
    "                        method='restyle'\n",
    "                    ),\n",
    "                    dict(\n",
    "                        args=['visible', [False, False, False, False, True, True]],\n",
    "                        label='2014',\n",
    "                        method='restyle'\n",
    "                    ),\n",
    "                    dict(\n",
    "                        args=['visible', [True, False, True, False, True, False]],\n",
    "                        label='Bikes',\n",
    "                        method='restyle'\n",
    "                    ),\n",
    "                    dict(\n",
    "                        args=['visible', [False, True, False, True, False, True]],\n",
    "                        label='Docks',\n",
    "                        method='restyle'\n",
    "                    )\n",
    "                ]),\n",
    "            )\n",
    "        ]),\n",
    "    )\n",
    "    fig = Figure(data=data, layout=layout)\n",
    "    return py.iplot(fig)"
   ]
  },
  {
   "cell_type": "markdown",
   "metadata": {},
   "source": [
    "### 16. Let's see how the average number of available bikes and docks has changed since 2014 for San Francisco Caltrain (Townsend at 4th)"
   ]
  },
  {
   "cell_type": "code",
   "execution_count": 65,
   "metadata": {
    "collapsed": false
   },
   "outputs": [
    {
     "data": {
      "text/html": [
       "<iframe id=\"igraph\" scrolling=\"no\" style=\"border:none;\" seamless=\"seamless\" src=\"https://plot.ly/~ppatterson/40.embed\" height=\"525px\" width=\"100%\"></iframe>"
      ],
      "text/plain": [
       "<plotly.tools.PlotlyDisplay object>"
      ]
     },
     "execution_count": 65,
     "metadata": {},
     "output_type": "execute_result"
    }
   ],
   "source": [
    "compares_years('hour', 70)"
   ]
  },
  {
   "cell_type": "code",
   "execution_count": 66,
   "metadata": {
    "collapsed": false
   },
   "outputs": [
    {
     "data": {
      "text/html": [
       "<iframe id=\"igraph\" scrolling=\"no\" style=\"border:none;\" seamless=\"seamless\" src=\"https://plot.ly/~ppatterson/42.embed\" height=\"525px\" width=\"100%\"></iframe>"
      ],
      "text/plain": [
       "<plotly.tools.PlotlyDisplay object>"
      ]
     },
     "execution_count": 66,
     "metadata": {},
     "output_type": "execute_result"
    }
   ],
   "source": [
    "compares_years('weekday', 70)"
   ]
  },
  {
   "cell_type": "markdown",
   "metadata": {},
   "source": [
    "### 17. Route count heatmap by station in SF for 2016"
   ]
  },
  {
   "cell_type": "code",
   "execution_count": 67,
   "metadata": {
    "collapsed": true
   },
   "outputs": [],
   "source": [
    "def route_countFunc(trip_df, station_df):\n",
    "    \"\"\"\n",
    "    This function gets 'trip' and 'station' dataframe and returns a dataframe contains routes and their counts\n",
    "    @args:\n",
    "        trip_df: trip dataframe\n",
    "        station_df: station dataframe\n",
    "    @returns:\n",
    "        routes_count: contains routes and their counts, duration, and landmark\n",
    "    \"\"\"\n",
    "    #Add start landmark\n",
    "    trip = pd.merge(left = trip_df[['Trip ID', 'Duration', 'station_id', 'End Terminal']], right = station_df[['name', 'station_id', 'landmark']], \n",
    "             how='left', left_on='station_id', right_on= 'station_id')\n",
    "    trip.rename(columns={'landmark':'start_landmark', 'name':'Start Station'}, inplace=True)\n",
    "    trip.drop('station_id', inplace=True, axis=1)\n",
    "    #Add end landmark\n",
    "    trip = pd.merge(left = trip, right = station_df[['name','station_id', 'landmark']], \n",
    "             how='left', left_on='End Terminal', right_on= 'station_id')\n",
    "    trip.rename(columns={'landmark':'end_landmark', 'name':'End Station'}, inplace=True)\n",
    "    trip.drop('station_id', inplace=True, axis=1)\n",
    "       #Pick only trips within one landmark\n",
    "    trip = trip[trip.start_landmark == trip.end_landmark]\n",
    "    #Count the number of trips between stations\n",
    "    routes_count = trip.groupby(['Start Station', 'End Station', 'start_landmark']).agg({'Trip ID': 'count', 'Duration': 'mean'}).reset_index()\n",
    "    routes_count = routes_count.rename(columns={'Trip ID': 'Counts'})\n",
    "    routes_count.Duration = routes_count['Duration'].apply(lambda x: round((x/60),2))\n",
    "    #Change the column names\n",
    "    routes_count.rename(columns={'start_landmark':'Landmark', 'Duration': 'Duration (min)'}, inplace=True)\n",
    "    return routes_count"
   ]
  },
  {
   "cell_type": "code",
   "execution_count": 68,
   "metadata": {
    "collapsed": true
   },
   "outputs": [],
   "source": [
    "def route_heatmap(trip_df, station_df, landmark):\n",
    "    \"\"\"\n",
    "    This function recieve the trip and station dataframes for a specific year \n",
    "    and plots the trip heatmap for a given landmark\n",
    "    @args:\n",
    "        trip_df: trip dataframe\n",
    "        station_df: station dataframe\n",
    "        landmark: Could be \"San Francisco\", \"San Jose\", \"Palo Alto\", and \"Mountain View\"\n",
    "    @returns:\n",
    "        Heatmap graph\n",
    "    \"\"\"\n",
    "    routes = route_countFunc(trip_df, station_df)\n",
    "    df_routes = routes[routes.Landmark == landmark]\n",
    "    start_station = df_routes['Start Station'].sort_values().unique()\n",
    "    end_station = df_routes['End Station'].sort_values().unique()\n",
    "\n",
    "    #create z values for heatmap and text for hover text in the map\n",
    "    z = []\n",
    "    trip_text = []\n",
    "    for start in start_station:\n",
    "        new_row = []\n",
    "        text_row = []\n",
    "        for end in end_station:\n",
    "            try:\n",
    "                trip_count = df_routes[(df_routes['Start Station'] == start) & (df_routes['End Station'] == end)].Counts.values[0]\n",
    "                average_duration = df_routes[(df_routes['Start Station'] == start) & (df_routes['End Station'] == end)]['Duration (min)'].values[0]\n",
    "            except IndexError:\n",
    "                trip_count = 0\n",
    "                average_duration = 0\n",
    "            text = 'Start Station: {}<br>End Station: {}<br>Trip Counts: {}<br>Average Duration: {} Mins'.format(start, end, trip_count, average_duration)\n",
    "            text_row.append(text)    \n",
    "            new_row.append(trip_count)\n",
    "        z.append(list(new_row))\n",
    "        trip_text.append(list(text_row))\n",
    "\n",
    "    #Plot Heatmap\n",
    "    heatmap = go.Heatmap(x = start_station,\n",
    "               y = end_station,\n",
    "               z = z,\n",
    "                hoverinfo = 'text',\n",
    "                text = trip_text,\n",
    "               colorscale='YIGnBu',\n",
    "               reversescale=True)\n",
    "\n",
    "    data = go.Data([heatmap])\n",
    "    layout = go.Layout(\n",
    "        title=landmark.upper() + ' TRIP COUNTS',\n",
    "        titlefont = dict(color='black', size=35, family='monospace'),\n",
    "        xaxis=dict(\n",
    "            title='END STATION',\n",
    "            tickangle = -90,\n",
    "            titlefont=dict(\n",
    "                family='monospace',\n",
    "                size=18,\n",
    "                color='red')),\n",
    "        yaxis=dict(\n",
    "            title='START STATION',\n",
    "            titlefont=dict(\n",
    "                family='monospace',\n",
    "                size=18,\n",
    "                color='red')),\n",
    "        width=1000,\n",
    "        height=1000,\n",
    "        margin=go.Margin(\n",
    "        l=300,\n",
    "        r=50,\n",
    "        b=300,\n",
    "        t=100,\n",
    "        pad=4\n",
    "    )\n",
    "    )\n",
    "    fig = go.Figure(data=data, layout=layout)\n",
    "    return py.iplot(fig)"
   ]
  },
  {
   "cell_type": "code",
   "execution_count": 69,
   "metadata": {
    "collapsed": false
   },
   "outputs": [
    {
     "data": {
      "text/html": [
       "<iframe id=\"igraph\" scrolling=\"no\" style=\"border:none;\" seamless=\"seamless\" src=\"https://plot.ly/~ppatterson/44.embed\" height=\"1000px\" width=\"1000px\"></iframe>"
      ],
      "text/plain": [
       "<plotly.tools.PlotlyDisplay object>"
      ]
     },
     "execution_count": 69,
     "metadata": {},
     "output_type": "execute_result"
    }
   ],
   "source": [
    "route_heatmap(trip16, station16, 'San Francisco')"
   ]
  },
  {
   "cell_type": "markdown",
   "metadata": {},
   "source": [
    "### 18. Median income and crime map in SF for 2016"
   ]
  },
  {
   "cell_type": "code",
   "execution_count": 70,
   "metadata": {
    "collapsed": true
   },
   "outputs": [],
   "source": [
    "def crimeFunc(df):\n",
    "    \"\"\"\n",
    "    This function gets the crime data frame and select the crimes potentially dangerous to bikers and bikes such as:\n",
    "    'BURGLARY', 'DRIVING UNDER THE INFLUENCE', 'ROBBERY', 'STOLEN PROPERTY', 'VANDALISM', 'VEHICLE THEFT'\n",
    "    in the year 2016\n",
    "    @args:\n",
    "        df: crime dataframe\n",
    "    @returns:\n",
    "        a dataframe containing crimes in 2015 related to bikes\n",
    "    \"\"\"\n",
    "    #List of related crimes\n",
    "    relatedCrimes = ['BURGLARY', 'DRIVING UNDER THE INFLUENCE', 'ROBBERY', 'STOLEN PROPERTY', 'VANDALISM', 'VEHICLE THEFT']\n",
    "    bikeCrime = df[df['Category'].isin(relatedCrimes)].reset_index(drop = True)\n",
    "    #Extract year from \"Date\" column\n",
    "    bikeCrime.Date = bikeCrime.Date.str.slice(6,10)\n",
    "    bikeCrime = bikeCrime.rename(columns = {'X': 'lon', 'Y': 'lat', 'Date': 'year'})\n",
    "    #Crimes in year 2016\n",
    "    bikeCrime = bikeCrime[bikeCrime['year'] == '2016'][['Category', 'lat', 'lon']].reset_index(drop=True)\n",
    "    return bikeCrime"
   ]
  },
  {
   "cell_type": "code",
   "execution_count": 71,
   "metadata": {
    "collapsed": true
   },
   "outputs": [],
   "source": [
    "def crime_objectFunc(df):\n",
    "    \"\"\"\n",
    "    This function gets the crime data frame and creates a scatter map plot object\n",
    "    @args:\n",
    "        df: crime data frame\n",
    "    @returns:\n",
    "        a scatter map plot object\n",
    "    \"\"\"\n",
    "    bikeCrime = crimeFunc(df)\n",
    "    crime_graph = go.Scattermapbox(lon = bikeCrime['lon'],\n",
    "                        lat = bikeCrime['lat'],\n",
    "                        hoverinfo = 'text',\n",
    "                        text = bikeCrime['Category'],\n",
    "                        mode = 'markers',\n",
    "                        marker = dict(size = 3,\n",
    "                                     color = 'red'\n",
    "                                      ),\n",
    "                        opacity = 0.1,\n",
    "                        name = 'Crime')\n",
    "    return crime_graph"
   ]
  },
  {
   "cell_type": "code",
   "execution_count": 72,
   "metadata": {
    "collapsed": true
   },
   "outputs": [],
   "source": [
    "def extract_info(zipNum, info_type):\n",
    "    '''\n",
    "    This function gets the zipcode and returns either city name, latitude, or longitude\n",
    "    @args:\n",
    "        zipNum: zipcode\n",
    "        info_type: could be either: 'city', 'lat', or 'longitude'\n",
    "    @returns:\n",
    "        city name, latitude, or longitude\n",
    "    '''\n",
    "    \n",
    "    try:\n",
    "        zipcode.isequal(str(zipNum)).state #Check to see if info exists for the zipcode\n",
    "        info = zipcode.isequal(str(zipNum))\n",
    "    except AttributeError:\n",
    "        return 'Not valid'\n",
    "    if info_type == 'state':\n",
    "        return info.state\n",
    "    if info_type == 'city':\n",
    "        return info.city\n",
    "    elif info_type == 'lat':\n",
    "        return info.lat\n",
    "    else:\n",
    "        return info.lon"
   ]
  },
  {
   "cell_type": "code",
   "execution_count": 73,
   "metadata": {
    "collapsed": true
   },
   "outputs": [],
   "source": [
    "def incomeFunc(df):\n",
    "    \"\"\"\n",
    "    This function gets the income dataframe and finds the city and state corresponding to each lattidue and longitude\n",
    "    and returns a dataframe containing median and mean income corresponding to each zipcode in San Francisco\n",
    "    @args:\n",
    "        df: income dataframe\n",
    "    @returns:\n",
    "        a dataframe containing median and mean income corresponding to each zipcode in San Francisco\n",
    "    \"\"\"\n",
    "    #Add state, city, latitude, and longitude columns to income dataset\n",
    "    info_list = ['state', 'city', 'lat', 'lon']\n",
    "    for i in info_list:\n",
    "        df[i] = [extract_info(str(x), i) for x in df.iloc[:,0]]\n",
    "\n",
    "    #Extract Sanfrancicso data\n",
    "    SF_income = df[(df.state == 'CA') & (df.city == 'SAN FRANCISCO')].reset_index(drop=True)\n",
    "    return SF_income"
   ]
  },
  {
   "cell_type": "code",
   "execution_count": 74,
   "metadata": {
    "collapsed": true
   },
   "outputs": [],
   "source": [
    "def hover_incomeTextFunc(df):\n",
    "    \"\"\"\n",
    "    This function gets the income dataframe and creates a list of texts for hover text in plot\n",
    "    @args:\n",
    "        df: income dataframe\n",
    "    @returns:\n",
    "        a list of texts for hover text in the plot\n",
    "    \"\"\"\n",
    "    #For hover in the map graph\n",
    "    text_income = df.apply(lambda x: 'Zipcode: {}<br>Population: {}<br>Median Income: ${}<br>Mean Income: ${}'.format(\n",
    "            x[0], x[3], x[1], x[2]),axis=1)\n",
    "    return text_income"
   ]
  },
  {
   "cell_type": "code",
   "execution_count": 75,
   "metadata": {
    "collapsed": true
   },
   "outputs": [],
   "source": [
    "def point_incomeSizeFunc(df):\n",
    "    \"\"\"\n",
    "    This function gets the income dataframe and creates a list of point sizes for plot\n",
    "    @args:\n",
    "        df: income dataframe\n",
    "    @returns:\n",
    "        a list of point sizes for plot\n",
    "    \"\"\"\n",
    "    #Scale the point size for map\n",
    "    point_size = df['Median'].str.replace(',', '').apply(int)/df['Median'].str.replace(',', '').apply(int).max()\n",
    "    return point_size"
   ]
  },
  {
   "cell_type": "code",
   "execution_count": 76,
   "metadata": {
    "collapsed": true
   },
   "outputs": [],
   "source": [
    "def point_incomeTransFunc(df):\n",
    "    \"\"\"\n",
    "    This function gets the income dataframe and creates of a list of point transparency for plot\n",
    "    @args:\n",
    "        df: income dataframe\n",
    "    @returns:\n",
    "        a list of point transparency for plot\n",
    "    \"\"\"\n",
    "    #Scale the point transparancy to population\n",
    "    point_transparency = df['Population'].str.replace(',', '').apply(int)/df['Population'].str.replace(',', '').apply(int).max()\n",
    "    return point_transparency"
   ]
  },
  {
   "cell_type": "code",
   "execution_count": 77,
   "metadata": {
    "collapsed": true
   },
   "outputs": [],
   "source": [
    "def income_objectFunc(df):\n",
    "    \"\"\"\n",
    "    This function gets the income dataframe and creates a scatter map plot object\n",
    "    @args:\n",
    "        df: income dataframe\n",
    "    @returns:\n",
    "        a scatter map plot object\n",
    "    \"\"\"\n",
    "    SF_income = incomeFunc(df)\n",
    "    income_graph = go.Scattermapbox(lon = incomeFunc(SF_income)['lon'],\n",
    "                        lat = incomeFunc(SF_income)['lat'],\n",
    "                        hoverinfo = 'text',\n",
    "                        text = hover_incomeTextFunc(SF_income),\n",
    "                        mode = 'markers',\n",
    "                        marker = dict(size = point_incomeSizeFunc(SF_income)*20,\n",
    "                                     color = 'light blue'\n",
    "                                      ),\n",
    "                        opacity = point_incomeTransFunc(SF_income)/10,\n",
    "                        name = 'Median Income')\n",
    "    return income_graph"
   ]
  },
  {
   "cell_type": "code",
   "execution_count": 78,
   "metadata": {
    "collapsed": true
   },
   "outputs": [],
   "source": [
    "def graph_CrimeIncome(income_df, crime_df):\n",
    "    \"\"\"\n",
    "    This function gets two data frames income and crime and plots the scatter map plot for both in San Francisco\n",
    "    @args:\n",
    "        income_df: income dataframe\n",
    "        crime_df: crime dataframe\n",
    "    @returns:\n",
    "        A scatter map plot in San Francisco\n",
    "    \"\"\"\n",
    "    income_object = income_objectFunc(income_df)\n",
    "    crime_object = crime_objectFunc(crime_df)\n",
    "    data = go.Data([income_object, crime_object])\n",
    "    layout = dict(\n",
    "    title='MEDIAN INCOME AND CRIME MAP IN SAN FRANCISCO',\n",
    "    titlefont = dict(color='black', size=35, family='monospace'),\n",
    "    autosize=True,\n",
    "    hovermode='closest',\n",
    "    mapbox=dict(\n",
    "        accesstoken=mapbox_token,\n",
    "        bearing=0,\n",
    "        center=dict(\n",
    "            lat=37.773972,\n",
    "            lon=-122.431297\n",
    "        ),\n",
    "        pitch=0,\n",
    "        zoom=10\n",
    "    ),\n",
    "    )\n",
    "    layout = go.Layout(layout)\n",
    "    fig = go.Figure(data = data, layout = layout)\n",
    "    return py.iplot(fig)"
   ]
  },
  {
   "cell_type": "code",
   "execution_count": 79,
   "metadata": {
    "collapsed": false
   },
   "outputs": [
    {
     "data": {
      "text/html": [
       "<iframe id=\"igraph\" scrolling=\"no\" style=\"border:none;\" seamless=\"seamless\" src=\"https://plot.ly/~ppatterson/46.embed\" height=\"525px\" width=\"100%\"></iframe>"
      ],
      "text/plain": [
       "<plotly.tools.PlotlyDisplay object>"
      ]
     },
     "execution_count": 79,
     "metadata": {},
     "output_type": "execute_result"
    }
   ],
   "source": [
    "graph_CrimeIncome(income, crime)"
   ]
  },
  {
   "cell_type": "markdown",
   "metadata": {},
   "source": [
    "### 19. Trips from stations in each landmark for 2016"
   ]
  },
  {
   "cell_type": "code",
   "execution_count": 80,
   "metadata": {
    "collapsed": true
   },
   "outputs": [],
   "source": [
    "def routeDock_countFunc(tripDF, stationDF, landmark):\n",
    "    \"\"\"\n",
    "    This function gets trip and station dataframes and the landmark of interests and returns a dataframe\n",
    "    containing all stations with total number of trips started at the stations and their number of dockcounts\n",
    "    @args:\n",
    "        tripDF: trip dataframe\n",
    "        stationDF: station dataframe\n",
    "        landmark: Landmark of interest that could be \"San Francisco\", \"San Jose\", \"Palo Alto\", and \"Mountain View\"\n",
    "    @returns:\n",
    "        A dataframe containing all stations with total number of trips started at the stations and their \n",
    "        number of dockcounts\n",
    "    \"\"\"\n",
    "    routeCount = route_countFunc(tripDF, stationDF)\n",
    "    routeCount = routeCount[routeCount.Landmark == landmark].groupby('Start Station').agg({'Counts': 'sum'}).reset_index()\n",
    "    routeCount = pd.merge(left=routeCount, right=stationDF[['name', 'dockcount']], how='inner', left_on='Start Station', right_on='name')\n",
    "    routeCount.drop('name', axis=1, inplace=True)\n",
    "    return routeCount"
   ]
  },
  {
   "cell_type": "code",
   "execution_count": 81,
   "metadata": {
    "collapsed": true
   },
   "outputs": [],
   "source": [
    "def hover_text(df):\n",
    "    \"\"\"\n",
    "    This function gets a dataframe made by function \"routeDock_countFunc\" and returns a list containing the \n",
    "    text information used in the barplot\n",
    "    @args:\n",
    "        df: dataframe made with function \"routeDock_countFunc\"\n",
    "    @returns:\n",
    "        a list containing the text information used in hover text for the barplot\n",
    "    \"\"\"\n",
    "    text = df.apply(lambda x: 'Station: {}<br>Trip Counts: {}<br>Dock Counts: {}<br>Dock/Trip: {}%'.format(\n",
    "        x[0], x[1], int(x[2]), round(float(x[2])*100/x[1], 3)), axis=1)\n",
    "    return text"
   ]
  },
  {
   "cell_type": "code",
   "execution_count": 82,
   "metadata": {
    "collapsed": true
   },
   "outputs": [],
   "source": [
    "def bar_object(tripDF, stationDF, landmark, year):\n",
    "    \"\"\"\n",
    "    This function gets trip and station dataframes and the landmark of interests and specific year and returns \n",
    "    a barobject used for plotting barplot\n",
    "    @args:\n",
    "        tripDF: trip dataframe\n",
    "        stationDF: station dataframe\n",
    "        landmark: Landmark of interest that could be \"San Francisco\", \"San Jose\", \"Palo Alto\", and \"Mountain View\"\n",
    "        year: year of interest, either 2014, 2015, 2016\n",
    "    @returns:\n",
    "      Barplot object used to plot a barplot\n",
    "    \"\"\"\n",
    "    df = routeDock_countFunc(tripDF, stationDF, landmark)\n",
    "    bar = go.Bar(x=df['Start Station'], y=df['Counts'],\n",
    "                name = year, hoverinfo='text', text=hover_text(df))\n",
    "    return bar"
   ]
  },
  {
   "cell_type": "code",
   "execution_count": 83,
   "metadata": {
    "collapsed": true
   },
   "outputs": [],
   "source": [
    "def barPlot(landmark):\n",
    "    \"\"\"\n",
    "    This funciton gets a landmark and plots the number of trips from statins in a landmark. The barplot\n",
    "    contains the information for three years 2014, 2015, and 2016.\n",
    "    @args:\n",
    "        landmark: Landmark of interest that could be \"San Francisco\", \"San Jose\", \"Palo Alto\", and \"Mountain View\"\n",
    "    @returns:\n",
    "        A barplot\n",
    "    \"\"\"\n",
    "    \n",
    "    #Bar object\n",
    "    bar14 = bar_object(trip14, station14, landmark, 2014)\n",
    "    bar15 = bar_object(trip15, station15, landmark, 2015)\n",
    "    bar16 = bar_object(trip16, station16, landmark, 2016)\n",
    "    data = go.Data([bar14, bar15, bar16])\n",
    "    \n",
    "    #Layout\n",
    "    layout = go.Layout(\n",
    "     width=1000,\n",
    "    height=800,\n",
    "    hovermode = 'closest',\n",
    "    title='TOTAL TRIPS FROM STATIONS IN ' + landmark.upper(),\n",
    "    titlefont = dict(color='black', size=35, family='monospace'),\n",
    "    xaxis=dict(\n",
    "        title='STATION',\n",
    "        tickangle = -90,\n",
    "        titlefont=dict(\n",
    "            family='monospace',\n",
    "            size=18,\n",
    "            color='red')),\n",
    "    yaxis=dict(\n",
    "        title='TRIP COUNTS',\n",
    "        titlefont=dict(\n",
    "            family='monospace',\n",
    "            size=18,\n",
    "            color='red')),\n",
    "        margin=go.Margin(\n",
    "        l=100,\n",
    "        r=50,\n",
    "        b=300,\n",
    "        t=100,\n",
    "        pad=4), \n",
    "        showlegend = 'True', \n",
    "        legend = dict(x=0, y=1, orientation='h'))\n",
    "    \n",
    "    #Make the plot\n",
    "    fig = go.Figure(data = data, layout = layout)\n",
    "    return py.iplot(fig)"
   ]
  },
  {
   "cell_type": "code",
   "execution_count": 84,
   "metadata": {
    "collapsed": false
   },
   "outputs": [
    {
     "data": {
      "text/html": [
       "<iframe id=\"igraph\" scrolling=\"no\" style=\"border:none;\" seamless=\"seamless\" src=\"https://plot.ly/~ppatterson/48.embed\" height=\"800px\" width=\"1000px\"></iframe>"
      ],
      "text/plain": [
       "<plotly.tools.PlotlyDisplay object>"
      ]
     },
     "execution_count": 84,
     "metadata": {},
     "output_type": "execute_result"
    }
   ],
   "source": [
    "barPlot('San Francisco')"
   ]
  },
  {
   "cell_type": "code",
   "execution_count": null,
   "metadata": {
    "collapsed": true
   },
   "outputs": [],
   "source": []
  }
 ],
 "metadata": {
  "anaconda-cloud": {},
  "kernelspec": {
   "display_name": "Python [default]",
   "language": "python",
   "name": "python2"
  },
  "language_info": {
   "codemirror_mode": {
    "name": "ipython",
    "version": 2
   },
   "file_extension": ".py",
   "mimetype": "text/x-python",
   "name": "python",
   "nbconvert_exporter": "python",
   "pygments_lexer": "ipython2",
   "version": "2.7.12"
  }
 },
 "nbformat": 4,
 "nbformat_minor": 0
}
